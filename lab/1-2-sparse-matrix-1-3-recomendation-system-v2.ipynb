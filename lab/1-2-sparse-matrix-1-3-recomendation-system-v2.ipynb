{
 "cells": [
  {
   "cell_type": "markdown",
   "metadata": {},
   "source": [
    "# 1-2 Create spare matrix"
   ]
  },
  {
   "cell_type": "code",
   "execution_count": 1,
   "metadata": {},
   "outputs": [],
   "source": [
    "import pandas as pd\n",
    "import numpy as np"
   ]
  },
  {
   "cell_type": "code",
   "execution_count": 2,
   "metadata": {},
   "outputs": [],
   "source": [
    "movies_raw = pd.read_csv('./data/movies_big.csv', dtype={'movieId': 'int32'})\n",
    "ratings_raw = pd.read_csv('./data/ratings_big.csv', usecols=['userId', 'movieId', 'rating'], dtype={'movieId': 'int32', 'userId':'int32', 'rating':'float32'})"
   ]
  },
  {
   "cell_type": "code",
   "execution_count": 3,
   "metadata": {},
   "outputs": [],
   "source": [
    "def create_id_and_csr_index_dictionary(data_frame: pd.DataFrame, column: str, csr_id_first: bool = False) -> dict:\n",
    "    unique_id_dict = pd.DataFrame(data_frame[column].sort_values().unique()).to_dict()[0]\n",
    "    if csr_id_first:\n",
    "        return unique_id_dict\n",
    "    return dict(zip(unique_id_dict.values(), unique_id_dict.keys()))\n",
    "\n",
    "movieId_dict = create_id_and_csr_index_dictionary(ratings_raw, 'movieId')\n",
    "userId_dict = create_id_and_csr_index_dictionary(ratings_raw, 'userId')"
   ]
  },
  {
   "cell_type": "code",
   "execution_count": 4,
   "metadata": {},
   "outputs": [
    {
     "data": {
      "text/html": [
       "<div>\n",
       "<style scoped>\n",
       "    .dataframe tbody tr th:only-of-type {\n",
       "        vertical-align: middle;\n",
       "    }\n",
       "\n",
       "    .dataframe tbody tr th {\n",
       "        vertical-align: top;\n",
       "    }\n",
       "\n",
       "    .dataframe thead th {\n",
       "        text-align: right;\n",
       "    }\n",
       "</style>\n",
       "<table border=\"1\" class=\"dataframe\">\n",
       "  <thead>\n",
       "    <tr style=\"text-align: right;\">\n",
       "      <th></th>\n",
       "      <th>userId</th>\n",
       "      <th>movieId</th>\n",
       "      <th>rating</th>\n",
       "    </tr>\n",
       "  </thead>\n",
       "  <tbody>\n",
       "    <tr>\n",
       "      <th>42</th>\n",
       "      <td>4</td>\n",
       "      <td>1</td>\n",
       "      <td>4.0</td>\n",
       "    </tr>\n",
       "    <tr>\n",
       "      <th>939</th>\n",
       "      <td>10</td>\n",
       "      <td>1</td>\n",
       "      <td>5.0</td>\n",
       "    </tr>\n",
       "    <tr>\n",
       "      <th>1117</th>\n",
       "      <td>14</td>\n",
       "      <td>1</td>\n",
       "      <td>4.5</td>\n",
       "    </tr>\n",
       "    <tr>\n",
       "      <th>1291</th>\n",
       "      <td>15</td>\n",
       "      <td>1</td>\n",
       "      <td>4.0</td>\n",
       "    </tr>\n",
       "    <tr>\n",
       "      <th>1869</th>\n",
       "      <td>22</td>\n",
       "      <td>1</td>\n",
       "      <td>4.0</td>\n",
       "    </tr>\n",
       "  </tbody>\n",
       "</table>\n",
       "</div>"
      ],
      "text/plain": [
       "      userId  movieId  rating\n",
       "42         4        1     4.0\n",
       "939       10        1     5.0\n",
       "1117      14        1     4.5\n",
       "1291      15        1     4.0\n",
       "1869      22        1     4.0"
      ]
     },
     "execution_count": 4,
     "metadata": {},
     "output_type": "execute_result"
    }
   ],
   "source": [
    "ratings_raw.sort_values(['movieId', 'userId']).head()"
   ]
  },
  {
   "cell_type": "code",
   "execution_count": 5,
   "metadata": {},
   "outputs": [
    {
     "data": {
      "text/plain": [
       "[[1, 4, 4.0], [1, 10, 5.0], [1, 14, 4.5], [1, 15, 4.0], [1, 22, 4.0]]"
      ]
     },
     "execution_count": 5,
     "metadata": {},
     "output_type": "execute_result"
    }
   ],
   "source": [
    "ratings_raw_row_lists = [[row.movieId, row.userId, row.rating] for row in ratings_raw.sort_values(['movieId', 'userId']).itertuples()]\n",
    "ratings_raw_row_lists[:5]"
   ]
  },
  {
   "cell_type": "code",
   "execution_count": 6,
   "metadata": {},
   "outputs": [
    {
     "data": {
      "text/plain": [
       "[[0, 3, 4.0], [0, 9, 5.0], [0, 13, 4.5], [0, 14, 4.0], [0, 21, 4.0]]"
      ]
     },
     "execution_count": 6,
     "metadata": {},
     "output_type": "execute_result"
    }
   ],
   "source": [
    "ratings_raw_converted_into_rows_and_columns = [\n",
    "    [movieId_dict[row_list[0]], userId_dict[row_list[1]], row_list[2]]\n",
    "    for row_list in ratings_raw_row_lists\n",
    "]\n",
    "ratings_raw_converted_into_rows_and_columns[:5]"
   ]
  },
  {
   "cell_type": "code",
   "execution_count": 7,
   "metadata": {},
   "outputs": [
    {
     "data": {
      "text/plain": [
       "(array([0, 0, 0, 0, 0]),\n",
       " array([ 3,  9, 13, 14, 21]),\n",
       " array([4. , 5. , 4.5, 4. , 4. ]))"
      ]
     },
     "execution_count": 7,
     "metadata": {},
     "output_type": "execute_result"
    }
   ],
   "source": [
    "column = np.array([item[0] for item in ratings_raw_converted_into_rows_and_columns])\n",
    "row = np.array([item[1] for item in ratings_raw_converted_into_rows_and_columns])\n",
    "data = np.array([item[2] for item in ratings_raw_converted_into_rows_and_columns])\n",
    "column[:5], row[:5], data[:5]"
   ]
  },
  {
   "cell_type": "code",
   "execution_count": 8,
   "metadata": {},
   "outputs": [
    {
     "data": {
      "text/plain": [
       "(53889, 283228, 27753444, 27753444, 27753444, 3752314366)"
      ]
     },
     "execution_count": 8,
     "metadata": {},
     "output_type": "execute_result"
    }
   ],
   "source": [
    "len(movieId_dict), len(userId_dict), len(column), len(row), len(data), 13466 * 278651"
   ]
  },
  {
   "cell_type": "code",
   "execution_count": 9,
   "metadata": {},
   "outputs": [
    {
     "data": {
      "text/plain": [
       "(<53889x283228 sparse matrix of type '<class 'numpy.float64'>'\n",
       " \twith 27753444 stored elements in Compressed Sparse Column format>,\n",
       " (53889, 283228))"
      ]
     },
     "execution_count": 9,
     "metadata": {},
     "output_type": "execute_result"
    }
   ],
   "source": [
    "from scipy.sparse import csr_matrix\n",
    "from sklearn.neighbors import NearestNeighbors\n",
    "\n",
    "ratings_csr_matrix = csr_matrix((data, (row, column))).T\n",
    "\n",
    "model_knn = NearestNeighbors(metric='cosine', algorithm='brute', n_neighbors=5)\n",
    "model_knn.fit(ratings_csr_matrix)\n",
    "\n",
    "ratings_csr_matrix, ratings_csr_matrix.shape"
   ]
  },
  {
   "cell_type": "markdown",
   "metadata": {},
   "source": [
    "# 1-3 Recommendation system"
   ]
  },
  {
   "cell_type": "code",
   "execution_count": 10,
   "metadata": {},
   "outputs": [],
   "source": [
    "csr_movieId_dict = create_id_and_csr_index_dictionary(ratings_raw, 'movieId', True)"
   ]
  },
  {
   "cell_type": "code",
   "execution_count": 11,
   "metadata": {},
   "outputs": [
    {
     "data": {
      "text/html": [
       "<div>\n",
       "<style scoped>\n",
       "    .dataframe tbody tr th:only-of-type {\n",
       "        vertical-align: middle;\n",
       "    }\n",
       "\n",
       "    .dataframe tbody tr th {\n",
       "        vertical-align: top;\n",
       "    }\n",
       "\n",
       "    .dataframe thead th {\n",
       "        text-align: right;\n",
       "    }\n",
       "</style>\n",
       "<table border=\"1\" class=\"dataframe\">\n",
       "  <thead>\n",
       "    <tr style=\"text-align: right;\">\n",
       "      <th></th>\n",
       "      <th>movieId</th>\n",
       "      <th>title</th>\n",
       "      <th>genres</th>\n",
       "    </tr>\n",
       "  </thead>\n",
       "  <tbody>\n",
       "    <tr>\n",
       "      <th>257</th>\n",
       "      <td>260</td>\n",
       "      <td>Star Wars: Episode IV - A New Hope (1977)</td>\n",
       "      <td>Action|Adventure|Sci-Fi</td>\n",
       "    </tr>\n",
       "    <tr>\n",
       "      <th>352</th>\n",
       "      <td>356</td>\n",
       "      <td>Forrest Gump (1994)</td>\n",
       "      <td>Comedy|Drama|Romance|War</td>\n",
       "    </tr>\n",
       "    <tr>\n",
       "      <th>360</th>\n",
       "      <td>364</td>\n",
       "      <td>Lion King, The (1994)</td>\n",
       "      <td>Adventure|Animation|Children|Drama|Musical|IMAX</td>\n",
       "    </tr>\n",
       "    <tr>\n",
       "      <th>476</th>\n",
       "      <td>480</td>\n",
       "      <td>Jurassic Park (1993)</td>\n",
       "      <td>Action|Adventure|Sci-Fi|Thriller</td>\n",
       "    </tr>\n",
       "    <tr>\n",
       "      <th>582</th>\n",
       "      <td>588</td>\n",
       "      <td>Aladdin (1992)</td>\n",
       "      <td>Adventure|Animation|Children|Comedy|Musical</td>\n",
       "    </tr>\n",
       "    <tr>\n",
       "      <th>640</th>\n",
       "      <td>648</td>\n",
       "      <td>Mission: Impossible (1996)</td>\n",
       "      <td>Action|Adventure|Mystery|Thriller</td>\n",
       "    </tr>\n",
       "    <tr>\n",
       "      <th>767</th>\n",
       "      <td>780</td>\n",
       "      <td>Independence Day (a.k.a. ID4) (1996)</td>\n",
       "      <td>Action|Adventure|Sci-Fi|Thriller</td>\n",
       "    </tr>\n",
       "    <tr>\n",
       "      <th>1184</th>\n",
       "      <td>1210</td>\n",
       "      <td>Star Wars: Episode VI - Return of the Jedi (1983)</td>\n",
       "      <td>Action|Adventure|Sci-Fi</td>\n",
       "    </tr>\n",
       "    <tr>\n",
       "      <th>1242</th>\n",
       "      <td>1270</td>\n",
       "      <td>Back to the Future (1985)</td>\n",
       "      <td>Adventure|Comedy|Sci-Fi</td>\n",
       "    </tr>\n",
       "    <tr>\n",
       "      <th>3028</th>\n",
       "      <td>3114</td>\n",
       "      <td>Toy Story 2 (1999)</td>\n",
       "      <td>Adventure|Animation|Children|Comedy|Fantasy</td>\n",
       "    </tr>\n",
       "  </tbody>\n",
       "</table>\n",
       "</div>"
      ],
      "text/plain": [
       "      movieId                                              title  \\\n",
       "257       260          Star Wars: Episode IV - A New Hope (1977)   \n",
       "352       356                                Forrest Gump (1994)   \n",
       "360       364                              Lion King, The (1994)   \n",
       "476       480                               Jurassic Park (1993)   \n",
       "582       588                                     Aladdin (1992)   \n",
       "640       648                         Mission: Impossible (1996)   \n",
       "767       780               Independence Day (a.k.a. ID4) (1996)   \n",
       "1184     1210  Star Wars: Episode VI - Return of the Jedi (1983)   \n",
       "1242     1270                          Back to the Future (1985)   \n",
       "3028     3114                                 Toy Story 2 (1999)   \n",
       "\n",
       "                                               genres  \n",
       "257                           Action|Adventure|Sci-Fi  \n",
       "352                          Comedy|Drama|Romance|War  \n",
       "360   Adventure|Animation|Children|Drama|Musical|IMAX  \n",
       "476                  Action|Adventure|Sci-Fi|Thriller  \n",
       "582       Adventure|Animation|Children|Comedy|Musical  \n",
       "640                 Action|Adventure|Mystery|Thriller  \n",
       "767                  Action|Adventure|Sci-Fi|Thriller  \n",
       "1184                          Action|Adventure|Sci-Fi  \n",
       "1242                          Adventure|Comedy|Sci-Fi  \n",
       "3028      Adventure|Animation|Children|Comedy|Fantasy  "
      ]
     },
     "execution_count": 11,
     "metadata": {},
     "output_type": "execute_result"
    }
   ],
   "source": [
    "from fuzzywuzzy import process\n",
    "\n",
    "def recommend_movies(movie_name, number_of_recommendations):\n",
    "    search_index = process.extractOne(movie_name, movies_raw['title'])\n",
    "    _distances, csr_indices = model_knn.kneighbors(\n",
    "        ratings_csr_matrix[search_index[2]], n_neighbors=number_of_recommendations+1\n",
    "    )\n",
    "    recomendation_list_movieIds = [\n",
    "        csr_movieId_dict[csr_index]\n",
    "        for csr_index in csr_indices[0]\n",
    "        if csr_index != search_index[2]\n",
    "    ]\n",
    "\n",
    "    return movies_raw.query(f'movieId == {recomendation_list_movieIds}')\n",
    "\n",
    "recommend_movies('toy story', 10)"
   ]
  }
 ],
 "metadata": {
  "interpreter": {
   "hash": "e51c63e2fa96bdee1d022b3260efb3b75a99f074551b3f9632d2fa65f13bcac4"
  },
  "kernelspec": {
   "display_name": "Python 3.9.9 ('machine-learning-8KGYMX4H')",
   "language": "python",
   "name": "python3"
  },
  "language_info": {
   "codemirror_mode": {
    "name": "ipython",
    "version": 3
   },
   "file_extension": ".py",
   "mimetype": "text/x-python",
   "name": "python",
   "nbconvert_exporter": "python",
   "pygments_lexer": "ipython3",
   "version": "3.9.9"
  },
  "orig_nbformat": 4
 },
 "nbformat": 4,
 "nbformat_minor": 2
}
