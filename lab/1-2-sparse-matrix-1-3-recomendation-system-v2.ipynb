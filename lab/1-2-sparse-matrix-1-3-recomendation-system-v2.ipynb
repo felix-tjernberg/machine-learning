{
 "cells": [
  {
   "cell_type": "markdown",
   "metadata": {},
   "source": [
    "# 1-2 Create spare matrix"
   ]
  },
  {
   "cell_type": "code",
   "execution_count": 6,
   "metadata": {},
   "outputs": [],
   "source": [
    "import pandas as pd\n",
    "import numpy as np"
   ]
  },
  {
   "cell_type": "code",
   "execution_count": 7,
   "metadata": {},
   "outputs": [],
   "source": [
    "movies_raw = pd.read_csv('./data/movies_big.csv', dtype={'movieId': 'int32'})\n",
    "ratings_raw = pd.read_csv('./data/ratings_big.csv', usecols=['userId', 'movieId', 'rating'], dtype={'movieId': 'int32', 'userId':'int32', 'rating':'float16'})"
   ]
  },
  {
   "cell_type": "code",
   "execution_count": 8,
   "metadata": {},
   "outputs": [
    {
     "name": "stdout",
     "output_type": "stream",
     "text": [
      "<class 'pandas.core.frame.DataFrame'>\n",
      "RangeIndex: 27753444 entries, 0 to 27753443\n",
      "Data columns (total 3 columns):\n",
      " #   Column   Dtype  \n",
      "---  ------   -----  \n",
      " 0   userId   int32  \n",
      " 1   movieId  int32  \n",
      " 2   rating   float16\n",
      "dtypes: float16(1), int32(2)\n",
      "memory usage: 264.7 MB\n"
     ]
    }
   ],
   "source": [
    "ratings_raw.info()"
   ]
  },
  {
   "cell_type": "code",
   "execution_count": 9,
   "metadata": {},
   "outputs": [
    {
     "data": {
      "text/plain": [
       "(array([   307,    481,   1091, ..., 117857, 133409, 142855], dtype=int32),\n",
       " array([     1,      2,      3, ..., 283226, 283227, 283228], dtype=int32))"
      ]
     },
     "execution_count": 9,
     "metadata": {},
     "output_type": "execute_result"
    }
   ],
   "source": [
    "all_movieId = ratings_raw['movieId'].unique()\n",
    "all_userId = ratings_raw['userId'].unique()\n",
    "\n",
    "all_movieId, all_userId"
   ]
  },
  {
   "cell_type": "code",
   "execution_count": 26,
   "metadata": {},
   "outputs": [],
   "source": [
    "def create_id_and_csr_index_dictionary(data_frame: pd.DataFrame, column: str, csr_id_first: bool = False) -> dict:\n",
    "    unique_id_dict = pd.DataFrame(data_frame[column].unique()).to_dict()[0]\n",
    "    if not csr_id_first:\n",
    "        return dict(zip(unique_id_dict.values(), unique_id_dict.keys()))\n",
    "    return unique_id_dict\n",
    "\n",
    "movieId_dict = create_id_and_csr_index_dictionary(ratings_raw, 'movieId')\n",
    "userId_dict = create_id_and_csr_index_dictionary(ratings_raw, 'userId')"
   ]
  },
  {
   "cell_type": "code",
   "execution_count": 14,
   "metadata": {},
   "outputs": [
    {
     "data": {
      "text/plain": [
       "[[1, 307, 3.5], [1, 481, 3.5], [1, 1091, 1.5], [1, 1257, 4.5], [1, 1449, 4.5]]"
      ]
     },
     "execution_count": 14,
     "metadata": {},
     "output_type": "execute_result"
    }
   ],
   "source": [
    "ratings_raw_row_lists = [[row.userId, row.movieId, row.rating] for row in ratings_raw.itertuples()]\n",
    "ratings_raw_row_lists[:5]"
   ]
  },
  {
   "cell_type": "code",
   "execution_count": 15,
   "metadata": {},
   "outputs": [
    {
     "data": {
      "text/plain": [
       "27753444"
      ]
     },
     "execution_count": 15,
     "metadata": {},
     "output_type": "execute_result"
    }
   ],
   "source": [
    "len(ratings_raw_row_lists)"
   ]
  },
  {
   "cell_type": "code",
   "execution_count": 16,
   "metadata": {},
   "outputs": [],
   "source": [
    "converted_into_rows_and_columns_list = [[userId_dict[row_list[0]], movieId_dict[row_list[1]], row_list[2]] for row_list in ratings_raw_row_lists]"
   ]
  },
  {
   "cell_type": "code",
   "execution_count": 17,
   "metadata": {},
   "outputs": [
    {
     "data": {
      "text/plain": [
       "<27753444x3 sparse matrix of type '<class 'numpy.float64'>'\n",
       "\twith 83252358 stored elements in Compressed Sparse Row format>"
      ]
     },
     "execution_count": 17,
     "metadata": {},
     "output_type": "execute_result"
    }
   ],
   "source": [
    "from scipy.sparse import csr_matrix\n",
    "ratings_csr_matrix = csr_matrix(converted_into_rows_and_columns_list)\n",
    "ratings_csr_matrix"
   ]
  },
  {
   "cell_type": "code",
   "execution_count": 20,
   "metadata": {},
   "outputs": [
    {
     "data": {
      "text/plain": [
       "NearestNeighbors(algorithm='brute', metric='cosine')"
      ]
     },
     "execution_count": 20,
     "metadata": {},
     "output_type": "execute_result"
    }
   ],
   "source": [
    "from sklearn.neighbors import NearestNeighbors\n",
    "\n",
    "model_knn = NearestNeighbors(metric='cosine', algorithm='brute', n_neighbors=5)\n",
    "model_knn.fit(ratings_csr_matrix)"
   ]
  },
  {
   "cell_type": "code",
   "execution_count": 18,
   "metadata": {},
   "outputs": [
    {
     "data": {
      "text/html": [
       "<div>\n",
       "<style scoped>\n",
       "    .dataframe tbody tr th:only-of-type {\n",
       "        vertical-align: middle;\n",
       "    }\n",
       "\n",
       "    .dataframe tbody tr th {\n",
       "        vertical-align: top;\n",
       "    }\n",
       "\n",
       "    .dataframe thead th {\n",
       "        text-align: right;\n",
       "    }\n",
       "</style>\n",
       "<table border=\"1\" class=\"dataframe\">\n",
       "  <thead>\n",
       "    <tr style=\"text-align: right;\">\n",
       "      <th></th>\n",
       "      <th>movieId</th>\n",
       "      <th>title</th>\n",
       "      <th>genres</th>\n",
       "    </tr>\n",
       "  </thead>\n",
       "  <tbody>\n",
       "    <tr>\n",
       "      <th>0</th>\n",
       "      <td>1</td>\n",
       "      <td>Toy Story (1995)</td>\n",
       "      <td>Adventure|Animation|Children|Comedy|Fantasy</td>\n",
       "    </tr>\n",
       "    <tr>\n",
       "      <th>1</th>\n",
       "      <td>2</td>\n",
       "      <td>Jumanji (1995)</td>\n",
       "      <td>Adventure|Children|Fantasy</td>\n",
       "    </tr>\n",
       "    <tr>\n",
       "      <th>2</th>\n",
       "      <td>3</td>\n",
       "      <td>Grumpier Old Men (1995)</td>\n",
       "      <td>Comedy|Romance</td>\n",
       "    </tr>\n",
       "    <tr>\n",
       "      <th>3</th>\n",
       "      <td>4</td>\n",
       "      <td>Waiting to Exhale (1995)</td>\n",
       "      <td>Comedy|Drama|Romance</td>\n",
       "    </tr>\n",
       "    <tr>\n",
       "      <th>4</th>\n",
       "      <td>5</td>\n",
       "      <td>Father of the Bride Part II (1995)</td>\n",
       "      <td>Comedy</td>\n",
       "    </tr>\n",
       "  </tbody>\n",
       "</table>\n",
       "</div>"
      ],
      "text/plain": [
       "   movieId                               title  \\\n",
       "0        1                    Toy Story (1995)   \n",
       "1        2                      Jumanji (1995)   \n",
       "2        3             Grumpier Old Men (1995)   \n",
       "3        4            Waiting to Exhale (1995)   \n",
       "4        5  Father of the Bride Part II (1995)   \n",
       "\n",
       "                                        genres  \n",
       "0  Adventure|Animation|Children|Comedy|Fantasy  \n",
       "1                   Adventure|Children|Fantasy  \n",
       "2                               Comedy|Romance  \n",
       "3                         Comedy|Drama|Romance  \n",
       "4                                       Comedy  "
      ]
     },
     "execution_count": 18,
     "metadata": {},
     "output_type": "execute_result"
    }
   ],
   "source": [
    "movies_raw.head()"
   ]
  },
  {
   "cell_type": "markdown",
   "metadata": {},
   "source": [
    "# 1-3 Recommendation system"
   ]
  },
  {
   "cell_type": "code",
   "execution_count": 29,
   "metadata": {},
   "outputs": [],
   "source": [
    "csr_movieId_dict = create_id_and_csr_index_dictionary(ratings_raw, 'movieId', True)"
   ]
  },
  {
   "cell_type": "code",
   "execution_count": 35,
   "metadata": {},
   "outputs": [
    {
     "data": {
      "text/plain": [
       "movieId                                              1\n",
       "title                                 Toy Story (1995)\n",
       "genres     Adventure|Animation|Children|Comedy|Fantasy\n",
       "Name: 0, dtype: object"
      ]
     },
     "execution_count": 35,
     "metadata": {},
     "output_type": "execute_result"
    }
   ],
   "source": [
    "movies_raw.iloc[0]"
   ]
  },
  {
   "cell_type": "code",
   "execution_count": 59,
   "metadata": {},
   "outputs": [
    {
     "name": "stdout",
     "output_type": "stream",
     "text": [
      "1\n",
      "42\n",
      "[[  0   1   3 148   4 870   2   7 268 269]]\n"
     ]
    },
    {
     "data": {
      "text/plain": [
       "['Kalifornia (1993)481[481]',\n",
       " 'Better Off Dead... (1985)1257[1257]',\n",
       " 'Executive Decision (1996)494[494]',\n",
       " 'Waiting for Guffman (1996)1449[1449]',\n",
       " 'Citizen Kane (1941)923[923]',\n",
       " \"Weekend at Bernie's (1989)1091[1091]\",\n",
       " 'Weird Science (1985)2134[2134]',\n",
       " 'Air Force One (1997)1608[1608]',\n",
       " 'Hunt for Red October, The (1990)1610[1610]']"
      ]
     },
     "execution_count": 59,
     "metadata": {},
     "output_type": "execute_result"
    }
   ],
   "source": [
    "from fuzzywuzzy import process\n",
    "\n",
    "def recommend_movies(movie_name, number_of_recommendations):\n",
    "    search_index = process.extractOne(movie_name, movies_raw['title'])\n",
    "    search_movieId = movies_raw.iloc[search_index[2]]['movieId']\n",
    "    search_csr_index = movieId_dict[search_movieId]\n",
    "    print(search_movieId)\n",
    "    print(search_csr_index)\n",
    "    _distances, csr_indices = model_knn.kneighbors(\n",
    "        ratings_csr_matrix[search_index[2]], n_neighbors=number_of_recommendations\n",
    "    )\n",
    "    print(csr_indices)\n",
    "    recomendation_list = [\n",
    "        movies_raw.query(f'movieId == {csr_movieId_dict[csr_index]}')['title'].values[0]\n",
    "        + str(csr_movieId_dict[csr_index])\n",
    "        + str(movies_raw.query(f'movieId == {csr_movieId_dict[csr_index]}')['movieId'].values)\n",
    "        for csr_index in csr_indices[0]\n",
    "        if csr_index != search_index[2]\n",
    "    ]\n",
    "    return recomendation_list\n",
    "\n",
    "recommend_movies('toy story', 10)"
   ]
  },
  {
   "cell_type": "code",
   "execution_count": null,
   "metadata": {},
   "outputs": [],
   "source": [
    "# def main():\n",
    "#     user_title_input = str(input('Please input a movie title'))\n",
    "#     user_number_of_recomendations_input = int(input('Please amount of recomendations'))\n",
    "#     print('Naive film search recomendations are:')\n",
    "#     for recomendation in recommend_movies(user_title_input, user_number_of_recomendations_input):\n",
    "#         print(recomendation)\n",
    "\n",
    "# main()"
   ]
  }
 ],
 "metadata": {
  "interpreter": {
   "hash": "e51c63e2fa96bdee1d022b3260efb3b75a99f074551b3f9632d2fa65f13bcac4"
  },
  "kernelspec": {
   "display_name": "Python 3.9.9 ('machine-learning-8KGYMX4H')",
   "language": "python",
   "name": "python3"
  },
  "language_info": {
   "codemirror_mode": {
    "name": "ipython",
    "version": 3
   },
   "file_extension": ".py",
   "mimetype": "text/x-python",
   "name": "python",
   "nbconvert_exporter": "python",
   "pygments_lexer": "ipython3",
   "version": "3.9.9"
  },
  "orig_nbformat": 4
 },
 "nbformat": 4,
 "nbformat_minor": 2
}
