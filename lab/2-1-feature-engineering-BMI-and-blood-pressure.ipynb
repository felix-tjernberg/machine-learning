{
 "cells": [
  {
   "cell_type": "markdown",
   "metadata": {},
   "source": [
    "# 2.1 Feature engineering BMI"
   ]
  },
  {
   "cell_type": "markdown",
   "metadata": {},
   "source": [
    "_\"BMI divides the weight by too large a number for short people and too small a number for tall people. So short people are misled into thinking that they are thinner than they are, and tall people are misled into thinking they are fatter.\"_\n",
    "\n",
    "_A new formula for computing Body Mass Index that accounts for the distortions of the traditional BMI formula for shorter and taller individuals has been proposed by Nick Trefethen_\n",
    "\n",
    "source: https://en.wikipedia.org/wiki/Body_mass_index"
   ]
  },
  {
   "cell_type": "markdown",
   "metadata": {},
   "source": [
    "$$ BMI_{new} = 1.3 \\frac{mass_{kg}}{height^{2.5}_{m}} $$"
   ]
  },
  {
   "cell_type": "code",
   "execution_count": 36,
   "metadata": {},
   "outputs": [],
   "source": [
    "import pandas as pd"
   ]
  },
  {
   "cell_type": "code",
   "execution_count": 37,
   "metadata": {},
   "outputs": [
    {
     "data": {
      "text/html": [
       "<div>\n",
       "<style scoped>\n",
       "    .dataframe tbody tr th:only-of-type {\n",
       "        vertical-align: middle;\n",
       "    }\n",
       "\n",
       "    .dataframe tbody tr th {\n",
       "        vertical-align: top;\n",
       "    }\n",
       "\n",
       "    .dataframe thead th {\n",
       "        text-align: right;\n",
       "    }\n",
       "</style>\n",
       "<table border=\"1\" class=\"dataframe\">\n",
       "  <thead>\n",
       "    <tr style=\"text-align: right;\">\n",
       "      <th></th>\n",
       "      <th>height</th>\n",
       "      <th>weight</th>\n",
       "    </tr>\n",
       "  </thead>\n",
       "  <tbody>\n",
       "    <tr>\n",
       "      <th>0</th>\n",
       "      <td>168</td>\n",
       "      <td>62.0</td>\n",
       "    </tr>\n",
       "    <tr>\n",
       "      <th>1</th>\n",
       "      <td>156</td>\n",
       "      <td>85.0</td>\n",
       "    </tr>\n",
       "    <tr>\n",
       "      <th>2</th>\n",
       "      <td>165</td>\n",
       "      <td>64.0</td>\n",
       "    </tr>\n",
       "    <tr>\n",
       "      <th>3</th>\n",
       "      <td>169</td>\n",
       "      <td>82.0</td>\n",
       "    </tr>\n",
       "    <tr>\n",
       "      <th>4</th>\n",
       "      <td>156</td>\n",
       "      <td>56.0</td>\n",
       "    </tr>\n",
       "  </tbody>\n",
       "</table>\n",
       "</div>"
      ],
      "text/plain": [
       "   height  weight\n",
       "0     168    62.0\n",
       "1     156    85.0\n",
       "2     165    64.0\n",
       "3     169    82.0\n",
       "4     156    56.0"
      ]
     },
     "execution_count": 37,
     "metadata": {},
     "output_type": "execute_result"
    }
   ],
   "source": [
    "height_weight_raw = pd.read_csv(\"./data/cardio_train.csv\", sep=\";\", usecols=['height', 'weight'])\n",
    "height_weight_raw.head()"
   ]
  },
  {
   "cell_type": "markdown",
   "metadata": {},
   "source": [
    "## 2.0"
   ]
  },
  {
   "cell_type": "markdown",
   "metadata": {},
   "source": [
    "### a)"
   ]
  },
  {
   "cell_type": "code",
   "execution_count": 38,
   "metadata": {},
   "outputs": [
    {
     "name": "stdout",
     "output_type": "stream",
     "text": [
      "<class 'pandas.core.frame.DataFrame'>\n",
      "RangeIndex: 70000 entries, 0 to 69999\n",
      "Data columns (total 2 columns):\n",
      " #   Column  Non-Null Count  Dtype  \n",
      "---  ------  --------------  -----  \n",
      " 0   height  70000 non-null  int64  \n",
      " 1   weight  70000 non-null  float64\n",
      "dtypes: float64(1), int64(1)\n",
      "memory usage: 1.1 MB\n"
     ]
    }
   ],
   "source": [
    "height_weight_raw.info()"
   ]
  },
  {
   "cell_type": "code",
   "execution_count": 39,
   "metadata": {},
   "outputs": [
    {
     "data": {
      "text/plain": [
       "array([168, 156, 165, 169, 151, 157, 178, 158, 164, 173, 181, 172, 170,\n",
       "       154, 162, 163, 153, 159, 166, 155, 160, 175, 171, 152, 187, 148,\n",
       "       179, 180, 188, 185, 167, 183, 174, 176, 161, 184, 177, 182,  76,\n",
       "       149, 142, 150, 144, 147, 186, 146, 141, 195, 140, 198, 145, 143,\n",
       "       196, 138, 194, 190, 134, 136, 100, 120, 189, 137, 192, 122, 250,\n",
       "       191, 117,  70,  97, 119, 130, 110, 193,  75, 132,  71, 135,  67,\n",
       "       125, 139, 133,  74,  98, 112, 207,  68,  55,  81,  80,  64,  91,\n",
       "        60, 109,  72, 197,  65, 128, 105, 108, 200, 104, 111, 113,  96,\n",
       "       131,  59,  66,  99,  57], dtype=int64)"
      ]
     },
     "execution_count": 39,
     "metadata": {},
     "output_type": "execute_result"
    }
   ],
   "source": [
    "height_weight_raw['height'].unique()"
   ]
  },
  {
   "cell_type": "markdown",
   "metadata": {},
   "source": [
    "_In humans, it is sometimes defined as an adult height of less than 147 centimetres_\n",
    "source: https://en.wikipedia.org/wiki/Dwarfism"
   ]
  },
  {
   "cell_type": "code",
   "execution_count": 40,
   "metadata": {},
   "outputs": [
    {
     "name": "stdout",
     "output_type": "stream",
     "text": [
      "<class 'pandas.core.frame.DataFrame'>\n",
      "Int64Index: 639 entries, 249 to 69934\n",
      "Data columns (total 2 columns):\n",
      " #   Column  Non-Null Count  Dtype  \n",
      "---  ------  --------------  -----  \n",
      " 0   height  639 non-null    int64  \n",
      " 1   weight  639 non-null    float64\n",
      "dtypes: float64(1), int64(1)\n",
      "memory usage: 15.0 KB\n"
     ]
    }
   ],
   "source": [
    "height_weight_raw.query('height < 147 & height > 100').info()"
   ]
  },
  {
   "cell_type": "code",
   "execution_count": 41,
   "metadata": {},
   "outputs": [
    {
     "data": {
      "text/plain": [
       "0    1.68\n",
       "1    1.56\n",
       "2    1.65\n",
       "3    1.69\n",
       "4    1.56\n",
       "Name: height, dtype: float64"
      ]
     },
     "execution_count": 41,
     "metadata": {},
     "output_type": "execute_result"
    }
   ],
   "source": [
    "height_in_m = height_weight_raw.query('height > 147')['height'].apply(lambda height: height * 0.01)\n",
    "height_in_m.head()"
   ]
  },
  {
   "cell_type": "code",
   "execution_count": 42,
   "metadata": {},
   "outputs": [
    {
     "data": {
      "text/html": [
       "<div>\n",
       "<style scoped>\n",
       "    .dataframe tbody tr th:only-of-type {\n",
       "        vertical-align: middle;\n",
       "    }\n",
       "\n",
       "    .dataframe tbody tr th {\n",
       "        vertical-align: top;\n",
       "    }\n",
       "\n",
       "    .dataframe thead th {\n",
       "        text-align: right;\n",
       "    }\n",
       "</style>\n",
       "<table border=\"1\" class=\"dataframe\">\n",
       "  <thead>\n",
       "    <tr style=\"text-align: right;\">\n",
       "      <th></th>\n",
       "      <th>weight</th>\n",
       "      <th>height</th>\n",
       "    </tr>\n",
       "  </thead>\n",
       "  <tbody>\n",
       "    <tr>\n",
       "      <th>0</th>\n",
       "      <td>62.0</td>\n",
       "      <td>1.68</td>\n",
       "    </tr>\n",
       "    <tr>\n",
       "      <th>1</th>\n",
       "      <td>85.0</td>\n",
       "      <td>1.56</td>\n",
       "    </tr>\n",
       "    <tr>\n",
       "      <th>2</th>\n",
       "      <td>64.0</td>\n",
       "      <td>1.65</td>\n",
       "    </tr>\n",
       "    <tr>\n",
       "      <th>3</th>\n",
       "      <td>82.0</td>\n",
       "      <td>1.69</td>\n",
       "    </tr>\n",
       "    <tr>\n",
       "      <th>4</th>\n",
       "      <td>56.0</td>\n",
       "      <td>1.56</td>\n",
       "    </tr>\n",
       "    <tr>\n",
       "      <th>...</th>\n",
       "      <td>...</td>\n",
       "      <td>...</td>\n",
       "    </tr>\n",
       "    <tr>\n",
       "      <th>69995</th>\n",
       "      <td>76.0</td>\n",
       "      <td>1.68</td>\n",
       "    </tr>\n",
       "    <tr>\n",
       "      <th>69996</th>\n",
       "      <td>126.0</td>\n",
       "      <td>1.58</td>\n",
       "    </tr>\n",
       "    <tr>\n",
       "      <th>69997</th>\n",
       "      <td>105.0</td>\n",
       "      <td>1.83</td>\n",
       "    </tr>\n",
       "    <tr>\n",
       "      <th>69998</th>\n",
       "      <td>72.0</td>\n",
       "      <td>1.63</td>\n",
       "    </tr>\n",
       "    <tr>\n",
       "      <th>69999</th>\n",
       "      <td>72.0</td>\n",
       "      <td>1.70</td>\n",
       "    </tr>\n",
       "  </tbody>\n",
       "</table>\n",
       "<p>69104 rows × 2 columns</p>\n",
       "</div>"
      ],
      "text/plain": [
       "       weight  height\n",
       "0        62.0    1.68\n",
       "1        85.0    1.56\n",
       "2        64.0    1.65\n",
       "3        82.0    1.69\n",
       "4        56.0    1.56\n",
       "...       ...     ...\n",
       "69995    76.0    1.68\n",
       "69996   126.0    1.58\n",
       "69997   105.0    1.83\n",
       "69998    72.0    1.63\n",
       "69999    72.0    1.70\n",
       "\n",
       "[69104 rows x 2 columns]"
      ]
     },
     "execution_count": 42,
     "metadata": {},
     "output_type": "execute_result"
    }
   ],
   "source": [
    "height_weight_cleaned = height_weight_raw.drop(columns=['height']).join(height_in_m).dropna()\n",
    "height_weight_cleaned"
   ]
  },
  {
   "cell_type": "markdown",
   "metadata": {},
   "source": [
    "$$ BMI_{new} = 1.3 \\frac{mass_{kg}}{height^{2.5}_{m}} $$"
   ]
  },
  {
   "cell_type": "code",
   "execution_count": 43,
   "metadata": {},
   "outputs": [
    {
     "data": {
      "text/html": [
       "<div>\n",
       "<style scoped>\n",
       "    .dataframe tbody tr th:only-of-type {\n",
       "        vertical-align: middle;\n",
       "    }\n",
       "\n",
       "    .dataframe tbody tr th {\n",
       "        vertical-align: top;\n",
       "    }\n",
       "\n",
       "    .dataframe thead th {\n",
       "        text-align: right;\n",
       "    }\n",
       "</style>\n",
       "<table border=\"1\" class=\"dataframe\">\n",
       "  <thead>\n",
       "    <tr style=\"text-align: right;\">\n",
       "      <th></th>\n",
       "      <th>weight</th>\n",
       "      <th>height</th>\n",
       "      <th>BMI</th>\n",
       "    </tr>\n",
       "  </thead>\n",
       "  <tbody>\n",
       "    <tr>\n",
       "      <th>0</th>\n",
       "      <td>62.0</td>\n",
       "      <td>1.68</td>\n",
       "      <td>22.032402</td>\n",
       "    </tr>\n",
       "    <tr>\n",
       "      <th>1</th>\n",
       "      <td>85.0</td>\n",
       "      <td>1.56</td>\n",
       "      <td>36.353881</td>\n",
       "    </tr>\n",
       "    <tr>\n",
       "      <th>2</th>\n",
       "      <td>64.0</td>\n",
       "      <td>1.65</td>\n",
       "      <td>23.791042</td>\n",
       "    </tr>\n",
       "    <tr>\n",
       "      <th>3</th>\n",
       "      <td>82.0</td>\n",
       "      <td>1.69</td>\n",
       "      <td>28.710479</td>\n",
       "    </tr>\n",
       "    <tr>\n",
       "      <th>4</th>\n",
       "      <td>56.0</td>\n",
       "      <td>1.56</td>\n",
       "      <td>23.950792</td>\n",
       "    </tr>\n",
       "  </tbody>\n",
       "</table>\n",
       "</div>"
      ],
      "text/plain": [
       "   weight  height        BMI\n",
       "0    62.0    1.68  22.032402\n",
       "1    85.0    1.56  36.353881\n",
       "2    64.0    1.65  23.791042\n",
       "3    82.0    1.69  28.710479\n",
       "4    56.0    1.56  23.950792"
      ]
     },
     "execution_count": 43,
     "metadata": {},
     "output_type": "execute_result"
    }
   ],
   "source": [
    "bmi_raw = height_weight_cleaned.join(height_weight_cleaned.apply(lambda row: 1.3 * row.weight / pow(row.height, 2.5), axis=1).rename('BMI'))\n",
    "bmi_raw.head()"
   ]
  },
  {
   "cell_type": "code",
   "execution_count": 44,
   "metadata": {},
   "outputs": [
    {
     "data": {
      "text/plain": [
       "71.55773158363344"
      ]
     },
     "execution_count": 44,
     "metadata": {},
     "output_type": "execute_result"
    }
   ],
   "source": [
    "bmi_raw['BMI'].max()"
   ]
  },
  {
   "cell_type": "code",
   "execution_count": 45,
   "metadata": {},
   "outputs": [
    {
     "data": {
      "text/html": [
       "<div>\n",
       "<style scoped>\n",
       "    .dataframe tbody tr th:only-of-type {\n",
       "        vertical-align: middle;\n",
       "    }\n",
       "\n",
       "    .dataframe tbody tr th {\n",
       "        vertical-align: top;\n",
       "    }\n",
       "\n",
       "    .dataframe thead th {\n",
       "        text-align: right;\n",
       "    }\n",
       "</style>\n",
       "<table border=\"1\" class=\"dataframe\">\n",
       "  <thead>\n",
       "    <tr style=\"text-align: right;\">\n",
       "      <th></th>\n",
       "      <th>weight</th>\n",
       "      <th>height</th>\n",
       "      <th>BMI</th>\n",
       "    </tr>\n",
       "  </thead>\n",
       "  <tbody>\n",
       "    <tr>\n",
       "      <th>83</th>\n",
       "      <td>110.0</td>\n",
       "      <td>1.52</td>\n",
       "      <td>50.202699</td>\n",
       "    </tr>\n",
       "    <tr>\n",
       "      <th>338</th>\n",
       "      <td>142.0</td>\n",
       "      <td>1.57</td>\n",
       "      <td>59.769905</td>\n",
       "    </tr>\n",
       "    <tr>\n",
       "      <th>389</th>\n",
       "      <td>169.0</td>\n",
       "      <td>1.65</td>\n",
       "      <td>62.823221</td>\n",
       "    </tr>\n",
       "    <tr>\n",
       "      <th>435</th>\n",
       "      <td>200.0</td>\n",
       "      <td>1.86</td>\n",
       "      <td>55.104998</td>\n",
       "    </tr>\n",
       "    <tr>\n",
       "      <th>496</th>\n",
       "      <td>117.0</td>\n",
       "      <td>1.51</td>\n",
       "      <td>54.285875</td>\n",
       "    </tr>\n",
       "    <tr>\n",
       "      <th>...</th>\n",
       "      <td>...</td>\n",
       "      <td>...</td>\n",
       "      <td>...</td>\n",
       "    </tr>\n",
       "    <tr>\n",
       "      <th>66751</th>\n",
       "      <td>126.0</td>\n",
       "      <td>1.57</td>\n",
       "      <td>53.035268</td>\n",
       "    </tr>\n",
       "    <tr>\n",
       "      <th>66997</th>\n",
       "      <td>123.0</td>\n",
       "      <td>1.50</td>\n",
       "      <td>58.025690</td>\n",
       "    </tr>\n",
       "    <tr>\n",
       "      <th>67157</th>\n",
       "      <td>131.0</td>\n",
       "      <td>1.60</td>\n",
       "      <td>52.591395</td>\n",
       "    </tr>\n",
       "    <tr>\n",
       "      <th>68835</th>\n",
       "      <td>125.0</td>\n",
       "      <td>1.54</td>\n",
       "      <td>55.214299</td>\n",
       "    </tr>\n",
       "    <tr>\n",
       "      <th>69996</th>\n",
       "      <td>126.0</td>\n",
       "      <td>1.58</td>\n",
       "      <td>52.200081</td>\n",
       "    </tr>\n",
       "  </tbody>\n",
       "</table>\n",
       "<p>203 rows × 3 columns</p>\n",
       "</div>"
      ],
      "text/plain": [
       "       weight  height        BMI\n",
       "83      110.0    1.52  50.202699\n",
       "338     142.0    1.57  59.769905\n",
       "389     169.0    1.65  62.823221\n",
       "435     200.0    1.86  55.104998\n",
       "496     117.0    1.51  54.285875\n",
       "...       ...     ...        ...\n",
       "66751   126.0    1.57  53.035268\n",
       "66997   123.0    1.50  58.025690\n",
       "67157   131.0    1.60  52.591395\n",
       "68835   125.0    1.54  55.214299\n",
       "69996   126.0    1.58  52.200081\n",
       "\n",
       "[203 rows x 3 columns]"
      ]
     },
     "execution_count": 45,
     "metadata": {},
     "output_type": "execute_result"
    }
   ],
   "source": [
    "bmi_raw.query('BMI > 50')"
   ]
  },
  {
   "cell_type": "code",
   "execution_count": 46,
   "metadata": {},
   "outputs": [
    {
     "name": "stdout",
     "output_type": "stream",
     "text": [
      "<class 'pandas.core.frame.DataFrame'>\n",
      "Int64Index: 84 entries, 389 to 67492\n",
      "Data columns (total 3 columns):\n",
      " #   Column  Non-Null Count  Dtype  \n",
      "---  ------  --------------  -----  \n",
      " 0   weight  84 non-null     float64\n",
      " 1   height  84 non-null     float64\n",
      " 2   BMI     84 non-null     float64\n",
      "dtypes: float64(3)\n",
      "memory usage: 2.6 KB\n"
     ]
    }
   ],
   "source": [
    "bmi_raw.query('BMI < 16 | BMI > 60').info()"
   ]
  },
  {
   "cell_type": "code",
   "execution_count": 47,
   "metadata": {},
   "outputs": [
    {
     "name": "stdout",
     "output_type": "stream",
     "text": [
      "<class 'pandas.core.frame.DataFrame'>\n",
      "Int64Index: 69020 entries, 0 to 69999\n",
      "Data columns (total 3 columns):\n",
      " #   Column  Non-Null Count  Dtype  \n",
      "---  ------  --------------  -----  \n",
      " 0   weight  69020 non-null  float64\n",
      " 1   height  69020 non-null  float64\n",
      " 2   BMI     69020 non-null  float64\n",
      "dtypes: float64(3)\n",
      "memory usage: 2.1 MB\n"
     ]
    }
   ],
   "source": [
    "bmi_cleaned = bmi_raw.drop(bmi_raw.query('BMI < 16 | BMI > 60').index)\n",
    "bmi_cleaned.info()"
   ]
  },
  {
   "cell_type": "markdown",
   "metadata": {},
   "source": [
    "### b)"
   ]
  },
  {
   "cell_type": "code",
   "execution_count": 48,
   "metadata": {},
   "outputs": [
    {
     "data": {
      "text/html": [
       "<div>\n",
       "<style scoped>\n",
       "    .dataframe tbody tr th:only-of-type {\n",
       "        vertical-align: middle;\n",
       "    }\n",
       "\n",
       "    .dataframe tbody tr th {\n",
       "        vertical-align: top;\n",
       "    }\n",
       "\n",
       "    .dataframe thead th {\n",
       "        text-align: right;\n",
       "    }\n",
       "</style>\n",
       "<table border=\"1\" class=\"dataframe\">\n",
       "  <thead>\n",
       "    <tr style=\"text-align: right;\">\n",
       "      <th></th>\n",
       "      <th>weight</th>\n",
       "      <th>height</th>\n",
       "      <th>BMI</th>\n",
       "      <th>BMI Category</th>\n",
       "    </tr>\n",
       "  </thead>\n",
       "  <tbody>\n",
       "    <tr>\n",
       "      <th>0</th>\n",
       "      <td>62.0</td>\n",
       "      <td>1.68</td>\n",
       "      <td>22.032402</td>\n",
       "      <td>Normal range</td>\n",
       "    </tr>\n",
       "    <tr>\n",
       "      <th>1</th>\n",
       "      <td>85.0</td>\n",
       "      <td>1.56</td>\n",
       "      <td>36.353881</td>\n",
       "      <td>Class II</td>\n",
       "    </tr>\n",
       "    <tr>\n",
       "      <th>2</th>\n",
       "      <td>64.0</td>\n",
       "      <td>1.65</td>\n",
       "      <td>23.791042</td>\n",
       "      <td>Normal range</td>\n",
       "    </tr>\n",
       "    <tr>\n",
       "      <th>3</th>\n",
       "      <td>82.0</td>\n",
       "      <td>1.69</td>\n",
       "      <td>28.710479</td>\n",
       "      <td>Pre-obese</td>\n",
       "    </tr>\n",
       "    <tr>\n",
       "      <th>4</th>\n",
       "      <td>56.0</td>\n",
       "      <td>1.56</td>\n",
       "      <td>23.950792</td>\n",
       "      <td>Normal range</td>\n",
       "    </tr>\n",
       "  </tbody>\n",
       "</table>\n",
       "</div>"
      ],
      "text/plain": [
       "   weight  height        BMI  BMI Category\n",
       "0    62.0    1.68  22.032402  Normal range\n",
       "1    85.0    1.56  36.353881      Class II\n",
       "2    64.0    1.65  23.791042  Normal range\n",
       "3    82.0    1.69  28.710479     Pre-obese\n",
       "4    56.0    1.56  23.950792  Normal range"
      ]
     },
     "execution_count": 48,
     "metadata": {},
     "output_type": "execute_result"
    }
   ],
   "source": [
    "bmi_with_category = bmi_cleaned.join(pd.cut(\n",
    "    bmi_cleaned[\"BMI\"],\n",
    "    [0, 16, 16.9, 18.4, 24.9, 29.9, 34.9, 39.9, 100],\n",
    "    labels=[\n",
    "        \"Severe thinness\",\n",
    "        \"Moderate thinness\",\n",
    "        \"Mild thinness\",\n",
    "        \"Normal range\",\n",
    "        \"Pre-obese\",\n",
    "        \"Class I\",\n",
    "        \"Class II\",\n",
    "        \"Class III\",\n",
    "    ],\n",
    ").rename('BMI Category'))\n",
    "bmi_with_category.head()"
   ]
  },
  {
   "cell_type": "markdown",
   "metadata": {},
   "source": [
    "## 1"
   ]
  },
  {
   "cell_type": "code",
   "execution_count": 49,
   "metadata": {},
   "outputs": [
    {
     "data": {
      "text/html": [
       "<div>\n",
       "<style scoped>\n",
       "    .dataframe tbody tr th:only-of-type {\n",
       "        vertical-align: middle;\n",
       "    }\n",
       "\n",
       "    .dataframe tbody tr th {\n",
       "        vertical-align: top;\n",
       "    }\n",
       "\n",
       "    .dataframe thead th {\n",
       "        text-align: right;\n",
       "    }\n",
       "</style>\n",
       "<table border=\"1\" class=\"dataframe\">\n",
       "  <thead>\n",
       "    <tr style=\"text-align: right;\">\n",
       "      <th></th>\n",
       "      <th>ap_hi</th>\n",
       "      <th>ap_lo</th>\n",
       "    </tr>\n",
       "  </thead>\n",
       "  <tbody>\n",
       "    <tr>\n",
       "      <th>0</th>\n",
       "      <td>110</td>\n",
       "      <td>80</td>\n",
       "    </tr>\n",
       "    <tr>\n",
       "      <th>1</th>\n",
       "      <td>140</td>\n",
       "      <td>90</td>\n",
       "    </tr>\n",
       "    <tr>\n",
       "      <th>2</th>\n",
       "      <td>130</td>\n",
       "      <td>70</td>\n",
       "    </tr>\n",
       "    <tr>\n",
       "      <th>3</th>\n",
       "      <td>150</td>\n",
       "      <td>100</td>\n",
       "    </tr>\n",
       "    <tr>\n",
       "      <th>4</th>\n",
       "      <td>100</td>\n",
       "      <td>60</td>\n",
       "    </tr>\n",
       "  </tbody>\n",
       "</table>\n",
       "</div>"
      ],
      "text/plain": [
       "   ap_hi  ap_lo\n",
       "0    110     80\n",
       "1    140     90\n",
       "2    130     70\n",
       "3    150    100\n",
       "4    100     60"
      ]
     },
     "execution_count": 49,
     "metadata": {},
     "output_type": "execute_result"
    }
   ],
   "source": [
    "blood_pressure_raw = pd.read_csv(\"./data/cardio_train.csv\", sep=\";\", usecols=['ap_hi', 'ap_lo'])\n",
    "blood_pressure_raw.head()"
   ]
  },
  {
   "cell_type": "code",
   "execution_count": 54,
   "metadata": {},
   "outputs": [
    {
     "data": {
      "text/html": [
       "<div>\n",
       "<style scoped>\n",
       "    .dataframe tbody tr th:only-of-type {\n",
       "        vertical-align: middle;\n",
       "    }\n",
       "\n",
       "    .dataframe tbody tr th {\n",
       "        vertical-align: top;\n",
       "    }\n",
       "\n",
       "    .dataframe thead th {\n",
       "        text-align: right;\n",
       "    }\n",
       "</style>\n",
       "<table border=\"1\" class=\"dataframe\">\n",
       "  <thead>\n",
       "    <tr style=\"text-align: right;\">\n",
       "      <th></th>\n",
       "      <th>mean</th>\n",
       "      <th>std</th>\n",
       "      <th>min</th>\n",
       "      <th>25%</th>\n",
       "      <th>50%</th>\n",
       "      <th>75%</th>\n",
       "      <th>max</th>\n",
       "    </tr>\n",
       "  </thead>\n",
       "  <tbody>\n",
       "    <tr>\n",
       "      <th>ap_hi</th>\n",
       "      <td>128.817286</td>\n",
       "      <td>154.011419</td>\n",
       "      <td>-150.0</td>\n",
       "      <td>120.0</td>\n",
       "      <td>120.0</td>\n",
       "      <td>140.0</td>\n",
       "      <td>16020.0</td>\n",
       "    </tr>\n",
       "    <tr>\n",
       "      <th>ap_lo</th>\n",
       "      <td>96.630414</td>\n",
       "      <td>188.472530</td>\n",
       "      <td>-70.0</td>\n",
       "      <td>80.0</td>\n",
       "      <td>80.0</td>\n",
       "      <td>90.0</td>\n",
       "      <td>11000.0</td>\n",
       "    </tr>\n",
       "  </tbody>\n",
       "</table>\n",
       "</div>"
      ],
      "text/plain": [
       "             mean         std    min    25%    50%    75%      max\n",
       "ap_hi  128.817286  154.011419 -150.0  120.0  120.0  140.0  16020.0\n",
       "ap_lo   96.630414  188.472530  -70.0   80.0   80.0   90.0  11000.0"
      ]
     },
     "execution_count": 54,
     "metadata": {},
     "output_type": "execute_result"
    }
   ],
   "source": [
    "blood_pressure_raw.describe().T.drop(columns=['count'])"
   ]
  },
  {
   "cell_type": "code",
   "execution_count": 56,
   "metadata": {},
   "outputs": [
    {
     "data": {
      "text/plain": [
       "array([ -150,  -140,  -120,  -115,  -100,     1,     7,    10,    11,\n",
       "          12,    13,    14,    15,    16,    17,    20,    24,    60,\n",
       "          70,    80,    85,    90,    93,    95,    96,    97,    99,\n",
       "         100,   101,   102,   103,   104,   105,   106,   107,   108,\n",
       "         109,   110,   111,   112,   113,   114,   115,   116,   117,\n",
       "         118,   119,   120,   121,   122,   123,   124,   125,   126,\n",
       "         127,   128,   129,   130,   131,   132,   133,   134,   135,\n",
       "         136,   137,   138,   139,   140,   141,   142,   143,   144,\n",
       "         145,   146,   147,   148,   149,   150,   151,   152,   153,\n",
       "         154,   155,   156,   157,   158,   159,   160,   161,   162,\n",
       "         163,   164,   165,   166,   167,   168,   169,   170,   171,\n",
       "         172,   173,   174,   175,   176,   177,   178,   179,   180,\n",
       "         181,   184,   185,   187,   188,   190,   191,   193,   195,\n",
       "         196,   197,   199,   200,   202,   207,   210,   215,   220,\n",
       "         230,   240,   309,   401,   701,   806,   902,   906,   907,\n",
       "         909,   960,  1110,  1130,  1202,  1205,  1300,  1400,  1409,\n",
       "        1420,  1500,  1620,  2000, 11020, 11500, 13010, 14020, 16020],\n",
       "      dtype=int64)"
      ]
     },
     "execution_count": 56,
     "metadata": {},
     "output_type": "execute_result"
    }
   ],
   "source": [
    "blood_pressure_raw['ap_hi'].sort_values().unique()"
   ]
  },
  {
   "cell_type": "code",
   "execution_count": 76,
   "metadata": {},
   "outputs": [
    {
     "data": {
      "text/plain": [
       "-150     1\n",
       "-140     1\n",
       "-120     2\n",
       "-115     1\n",
       "-100     2\n",
       " 1       2\n",
       " 7       1\n",
       " 10      7\n",
       " 11     28\n",
       " 12     76\n",
       " 13     15\n",
       " 14     29\n",
       " 15     12\n",
       " 16      3\n",
       " 17      3\n",
       " 20      4\n",
       " 24      1\n",
       "Name: ap_hi, dtype: int64"
      ]
     },
     "execution_count": 76,
     "metadata": {},
     "output_type": "execute_result"
    }
   ],
   "source": [
    "blood_pressure_raw.query('ap_hi < 60')['ap_hi'].value_counts().sort_index()"
   ]
  },
  {
   "cell_type": "code",
   "execution_count": 80,
   "metadata": {},
   "outputs": [
    {
     "data": {
      "text/plain": [
       "309      1\n",
       "401      1\n",
       "701      1\n",
       "806      1\n",
       "902      1\n",
       "906      6\n",
       "907      3\n",
       "909      1\n",
       "960      1\n",
       "1110     1\n",
       "1130     1\n",
       "1202     1\n",
       "1205     1\n",
       "1300     2\n",
       "1400     3\n",
       "1409     1\n",
       "1420     2\n",
       "1500     1\n",
       "1620     1\n",
       "2000     1\n",
       "11020    1\n",
       "11500    1\n",
       "13010    2\n",
       "14020    4\n",
       "16020    1\n",
       "Name: ap_hi, dtype: int64"
      ]
     },
     "execution_count": 80,
     "metadata": {},
     "output_type": "execute_result"
    }
   ],
   "source": [
    "blood_pressure_raw.query('ap_hi > 240')['ap_hi'].value_counts().sort_index()"
   ]
  },
  {
   "cell_type": "code",
   "execution_count": 65,
   "metadata": {},
   "outputs": [
    {
     "data": {
      "text/plain": [
       "array([  -70,     0,     1,     6,     7,     8,     9,    10,    15,\n",
       "          20,    30,    40,    45,    49,    50,    52,    53,    54,\n",
       "          55,    56,    57,    58,    59,    60,    61,    62,    63,\n",
       "          64,    65,    66,    67,    68,    69,    70,    71,    72,\n",
       "          73,    74,    75,    76,    77,    78,    79,    80,    81,\n",
       "          82,    83,    84,    85,    86,    87,    88,    89,    90,\n",
       "          91,    92,    93,    94,    95,    96,    97,    98,    99,\n",
       "         100,   101,   102,   103,   104,   105,   106,   107,   108,\n",
       "         109,   110,   111,   112,   113,   114,   115,   118,   119,\n",
       "         120,   121,   122,   125,   126,   130,   135,   140,   150,\n",
       "         160,   170,   180,   182,   190,   585,   602,   700,   708,\n",
       "         709,   710,   800,   801,   802,   809,   810,   820,   850,\n",
       "         870,   880,   900,   901,   902,   910,  1000,  1001,  1002,\n",
       "        1003,  1007,  1008,  1011,  1022,  1033,  1044,  1077,  1088,\n",
       "        1100,  1101,  1110,  1111,  1120,  1125,  1139,  1140,  1177,\n",
       "        1200,  1211,  1400,  1900,  2088,  5700,  6800,  7099,  7100,\n",
       "        8000,  8044,  8077,  8079,  8099,  8100,  8200,  8500,  9011,\n",
       "        9100,  9800, 10000, 11000], dtype=int64)"
      ]
     },
     "execution_count": 65,
     "metadata": {},
     "output_type": "execute_result"
    }
   ],
   "source": [
    "blood_pressure_raw['ap_lo'].sort_values().unique()"
   ]
  },
  {
   "cell_type": "code",
   "execution_count": 119,
   "metadata": {},
   "outputs": [
    {
     "data": {
      "text/plain": [
       "585      1\n",
       "602      1\n",
       "700      1\n",
       "708      2\n",
       "709      2\n",
       "        ..\n",
       "9011     2\n",
       "9100     1\n",
       "9800     1\n",
       "10000    3\n",
       "11000    1\n",
       "Name: ap_lo, Length: 62, dtype: int64"
      ]
     },
     "execution_count": 119,
     "metadata": {},
     "output_type": "execute_result"
    }
   ],
   "source": [
    "blood_pressure_raw.query('ap_lo > 200')['ap_lo'].value_counts().sort_index()"
   ]
  },
  {
   "cell_type": "code",
   "execution_count": 96,
   "metadata": {},
   "outputs": [
    {
     "data": {
      "text/plain": [
       "-70       1\n",
       " 0       21\n",
       " 1        1\n",
       " 6        2\n",
       " 7        2\n",
       " 8        2\n",
       " 9        1\n",
       " 10       7\n",
       " 15       1\n",
       " 20      15\n",
       " 30       6\n",
       " 40      17\n",
       " 45       2\n",
       " 49       2\n",
       " 50      56\n",
       " 52       2\n",
       " 53       3\n",
       " 54       1\n",
       " 55       4\n",
       " 56       1\n",
       " 57       4\n",
       " 58       4\n",
       " 59      20\n",
       " 60    2727\n",
       "Name: ap_lo, dtype: int64"
      ]
     },
     "execution_count": 96,
     "metadata": {},
     "output_type": "execute_result"
    }
   ],
   "source": [
    "blood_pressure_raw.query('ap_lo < 61')['ap_lo'].value_counts().sort_index()"
   ]
  },
  {
   "cell_type": "code",
   "execution_count": 127,
   "metadata": {},
   "outputs": [
    {
     "name": "stdout",
     "output_type": "stream",
     "text": [
      "<class 'pandas.core.frame.DataFrame'>\n",
      "Int64Index: 68755 entries, 0 to 69999\n",
      "Data columns (total 2 columns):\n",
      " #   Column  Non-Null Count  Dtype\n",
      "---  ------  --------------  -----\n",
      " 0   ap_hi   68755 non-null  int64\n",
      " 1   ap_lo   68755 non-null  int64\n",
      "dtypes: int64(2)\n",
      "memory usage: 1.6 MB\n"
     ]
    }
   ],
   "source": [
    "blood_pressure_cleaned = blood_pressure_raw.drop(\n",
    "    pd.concat(\n",
    "        [\n",
    "            blood_pressure_raw.query(\"ap_lo < 50\"),\n",
    "            blood_pressure_raw.query(\"ap_lo > 200\"),\n",
    "            blood_pressure_raw.query(\"ap_hi < 60\"),\n",
    "            blood_pressure_raw.query(\"ap_hi > 240\"),\n",
    "        ]\n",
    "    ).index\n",
    ")\n",
    "blood_pressure_cleaned.info()"
   ]
  },
  {
   "cell_type": "markdown",
   "metadata": {},
   "source": [
    "https://pandas.pydata.org/pandas-docs/stable/reference/api/pandas.DataFrame.combine.html"
   ]
  },
  {
   "cell_type": "code",
   "execution_count": 142,
   "metadata": {},
   "outputs": [
    {
     "data": {
      "text/plain": [
       "0                     Healthy\n",
       "1        Stage 1 hypertension\n",
       "2                     Healthy\n",
       "3        Stage 2 hypertension\n",
       "4                     Healthy\n",
       "                 ...         \n",
       "69995                 Healthy\n",
       "69996    Stage 1 hypertension\n",
       "69997    Stage 1 hypertension\n",
       "69998                 Healthy\n",
       "69999                 Healthy\n",
       "Name: ap_lo, Length: 68755, dtype: category\n",
       "Categories (4, object): ['Healthy' < 'Stage 1 hypertension' < 'Stage 2 hypertension' < 'Hypertension crisis']"
      ]
     },
     "execution_count": 142,
     "metadata": {},
     "output_type": "execute_result"
    }
   ],
   "source": [
    "pd.cut(\n",
    "    blood_pressure_cleaned[\"ap_lo\"],\n",
    "    [0, 80, 90, 120, 1000],\n",
    "    labels=[\n",
    "        \"Healthy\",\n",
    "        \"Stage 1 hypertension\",\n",
    "        \"Stage 2 hypertension\",\n",
    "        \"Hypertension crisis\",\n",
    "    ],\n",
    ")"
   ]
  },
  {
   "cell_type": "code",
   "execution_count": 143,
   "metadata": {},
   "outputs": [
    {
     "data": {
      "text/plain": [
       "0                     Healthy\n",
       "1        Stage 1 hypertension\n",
       "2                    Elevated\n",
       "3        Stage 2 hypertension\n",
       "4                     Healthy\n",
       "                 ...         \n",
       "69995                 Healthy\n",
       "69996    Stage 1 hypertension\n",
       "69997    Stage 2 hypertension\n",
       "69998    Stage 1 hypertension\n",
       "69999                 Healthy\n",
       "Name: ap_hi, Length: 68755, dtype: category\n",
       "Categories (5, object): ['Healthy' < 'Elevated' < 'Stage 1 hypertension' < 'Stage 2 hypertension' < 'Hypertension crisis']"
      ]
     },
     "execution_count": 143,
     "metadata": {},
     "output_type": "execute_result"
    }
   ],
   "source": [
    "pd.cut(\n",
    "    blood_pressure_cleaned[\"ap_hi\"],\n",
    "    [0, 120, 130, 140, 180, 1000],\n",
    "    labels=[\n",
    "        \"Healthy\",\n",
    "        \"Elevated\",\n",
    "        \"Stage 1 hypertension\",\n",
    "        \"Stage 2 hypertension\",\n",
    "        \"Hypertension crisis\",\n",
    "    ],\n",
    ")"
   ]
  },
  {
   "cell_type": "code",
   "execution_count": 139,
   "metadata": {},
   "outputs": [
    {
     "data": {
      "text/html": [
       "<div>\n",
       "<style scoped>\n",
       "    .dataframe tbody tr th:only-of-type {\n",
       "        vertical-align: middle;\n",
       "    }\n",
       "\n",
       "    .dataframe tbody tr th {\n",
       "        vertical-align: top;\n",
       "    }\n",
       "\n",
       "    .dataframe thead th {\n",
       "        text-align: right;\n",
       "    }\n",
       "</style>\n",
       "<table border=\"1\" class=\"dataframe\">\n",
       "  <thead>\n",
       "    <tr style=\"text-align: right;\">\n",
       "      <th></th>\n",
       "      <th>ap_hi</th>\n",
       "      <th>ap_lo</th>\n",
       "    </tr>\n",
       "  </thead>\n",
       "  <tbody>\n",
       "    <tr>\n",
       "      <th>38022</th>\n",
       "      <td>196</td>\n",
       "      <td>182</td>\n",
       "    </tr>\n",
       "    <tr>\n",
       "      <th>49303</th>\n",
       "      <td>170</td>\n",
       "      <td>190</td>\n",
       "    </tr>\n",
       "    <tr>\n",
       "      <th>63924</th>\n",
       "      <td>130</td>\n",
       "      <td>190</td>\n",
       "    </tr>\n",
       "  </tbody>\n",
       "</table>\n",
       "</div>"
      ],
      "text/plain": [
       "       ap_hi  ap_lo\n",
       "38022    196    182\n",
       "49303    170    190\n",
       "63924    130    190"
      ]
     },
     "execution_count": 139,
     "metadata": {},
     "output_type": "execute_result"
    }
   ],
   "source": [
    "healthy_pressure = blood_pressure_cleaned.query('ap_lo < 80 & ap_hi < 120')\n",
    "elevated_pressure = blood_pressure_cleaned.query('ap_lo > 80  & ap_hi > 120 & ap_hi < 130')\n",
    "stage_1_pressure = blood_pressure_cleaned.query('ap_lo > 80 & ap_lo < 89  & ap_hi > 130 & ap_hi < 139')\n",
    "stage_2_pressure = blood_pressure_cleaned.query('ap_lo > 90 & ap_lo < 180 & ap_hi > 140 & ap_hi < 120')\n",
    "hypertension_pressure = blood_pressure_cleaned.query('ap_lo > 180 & ap_hi > 120')\n",
    "hypertension_pressure"
   ]
  },
  {
   "cell_type": "code",
   "execution_count": null,
   "metadata": {},
   "outputs": [],
   "source": [
    "# blood_pressure_with_category = blood_pressure_cleaned.join(pd.cut(\n",
    "#     blood_pressure_cleaned[\"changeme\"],\n",
    "#     [0, 16, 16.9, 18.4, 24.9, 29.9, 34.9, 39.9, 100],\n",
    "#     labels=[\n",
    "#         \"Severe thinness\",\n",
    "#         \"Moderate thinness\",\n",
    "#         \"Mild thinness\",\n",
    "#         \"Normal range\",\n",
    "#         \"Pre-obese\",\n",
    "#         \"Class I\",\n",
    "#         \"Class II\",\n",
    "#         \"Class III\",\n",
    "#     ],\n",
    "# ).rename('BMI Category'))\n",
    "# bmi_with_category.head()"
   ]
  }
 ],
 "metadata": {
  "interpreter": {
   "hash": "94df931339f7917b6c0770e1c159f877669809da314458214c51c9be421d1dd6"
  },
  "kernelspec": {
   "display_name": "Python 3.9.9 ('machine-learning-_KPFOz0i')",
   "language": "python",
   "name": "python3"
  },
  "language_info": {
   "codemirror_mode": {
    "name": "ipython",
    "version": 3
   },
   "file_extension": ".py",
   "mimetype": "text/x-python",
   "name": "python",
   "nbconvert_exporter": "python",
   "pygments_lexer": "ipython3",
   "version": "3.9.9"
  },
  "orig_nbformat": 4
 },
 "nbformat": 4,
 "nbformat_minor": 2
}
