{
 "cells": [
  {
   "cell_type": "markdown",
   "metadata": {},
   "source": [
    "# Model deployment function"
   ]
  },
  {
   "cell_type": "code",
   "execution_count": 50,
   "metadata": {},
   "outputs": [],
   "source": [
    "from cardio_datasets import reduced_dataset\n",
    "from model_selection_and_evaluation_functions import create_X_y_from_data_frame\n",
    "import joblib\n",
    "import pandas"
   ]
  },
  {
   "cell_type": "code",
   "execution_count": 53,
   "metadata": {},
   "outputs": [],
   "source": [
    "cardio_model = joblib.load('./models/final/VotingClassifier.joblib')\n",
    "carido_samples = pandas.read_csv('./data/cardio_100_samples.csv')\n",
    "\n",
    "X, y = create_X_y_from_data_frame(carido_samples[reduced_dataset.columns], 'cardio')\n",
    "\n",
    "def main ():\n",
    "    pandas.DataFrame(cardio_model.predict_proba(X).tolist(), columns=['Positive probability', 'Negative probability']).join(pandas.Series(cardio_model.predict(X), name='Prediction').map({0:'Positive', 1:'Negative'})).to_csv('./data/cardio_predictions.csv')\n",
    "\n",
    "main()"
   ]
  }
 ],
 "metadata": {
  "interpreter": {
   "hash": "94df931339f7917b6c0770e1c159f877669809da314458214c51c9be421d1dd6"
  },
  "kernelspec": {
   "display_name": "Python 3.9.9 ('machine-learning-_KPFOz0i')",
   "language": "python",
   "name": "python3"
  },
  "language_info": {
   "codemirror_mode": {
    "name": "ipython",
    "version": 3
   },
   "file_extension": ".py",
   "mimetype": "text/x-python",
   "name": "python",
   "nbconvert_exporter": "python",
   "pygments_lexer": "ipython3",
   "version": "3.9.9"
  },
  "orig_nbformat": 4
 },
 "nbformat": 4,
 "nbformat_minor": 2
}
