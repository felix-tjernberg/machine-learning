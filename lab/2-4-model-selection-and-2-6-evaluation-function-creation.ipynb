{
 "cells": [
  {
   "cell_type": "markdown",
   "metadata": {},
   "source": [
    "# 2.4"
   ]
  },
  {
   "cell_type": "code",
   "execution_count": 21,
   "metadata": {},
   "outputs": [],
   "source": [
    "import pandas\n",
    "from cardio_datasets import all_features_dataset_dropped_samples\n",
    "from sklearn.linear_model import LogisticRegression\n",
    "from sklearn.model_selection import GridSearchCV, train_test_split\n",
    "from sklearn.metrics import classification_report, confusion_matrix, ConfusionMatrixDisplay\n",
    "from sklearn.preprocessing import StandardScaler\n",
    "from sklearn.pipeline import Pipeline"
   ]
  },
  {
   "cell_type": "markdown",
   "metadata": {},
   "source": [
    "## Split data into test and validation sets"
   ]
  },
  {
   "cell_type": "code",
   "execution_count": 22,
   "metadata": {},
   "outputs": [],
   "source": [
    "def create_X_y_from_data_frame(data_frame: pandas.DataFrame, target_column: str):\n",
    "    \"\"\"Takes a pandas DataFrame and string of target column and returns X, y\"\"\"\n",
    "    return data_frame.drop(columns=[target_column]), data_frame[target_column]"
   ]
  },
  {
   "cell_type": "code",
   "execution_count": 23,
   "metadata": {},
   "outputs": [],
   "source": [
    "X, y = create_X_y_from_data_frame(all_features_dataset_dropped_samples, 'cardio')\n",
    "X_train_all, X_test_unseen, y_train_all, y_test_unseen = train_test_split(X,y,test_size=0.3,random_state=42)\n",
    "X_train_eval, X_test_eval, y_train_eval, y_test_eval = train_test_split(X_train_all,y_train_all,test_size=0.3,random_state=42)"
   ]
  },
  {
   "cell_type": "markdown",
   "metadata": {},
   "source": [
    "## Search and score parameters"
   ]
  },
  {
   "cell_type": "code",
   "execution_count": 24,
   "metadata": {},
   "outputs": [],
   "source": [
    "def grid_search_hyper_parameters(X, y, unfitted_model, parameter_grid: dict, scoring_method: str):\n",
    "    \"\"\"Retruns a fitted model and a pandas.DataFrame of GridSearchCV.cv_results\"\"\"\n",
    "    model = GridSearchCV(estimator=unfitted_model,param_grid=parameter_grid,return_train_score=False,scoring=scoring_method,cv=5)\n",
    "    model.fit(X, y)\n",
    "    return model, pandas.DataFrame(model.cv_results_)"
   ]
  },
  {
   "cell_type": "code",
   "execution_count": 25,
   "metadata": {},
   "outputs": [],
   "source": [
    "def select_search_parameters_and_scores(results_data_frame:pandas.DataFrame, parameter_grid:dict):\n",
    "    \"\"\"Returns a selection of parameters and scores from a GridSearchCV.cv_results_ data frame using the keys from a parameter grid\"\"\"\n",
    "    columns = ['param_' + key for key in list(parameter_grid.keys())] + ['mean_test_score', 'std_test_score']\n",
    "    return results_data_frame[columns].sort_values('mean_test_score', ascending=False).reset_index(drop=True)"
   ]
  },
  {
   "cell_type": "code",
   "execution_count": 26,
   "metadata": {},
   "outputs": [],
   "source": [
    "def search_hyper_parameters(X, y, unfitted_model, parameter_grid:dict, scoring_method:str):\n",
    "    \"\"\"Returns a fitted model, a selection of parameters and scores of GridSearchCV.cv_results_, raw GridSearchCV.cv_results_\"\"\"\n",
    "    model, scores = grid_search_hyper_parameters(X, y, unfitted_model, parameter_grid, scoring_method)\n",
    "    return model, select_search_parameters_and_scores(scores, parameter_grid), scores"
   ]
  },
  {
   "cell_type": "code",
   "execution_count": 27,
   "metadata": {},
   "outputs": [
    {
     "data": {
      "text/html": [
       "<div>\n",
       "<style scoped>\n",
       "    .dataframe tbody tr th:only-of-type {\n",
       "        vertical-align: middle;\n",
       "    }\n",
       "\n",
       "    .dataframe tbody tr th {\n",
       "        vertical-align: top;\n",
       "    }\n",
       "\n",
       "    .dataframe thead th {\n",
       "        text-align: right;\n",
       "    }\n",
       "</style>\n",
       "<table border=\"1\" class=\"dataframe\">\n",
       "  <thead>\n",
       "    <tr style=\"text-align: right;\">\n",
       "      <th></th>\n",
       "      <th>param_LogisticRegression__l1_ratio</th>\n",
       "      <th>mean_test_score</th>\n",
       "      <th>std_test_score</th>\n",
       "    </tr>\n",
       "  </thead>\n",
       "  <tbody>\n",
       "    <tr>\n",
       "      <th>0</th>\n",
       "      <td>1</td>\n",
       "      <td>0.650108</td>\n",
       "      <td>0.010040</td>\n",
       "    </tr>\n",
       "    <tr>\n",
       "      <th>1</th>\n",
       "      <td>0</td>\n",
       "      <td>0.649925</td>\n",
       "      <td>0.009978</td>\n",
       "    </tr>\n",
       "  </tbody>\n",
       "</table>\n",
       "</div>"
      ],
      "text/plain": [
       "  param_LogisticRegression__l1_ratio  mean_test_score  std_test_score\n",
       "0                                  1         0.650108        0.010040\n",
       "1                                  0         0.649925        0.009978"
      ]
     },
     "execution_count": 27,
     "metadata": {},
     "output_type": "execute_result"
    }
   ],
   "source": [
    "pipeline_logistic_regression = Pipeline(\n",
    "    [\n",
    "        (\"scaler\", StandardScaler()),\n",
    "        (\n",
    "            \"LogisticRegression\",\n",
    "            LogisticRegression(\n",
    "                solver=\"saga\", multi_class=\"ovr\", max_iter=10000, penalty=\"elasticnet\"\n",
    "            ),\n",
    "        ),\n",
    "    ]\n",
    ")\n",
    "pipeline_logistic_regression_parameter_grid = {\"LogisticRegression__l1_ratio\": [0, 1]}\n",
    "\n",
    "(\n",
    "    logistic_regression_model,\n",
    "    logistic_regression_parameters_and_score,\n",
    "    logistic_regression_score_raw,\n",
    ") = search_hyper_parameters(\n",
    "    X_train_eval,\n",
    "    y_train_eval,\n",
    "    pipeline_logistic_regression,\n",
    "    pipeline_logistic_regression_parameter_grid,\n",
    "    'recall'\n",
    ")\n",
    "logistic_regression_parameters_and_score"
   ]
  },
  {
   "cell_type": "markdown",
   "metadata": {},
   "source": [
    "TODO write about https://www.youtube.com/watch?v=HdlDYng8g9s"
   ]
  },
  {
   "cell_type": "markdown",
   "metadata": {},
   "source": [
    "## Show classification score metrics"
   ]
  },
  {
   "cell_type": "code",
   "execution_count": 28,
   "metadata": {},
   "outputs": [],
   "source": [
    "def show_classification_evaluation_metrics(model, X_test, y_test, display_labels=['True', 'False']):\n",
    "    \"\"\"Prints classification report and plots confusion matrix\"\"\"\n",
    "    y_pred = model.predict(X_test)\n",
    "    print(classification_report(y_test, y_pred))\n",
    "    ConfusionMatrixDisplay(confusion_matrix(y_test, y_pred), display_labels=display_labels).plot()"
   ]
  },
  {
   "cell_type": "code",
   "execution_count": 29,
   "metadata": {},
   "outputs": [
    {
     "name": "stdout",
     "output_type": "stream",
     "text": [
      "              precision    recall  f1-score   support\n",
      "\n",
      "           0       0.70      0.80      0.75      7183\n",
      "           1       0.76      0.64      0.70      7034\n",
      "\n",
      "    accuracy                           0.72     14217\n",
      "   macro avg       0.73      0.72      0.72     14217\n",
      "weighted avg       0.73      0.72      0.72     14217\n",
      "\n"
     ]
    },
    {
     "data": {
      "image/png": "[encoded data removed]",
      "text/plain": [
       "<Figure size 432x288 with 2 Axes>"
      ]
     },
     "metadata": {
      "needs_background": "light"
     },
     "output_type": "display_data"
    }
   ],
   "source": [
    "show_classification_evaluation_metrics(logistic_regression_model, X_test_eval, y_test_eval)"
   ]
  },
  {
   "cell_type": "markdown",
   "metadata": {},
   "source": [
    "## Complete function"
   ]
  },
  {
   "cell_type": "code",
   "execution_count": 30,
   "metadata": {},
   "outputs": [],
   "source": [
    "def search_score_and_evalute_parameters(X_train, X_test, y_train, y_test, model, model_parameter_grid:dict, scoring_method:str):\n",
    "    \"\"\"Searches, scores and prints evaluation of a model and it's parameters then returns the model\"\"\"\n",
    "    (\n",
    "    fitted_model,\n",
    "    model_parameters_and_score,\n",
    "    _model_parameters_and_score_raw\n",
    "    ) = search_hyper_parameters(\n",
    "        X_train,\n",
    "        y_train,\n",
    "        model,\n",
    "        model_parameter_grid,\n",
    "        scoring_method\n",
    "    )\n",
    "    print(model_parameters_and_score)\n",
    "    show_classification_evaluation_metrics(fitted_model, X_test, y_test)\n",
    "    return fitted_model"
   ]
  },
  {
   "cell_type": "code",
   "execution_count": 31,
   "metadata": {},
   "outputs": [
    {
     "name": "stdout",
     "output_type": "stream",
     "text": [
      "  param_LogisticRegression__l1_ratio  mean_test_score  std_test_score\n",
      "0                                  1         0.650108        0.010040\n",
      "1                                  0         0.649925        0.009978\n",
      "              precision    recall  f1-score   support\n",
      "\n",
      "           0       0.70      0.80      0.75      7183\n",
      "           1       0.76      0.64      0.70      7034\n",
      "\n",
      "    accuracy                           0.72     14217\n",
      "   macro avg       0.73      0.72      0.72     14217\n",
      "weighted avg       0.73      0.72      0.72     14217\n",
      "\n"
     ]
    },
    {
     "data": {
      "image/png": "[encoded data removed]",
      "text/plain": [
       "<Figure size 432x288 with 2 Axes>"
      ]
     },
     "metadata": {
      "needs_background": "light"
     },
     "output_type": "display_data"
    }
   ],
   "source": [
    "logistic_regression_model = search_score_and_evalute_parameters(\n",
    "    X_train_eval,\n",
    "    X_test_eval,\n",
    "    y_train_eval,\n",
    "    y_test_eval,\n",
    "    pipeline_logistic_regression,\n",
    "    pipeline_logistic_regression_parameter_grid,\n",
    "    \"recall\",\n",
    ")"
   ]
  },
  {
   "cell_type": "markdown",
   "metadata": {},
   "source": [
    "## Test on unseen data"
   ]
  },
  {
   "cell_type": "code",
   "execution_count": 32,
   "metadata": {},
   "outputs": [
    {
     "name": "stdout",
     "output_type": "stream",
     "text": [
      "              precision    recall  f1-score   support\n",
      "\n",
      "           0       0.70      0.80      0.75     10251\n",
      "           1       0.76      0.65      0.70     10059\n",
      "\n",
      "    accuracy                           0.73     20310\n",
      "   macro avg       0.73      0.73      0.73     20310\n",
      "weighted avg       0.73      0.73      0.73     20310\n",
      "\n"
     ]
    },
    {
     "data": {
      "image/png": "[encoded data removed]",
      "text/plain": [
       "<Figure size 432x288 with 2 Axes>"
      ]
     },
     "metadata": {
      "needs_background": "light"
     },
     "output_type": "display_data"
    }
   ],
   "source": [
    "show_classification_evaluation_metrics(logistic_regression_model, X_test_unseen, y_test_unseen)"
   ]
  }
 ],
 "metadata": {
  "interpreter": {
   "hash": "94df931339f7917b6c0770e1c159f877669809da314458214c51c9be421d1dd6"
  },
  "kernelspec": {
   "display_name": "Python 3.9.9 ('machine-learning-_KPFOz0i')",
   "language": "python",
   "name": "python3"
  },
  "language_info": {
   "codemirror_mode": {
    "name": "ipython",
    "version": 3
   },
   "file_extension": ".py",
   "mimetype": "text/x-python",
   "name": "python",
   "nbconvert_exporter": "python",
   "pygments_lexer": "ipython3",
   "version": "3.9.9"
  },
  "orig_nbformat": 4
 },
 "nbformat": 4,
 "nbformat_minor": 2
}
