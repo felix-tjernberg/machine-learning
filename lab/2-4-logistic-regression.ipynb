{
 "cells": [
  {
   "cell_type": "markdown",
   "metadata": {},
   "source": [
    "# Logistic regression"
   ]
  },
  {
   "cell_type": "code",
   "execution_count": 13,
   "metadata": {},
   "outputs": [],
   "source": [
    "from cardio_datasets import full_dataset, reduced_dataset, categorial_dataset, continuous_dataset\n",
    "from model_selection_and_evaluation_functions import create_train_test_eval_split, search_score_and_evalute_parameters, show_classification_evaluation_metrics\n",
    "\n",
    "import numpy\n",
    "from sklearn.pipeline import Pipeline\n",
    "from sklearn.linear_model import LogisticRegression\n",
    "from sklearn.preprocessing import MinMaxScaler, StandardScaler, PolynomialFeatures"
   ]
  },
  {
   "cell_type": "markdown",
   "metadata": {},
   "source": [
    "## Datasets"
   ]
  },
  {
   "cell_type": "code",
   "execution_count": 2,
   "metadata": {},
   "outputs": [],
   "source": [
    "categorial_dataset_X_y = create_train_test_eval_split(categorial_dataset, 'cardio')\n",
    "continuous_dataset_X_y = create_train_test_eval_split(continuous_dataset, 'cardio')\n",
    "full_dataset_X_y = create_train_test_eval_split(full_dataset, 'cardio')\n",
    "reduced_dataset_X_y = create_train_test_eval_split(reduced_dataset, 'cardio')"
   ]
  },
  {
   "cell_type": "markdown",
   "metadata": {},
   "source": [
    "## Search grid parameters"
   ]
  },
  {
   "cell_type": "code",
   "execution_count": 3,
   "metadata": {},
   "outputs": [],
   "source": [
    "LogisticRegression_grid_parameters = {\"LogisticRegression__l1_ratio\": list(numpy.linspace(0,1,10))}\n",
    "PolynomialFeatures_grid_parameters = {\"PolynomialFeatures__degree\": list(range(2,5,1))}"
   ]
  },
  {
   "cell_type": "markdown",
   "metadata": {},
   "source": [
    "## Pipelines"
   ]
  },
  {
   "cell_type": "code",
   "execution_count": 4,
   "metadata": {},
   "outputs": [],
   "source": [
    "BaseLogisticRegression = LogisticRegression(\n",
    "    solver=\"saga\", multi_class=\"ovr\", max_iter=10000, penalty=\"elasticnet\", random_state=42\n",
    ")"
   ]
  },
  {
   "cell_type": "code",
   "execution_count": 5,
   "metadata": {},
   "outputs": [
    {
     "name": "stdout",
     "output_type": "stream",
     "text": [
      "              precision    recall  f1-score   support\n",
      "\n",
      "           0       0.70      0.78      0.74      7177\n",
      "           1       0.75      0.66      0.70      7061\n",
      "\n",
      "    accuracy                           0.72     14238\n",
      "   macro avg       0.73      0.72      0.72     14238\n",
      "weighted avg       0.73      0.72      0.72     14238\n",
      "\n"
     ]
    },
    {
     "data": {
      "text/html": [
       "<div>\n",
       "<style scoped>\n",
       "    .dataframe tbody tr th:only-of-type {\n",
       "        vertical-align: middle;\n",
       "    }\n",
       "\n",
       "    .dataframe tbody tr th {\n",
       "        vertical-align: top;\n",
       "    }\n",
       "\n",
       "    .dataframe thead th {\n",
       "        text-align: right;\n",
       "    }\n",
       "</style>\n",
       "<table border=\"1\" class=\"dataframe\">\n",
       "  <thead>\n",
       "    <tr style=\"text-align: right;\">\n",
       "      <th></th>\n",
       "      <th>param_LogisticRegression__l1_ratio</th>\n",
       "      <th>mean_test_score</th>\n",
       "      <th>std_test_score</th>\n",
       "    </tr>\n",
       "  </thead>\n",
       "  <tbody>\n",
       "    <tr>\n",
       "      <th>0</th>\n",
       "      <td>0.666667</td>\n",
       "      <td>0.662777</td>\n",
       "      <td>0.009063</td>\n",
       "    </tr>\n",
       "    <tr>\n",
       "      <th>1</th>\n",
       "      <td>0.777778</td>\n",
       "      <td>0.662777</td>\n",
       "      <td>0.009063</td>\n",
       "    </tr>\n",
       "    <tr>\n",
       "      <th>2</th>\n",
       "      <td>0.888889</td>\n",
       "      <td>0.662777</td>\n",
       "      <td>0.009063</td>\n",
       "    </tr>\n",
       "    <tr>\n",
       "      <th>3</th>\n",
       "      <td>1.0</td>\n",
       "      <td>0.662777</td>\n",
       "      <td>0.009063</td>\n",
       "    </tr>\n",
       "    <tr>\n",
       "      <th>4</th>\n",
       "      <td>0.0</td>\n",
       "      <td>0.662777</td>\n",
       "      <td>0.008900</td>\n",
       "    </tr>\n",
       "    <tr>\n",
       "      <th>5</th>\n",
       "      <td>0.111111</td>\n",
       "      <td>0.662777</td>\n",
       "      <td>0.008900</td>\n",
       "    </tr>\n",
       "    <tr>\n",
       "      <th>6</th>\n",
       "      <td>0.222222</td>\n",
       "      <td>0.662716</td>\n",
       "      <td>0.008962</td>\n",
       "    </tr>\n",
       "    <tr>\n",
       "      <th>7</th>\n",
       "      <td>0.333333</td>\n",
       "      <td>0.662716</td>\n",
       "      <td>0.008962</td>\n",
       "    </tr>\n",
       "    <tr>\n",
       "      <th>8</th>\n",
       "      <td>0.444444</td>\n",
       "      <td>0.662716</td>\n",
       "      <td>0.008962</td>\n",
       "    </tr>\n",
       "    <tr>\n",
       "      <th>9</th>\n",
       "      <td>0.555556</td>\n",
       "      <td>0.662716</td>\n",
       "      <td>0.008962</td>\n",
       "    </tr>\n",
       "  </tbody>\n",
       "</table>\n",
       "</div>"
      ],
      "text/plain": [
       "  param_LogisticRegression__l1_ratio  mean_test_score  std_test_score\n",
       "0                           0.666667         0.662777        0.009063\n",
       "1                           0.777778         0.662777        0.009063\n",
       "2                           0.888889         0.662777        0.009063\n",
       "3                                1.0         0.662777        0.009063\n",
       "4                                0.0         0.662777        0.008900\n",
       "5                           0.111111         0.662777        0.008900\n",
       "6                           0.222222         0.662716        0.008962\n",
       "7                           0.333333         0.662716        0.008962\n",
       "8                           0.444444         0.662716        0.008962\n",
       "9                           0.555556         0.662716        0.008962"
      ]
     },
     "execution_count": 5,
     "metadata": {},
     "output_type": "execute_result"
    },
    {
     "data": {
      "image/png": "[encoded data removed]",
      "text/plain": [
       "<Figure size 432x288 with 2 Axes>"
      ]
     },
     "metadata": {
      "needs_background": "light"
     },
     "output_type": "display_data"
    }
   ],
   "source": [
    "StandardScaler_pipeline = Pipeline(\n",
    "    [\n",
    "        (\"StandardScaler\", StandardScaler()),\n",
    "        (\"LogisticRegression\", BaseLogisticRegression),\n",
    "    ]\n",
    ")\n",
    "(\n",
    "    model,\n",
    "    model_scores,\n",
    "    model_scores_raw,\n",
    ") = search_score_and_evalute_parameters(\n",
    "    reduced_dataset_X_y[\"eval_split\"][\"X_train\"],\n",
    "    reduced_dataset_X_y[\"eval_split\"][\"X_test\"],\n",
    "    reduced_dataset_X_y[\"eval_split\"][\"y_train\"],\n",
    "    reduced_dataset_X_y[\"eval_split\"][\"y_test\"],\n",
    "    StandardScaler_pipeline,\n",
    "    LogisticRegression_grid_parameters,\n",
    "    \"recall\",\n",
    ")\n",
    "model_scores"
   ]
  },
  {
   "cell_type": "code",
   "execution_count": 6,
   "metadata": {},
   "outputs": [
    {
     "name": "stdout",
     "output_type": "stream",
     "text": [
      "              precision    recall  f1-score   support\n",
      "\n",
      "           0       0.70      0.78      0.74      7177\n",
      "           1       0.75      0.66      0.70      7061\n",
      "\n",
      "    accuracy                           0.72     14238\n",
      "   macro avg       0.73      0.72      0.72     14238\n",
      "weighted avg       0.73      0.72      0.72     14238\n",
      "\n"
     ]
    },
    {
     "data": {
      "text/html": [
       "<div>\n",
       "<style scoped>\n",
       "    .dataframe tbody tr th:only-of-type {\n",
       "        vertical-align: middle;\n",
       "    }\n",
       "\n",
       "    .dataframe tbody tr th {\n",
       "        vertical-align: top;\n",
       "    }\n",
       "\n",
       "    .dataframe thead th {\n",
       "        text-align: right;\n",
       "    }\n",
       "</style>\n",
       "<table border=\"1\" class=\"dataframe\">\n",
       "  <thead>\n",
       "    <tr style=\"text-align: right;\">\n",
       "      <th></th>\n",
       "      <th>param_LogisticRegression__l1_ratio</th>\n",
       "      <th>mean_test_score</th>\n",
       "      <th>std_test_score</th>\n",
       "    </tr>\n",
       "  </thead>\n",
       "  <tbody>\n",
       "    <tr>\n",
       "      <th>0</th>\n",
       "      <td>0.0</td>\n",
       "      <td>0.663388</td>\n",
       "      <td>0.009266</td>\n",
       "    </tr>\n",
       "    <tr>\n",
       "      <th>1</th>\n",
       "      <td>0.222222</td>\n",
       "      <td>0.663327</td>\n",
       "      <td>0.008855</td>\n",
       "    </tr>\n",
       "    <tr>\n",
       "      <th>2</th>\n",
       "      <td>0.111111</td>\n",
       "      <td>0.663266</td>\n",
       "      <td>0.008875</td>\n",
       "    </tr>\n",
       "    <tr>\n",
       "      <th>3</th>\n",
       "      <td>0.333333</td>\n",
       "      <td>0.663266</td>\n",
       "      <td>0.008635</td>\n",
       "    </tr>\n",
       "    <tr>\n",
       "      <th>4</th>\n",
       "      <td>0.444444</td>\n",
       "      <td>0.663266</td>\n",
       "      <td>0.008663</td>\n",
       "    </tr>\n",
       "    <tr>\n",
       "      <th>5</th>\n",
       "      <td>0.555556</td>\n",
       "      <td>0.663144</td>\n",
       "      <td>0.008824</td>\n",
       "    </tr>\n",
       "    <tr>\n",
       "      <th>6</th>\n",
       "      <td>0.666667</td>\n",
       "      <td>0.663144</td>\n",
       "      <td>0.008765</td>\n",
       "    </tr>\n",
       "    <tr>\n",
       "      <th>7</th>\n",
       "      <td>0.777778</td>\n",
       "      <td>0.662777</td>\n",
       "      <td>0.008857</td>\n",
       "    </tr>\n",
       "    <tr>\n",
       "      <th>8</th>\n",
       "      <td>0.888889</td>\n",
       "      <td>0.662655</td>\n",
       "      <td>0.008990</td>\n",
       "    </tr>\n",
       "    <tr>\n",
       "      <th>9</th>\n",
       "      <td>1.0</td>\n",
       "      <td>0.662594</td>\n",
       "      <td>0.009169</td>\n",
       "    </tr>\n",
       "  </tbody>\n",
       "</table>\n",
       "</div>"
      ],
      "text/plain": [
       "  param_LogisticRegression__l1_ratio  mean_test_score  std_test_score\n",
       "0                                0.0         0.663388        0.009266\n",
       "1                           0.222222         0.663327        0.008855\n",
       "2                           0.111111         0.663266        0.008875\n",
       "3                           0.333333         0.663266        0.008635\n",
       "4                           0.444444         0.663266        0.008663\n",
       "5                           0.555556         0.663144        0.008824\n",
       "6                           0.666667         0.663144        0.008765\n",
       "7                           0.777778         0.662777        0.008857\n",
       "8                           0.888889         0.662655        0.008990\n",
       "9                                1.0         0.662594        0.009169"
      ]
     },
     "execution_count": 6,
     "metadata": {},
     "output_type": "execute_result"
    },
    {
     "data": {
      "image/png": "[encoded data removed]",
      "text/plain": [
       "<Figure size 432x288 with 2 Axes>"
      ]
     },
     "metadata": {
      "needs_background": "light"
     },
     "output_type": "display_data"
    }
   ],
   "source": [
    "MinMax_StandardScaler_pipeline = Pipeline(\n",
    "    [\n",
    "        (\"StandardScaler\", StandardScaler()),\n",
    "        (\"MinMaxScaler\", MinMaxScaler()),\n",
    "        (\n",
    "            \"LogisticRegression\", BaseLogisticRegression,\n",
    "        ),\n",
    "    ]\n",
    ")\n",
    "(\n",
    "    model_2,\n",
    "    model_2_scores,\n",
    "    model_2_scores_raw,\n",
    ") = search_score_and_evalute_parameters(\n",
    "    reduced_dataset_X_y[\"eval_split\"][\"X_train\"],\n",
    "    reduced_dataset_X_y[\"eval_split\"][\"X_test\"],\n",
    "    reduced_dataset_X_y[\"eval_split\"][\"y_train\"],\n",
    "    reduced_dataset_X_y[\"eval_split\"][\"y_test\"],\n",
    "    MinMax_StandardScaler_pipeline,\n",
    "    LogisticRegression_grid_parameters,\n",
    "    \"recall\",\n",
    ")\n",
    "model_2_scores"
   ]
  },
  {
   "cell_type": "code",
   "execution_count": 7,
   "metadata": {},
   "outputs": [],
   "source": [
    "LogisticRegression_grid_parameters_updated = {\"LogisticRegression__l1_ratio\": [0,0.22], \"PolynomialFeatures__degree\": [2,3]}"
   ]
  },
  {
   "cell_type": "code",
   "execution_count": 8,
   "metadata": {},
   "outputs": [
    {
     "name": "stdout",
     "output_type": "stream",
     "text": [
      "              precision    recall  f1-score   support\n",
      "\n",
      "           0       0.71      0.77      0.74      7177\n",
      "           1       0.74      0.69      0.71      7061\n",
      "\n",
      "    accuracy                           0.73     14238\n",
      "   macro avg       0.73      0.73      0.73     14238\n",
      "weighted avg       0.73      0.73      0.73     14238\n",
      "\n"
     ]
    },
    {
     "data": {
      "text/html": [
       "<div>\n",
       "<style scoped>\n",
       "    .dataframe tbody tr th:only-of-type {\n",
       "        vertical-align: middle;\n",
       "    }\n",
       "\n",
       "    .dataframe tbody tr th {\n",
       "        vertical-align: top;\n",
       "    }\n",
       "\n",
       "    .dataframe thead th {\n",
       "        text-align: right;\n",
       "    }\n",
       "</style>\n",
       "<table border=\"1\" class=\"dataframe\">\n",
       "  <thead>\n",
       "    <tr style=\"text-align: right;\">\n",
       "      <th></th>\n",
       "      <th>param_LogisticRegression__l1_ratio</th>\n",
       "      <th>param_PolynomialFeatures__degree</th>\n",
       "      <th>mean_test_score</th>\n",
       "      <th>std_test_score</th>\n",
       "    </tr>\n",
       "  </thead>\n",
       "  <tbody>\n",
       "    <tr>\n",
       "      <th>0</th>\n",
       "      <td>0.22</td>\n",
       "      <td>3</td>\n",
       "      <td>0.688750</td>\n",
       "      <td>0.008537</td>\n",
       "    </tr>\n",
       "    <tr>\n",
       "      <th>1</th>\n",
       "      <td>0</td>\n",
       "      <td>3</td>\n",
       "      <td>0.687467</td>\n",
       "      <td>0.008945</td>\n",
       "    </tr>\n",
       "    <tr>\n",
       "      <th>2</th>\n",
       "      <td>0.22</td>\n",
       "      <td>2</td>\n",
       "      <td>0.677322</td>\n",
       "      <td>0.008753</td>\n",
       "    </tr>\n",
       "    <tr>\n",
       "      <th>3</th>\n",
       "      <td>0</td>\n",
       "      <td>2</td>\n",
       "      <td>0.675244</td>\n",
       "      <td>0.008267</td>\n",
       "    </tr>\n",
       "  </tbody>\n",
       "</table>\n",
       "</div>"
      ],
      "text/plain": [
       "  param_LogisticRegression__l1_ratio param_PolynomialFeatures__degree  \\\n",
       "0                               0.22                                3   \n",
       "1                                  0                                3   \n",
       "2                               0.22                                2   \n",
       "3                                  0                                2   \n",
       "\n",
       "   mean_test_score  std_test_score  \n",
       "0         0.688750        0.008537  \n",
       "1         0.687467        0.008945  \n",
       "2         0.677322        0.008753  \n",
       "3         0.675244        0.008267  "
      ]
     },
     "execution_count": 8,
     "metadata": {},
     "output_type": "execute_result"
    },
    {
     "data": {
      "image/png": "[encoded data removed]",
      "text/plain": [
       "<Figure size 432x288 with 2 Axes>"
      ]
     },
     "metadata": {
      "needs_background": "light"
     },
     "output_type": "display_data"
    }
   ],
   "source": [
    "PolynomialFeatures_pipeline = Pipeline(\n",
    "    [\n",
    "        (\"PolynomialFeatures\", PolynomialFeatures()),\n",
    "        (\"StandardScaler\", StandardScaler()),\n",
    "        (\"MinMaxScaler\", MinMaxScaler()),\n",
    "        (\n",
    "            \"LogisticRegression\", BaseLogisticRegression,\n",
    "        ),\n",
    "    ]\n",
    ")\n",
    "(\n",
    "    model_3,\n",
    "    model_3_scores,\n",
    "    model_3_scores_raw,\n",
    ") = search_score_and_evalute_parameters(\n",
    "    reduced_dataset_X_y[\"eval_split\"][\"X_train\"],\n",
    "    reduced_dataset_X_y[\"eval_split\"][\"X_test\"],\n",
    "    reduced_dataset_X_y[\"eval_split\"][\"y_train\"],\n",
    "    reduced_dataset_X_y[\"eval_split\"][\"y_test\"],\n",
    "    PolynomialFeatures_pipeline,\n",
    "    LogisticRegression_grid_parameters_updated,\n",
    "    \"recall\",\n",
    ")\n",
    "model_3_scores"
   ]
  },
  {
   "cell_type": "code",
   "execution_count": 9,
   "metadata": {},
   "outputs": [],
   "source": [
    "LogisticRegression_grid_parameters_updated_2 = {\"LogisticRegression__l1_ratio\": [0], \"PolynomialFeatures__degree\": [4]}"
   ]
  },
  {
   "cell_type": "code",
   "execution_count": 10,
   "metadata": {},
   "outputs": [
    {
     "name": "stdout",
     "output_type": "stream",
     "text": [
      "              precision    recall  f1-score   support\n",
      "\n",
      "           0       0.72      0.76      0.74      7177\n",
      "           1       0.74      0.69      0.72      7061\n",
      "\n",
      "    accuracy                           0.73     14238\n",
      "   macro avg       0.73      0.73      0.73     14238\n",
      "weighted avg       0.73      0.73      0.73     14238\n",
      "\n"
     ]
    },
    {
     "data": {
      "text/html": [
       "<div>\n",
       "<style scoped>\n",
       "    .dataframe tbody tr th:only-of-type {\n",
       "        vertical-align: middle;\n",
       "    }\n",
       "\n",
       "    .dataframe tbody tr th {\n",
       "        vertical-align: top;\n",
       "    }\n",
       "\n",
       "    .dataframe thead th {\n",
       "        text-align: right;\n",
       "    }\n",
       "</style>\n",
       "<table border=\"1\" class=\"dataframe\">\n",
       "  <thead>\n",
       "    <tr style=\"text-align: right;\">\n",
       "      <th></th>\n",
       "      <th>param_LogisticRegression__l1_ratio</th>\n",
       "      <th>param_PolynomialFeatures__degree</th>\n",
       "      <th>mean_test_score</th>\n",
       "      <th>std_test_score</th>\n",
       "    </tr>\n",
       "  </thead>\n",
       "  <tbody>\n",
       "    <tr>\n",
       "      <th>0</th>\n",
       "      <td>0</td>\n",
       "      <td>4</td>\n",
       "      <td>0.694372</td>\n",
       "      <td>0.008968</td>\n",
       "    </tr>\n",
       "  </tbody>\n",
       "</table>\n",
       "</div>"
      ],
      "text/plain": [
       "  param_LogisticRegression__l1_ratio param_PolynomialFeatures__degree  \\\n",
       "0                                  0                                4   \n",
       "\n",
       "   mean_test_score  std_test_score  \n",
       "0         0.694372        0.008968  "
      ]
     },
     "execution_count": 10,
     "metadata": {},
     "output_type": "execute_result"
    },
    {
     "data": {
      "image/png": "[encoded data removed]",
      "text/plain": [
       "<Figure size 432x288 with 2 Axes>"
      ]
     },
     "metadata": {
      "needs_background": "light"
     },
     "output_type": "display_data"
    }
   ],
   "source": [
    "PolynomialFeatures_pipeline = Pipeline(\n",
    "    [\n",
    "        (\"PolynomialFeatures\", PolynomialFeatures()),\n",
    "        (\"StandardScaler\", StandardScaler()),\n",
    "        (\"MinMaxScaler\", MinMaxScaler()),\n",
    "        (\n",
    "            \"LogisticRegression\", BaseLogisticRegression,\n",
    "        ),\n",
    "    ]\n",
    ")\n",
    "(\n",
    "    model_4,\n",
    "    model_4_scores,\n",
    "    model_4_scores_raw,\n",
    ") = search_score_and_evalute_parameters(\n",
    "    reduced_dataset_X_y[\"eval_split\"][\"X_train\"],\n",
    "    reduced_dataset_X_y[\"eval_split\"][\"X_test\"],\n",
    "    reduced_dataset_X_y[\"eval_split\"][\"y_train\"],\n",
    "    reduced_dataset_X_y[\"eval_split\"][\"y_test\"],\n",
    "    PolynomialFeatures_pipeline,\n",
    "    LogisticRegression_grid_parameters_updated_2,\n",
    "    \"recall\",\n",
    ")\n",
    "model_4_scores"
   ]
  },
  {
   "cell_type": "code",
   "execution_count": 15,
   "metadata": {},
   "outputs": [
    {
     "name": "stdout",
     "output_type": "stream",
     "text": [
      "              precision    recall  f1-score   support\n",
      "\n",
      "           0       0.72      0.76      0.74     10232\n",
      "           1       0.74      0.70      0.72     10108\n",
      "\n",
      "    accuracy                           0.73     20340\n",
      "   macro avg       0.73      0.73      0.73     20340\n",
      "weighted avg       0.73      0.73      0.73     20340\n",
      "\n"
     ]
    },
    {
     "data": {
      "image/png": "[encoded data removed]",
      "text/plain": [
       "<Figure size 432x288 with 2 Axes>"
      ]
     },
     "metadata": {
      "needs_background": "light"
     },
     "output_type": "display_data"
    }
   ],
   "source": [
    "show_classification_evaluation_metrics(model_4, reduced_dataset_X_y['full_split']['X_test'], reduced_dataset_X_y['full_split']['y_test'])"
   ]
  }
 ],
 "metadata": {
  "interpreter": {
   "hash": "94df931339f7917b6c0770e1c159f877669809da314458214c51c9be421d1dd6"
  },
  "kernelspec": {
   "display_name": "Python 3.9.9 ('machine-learning-_KPFOz0i')",
   "language": "python",
   "name": "python3"
  },
  "language_info": {
   "codemirror_mode": {
    "name": "ipython",
    "version": 3
   },
   "file_extension": ".py",
   "mimetype": "text/x-python",
   "name": "python",
   "nbconvert_exporter": "python",
   "pygments_lexer": "ipython3",
   "version": "3.9.9"
  },
  "orig_nbformat": 4
 },
 "nbformat": 4,
 "nbformat_minor": 2
}
