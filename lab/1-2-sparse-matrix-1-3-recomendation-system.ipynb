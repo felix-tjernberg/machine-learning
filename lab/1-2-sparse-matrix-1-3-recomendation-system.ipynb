{
 "cells": [
  {
   "cell_type": "markdown",
   "metadata": {},
   "source": [
    "# 1-2 Create spare matrix"
   ]
  },
  {
   "cell_type": "code",
   "execution_count": 1,
   "metadata": {},
   "outputs": [],
   "source": [
    "import pandas as pd "
   ]
  },
  {
   "cell_type": "code",
   "execution_count": 2,
   "metadata": {},
   "outputs": [],
   "source": [
    "movies_raw = pd.read_csv('./data/movies_big.csv', dtype={'movieId': 'int32'})\n",
    "ratings_raw = pd.read_csv('./data/ratings_big.csv', usecols=['userId', 'movieId', 'rating'], dtype={'movieId': 'int32', 'userId':'int32', 'rating':'float32'})"
   ]
  },
  {
   "cell_type": "code",
   "execution_count": 3,
   "metadata": {},
   "outputs": [
    {
     "name": "stdout",
     "output_type": "stream",
     "text": [
      "<class 'pandas.core.series.Series'>\n",
      "Int64Index: 53889 entries, 1 to 193886\n",
      "Series name: rating\n",
      "Non-Null Count  Dtype  \n",
      "--------------  -----  \n",
      "53889 non-null  float32\n",
      "dtypes: float32(1)\n",
      "memory usage: 631.5 KB\n"
     ]
    }
   ],
   "source": [
    "avarage_rating = ratings_raw.groupby('movieId')['rating'].mean()\n",
    "avarage_rating.info()"
   ]
  },
  {
   "cell_type": "code",
   "execution_count": 4,
   "metadata": {},
   "outputs": [
    {
     "data": {
      "text/plain": [
       "Int64Index([     1,      6,     11,     16,     17,     21,     25,     26,\n",
       "                28,     29,\n",
       "            ...\n",
       "            193765, 193785, 193795, 193799, 193801, 193835, 193843, 193868,\n",
       "            193872, 193874],\n",
       "           dtype='int64', name='movieId', length=13466)"
      ]
     },
     "execution_count": 4,
     "metadata": {},
     "output_type": "execute_result"
    }
   ],
   "source": [
    "movies_with_rating_over_x = pd.DataFrame(avarage_rating).query('rating > 3.5').index\n",
    "movies_with_rating_over_x"
   ]
  },
  {
   "cell_type": "code",
   "execution_count": 5,
   "metadata": {},
   "outputs": [
    {
     "name": "stdout",
     "output_type": "stream",
     "text": [
      "<class 'pandas.core.frame.DataFrame'>\n",
      "RangeIndex: 27753444 entries, 0 to 27753443\n",
      "Data columns (total 3 columns):\n",
      " #   Column   Dtype  \n",
      "---  ------   -----  \n",
      " 0   userId   int32  \n",
      " 1   movieId  int32  \n",
      " 2   rating   float32\n",
      "dtypes: float32(1), int32(2)\n",
      "memory usage: 317.6 MB\n"
     ]
    }
   ],
   "source": [
    "ratings_raw.info()"
   ]
  },
  {
   "cell_type": "code",
   "execution_count": 6,
   "metadata": {},
   "outputs": [
    {
     "name": "stdout",
     "output_type": "stream",
     "text": [
      "<class 'pandas.core.frame.DataFrame'>\n",
      "Int64Index: 16314048 entries, 0 to 27753443\n",
      "Data columns (total 3 columns):\n",
      " #   Column   Dtype  \n",
      "---  ------   -----  \n",
      " 0   userId   int32  \n",
      " 1   movieId  int32  \n",
      " 2   rating   float32\n",
      "dtypes: float32(1), int32(2)\n",
      "memory usage: 311.2 MB\n"
     ]
    }
   ],
   "source": [
    "ratings_cleaned = ratings_raw.query(f'movieId == {list(movies_with_rating_over_x)}')\n",
    "ratings_cleaned.info()"
   ]
  },
  {
   "cell_type": "code",
   "execution_count": 7,
   "metadata": {},
   "outputs": [
    {
     "name": "stderr",
     "output_type": "stream",
     "text": [
      "/Users/creativezone/.local/share/virtualenvs/machine-learning-8KGYMX4H/lib/python3.9/site-packages/pandas/core/reshape/reshape.py:134: PerformanceWarning: The following operation may generate 3752314366 cells in the resulting pandas object.\n",
      "  warnings.warn(\n"
     ]
    }
   ],
   "source": [
    "ratings_pivot_table = ratings_cleaned.pivot(\n",
    "    index=\"movieId\", columns=\"userId\", values=\"rating\"\n",
    ").fillna(0);"
   ]
  },
  {
   "cell_type": "code",
   "execution_count": 8,
   "metadata": {},
   "outputs": [
    {
     "data": {
      "text/plain": [
       "<13466x278651 sparse matrix of type '<class 'numpy.float32'>'\n",
       "\twith 16314048 stored elements in Compressed Sparse Row format>"
      ]
     },
     "execution_count": 8,
     "metadata": {},
     "output_type": "execute_result"
    }
   ],
   "source": [
    "from scipy.sparse import csr_matrix\n",
    "ratings_csr_matrix = csr_matrix(ratings_pivot_table.values)\n",
    "ratings_csr_matrix"
   ]
  },
  {
   "cell_type": "code",
   "execution_count": 9,
   "metadata": {},
   "outputs": [
    {
     "data": {
      "text/plain": [
       "NearestNeighbors(algorithm='brute', metric='cosine')"
      ]
     },
     "execution_count": 9,
     "metadata": {},
     "output_type": "execute_result"
    }
   ],
   "source": [
    "from sklearn.neighbors import NearestNeighbors\n",
    "\n",
    "model_knn = NearestNeighbors(metric='cosine', algorithm='brute', n_neighbors=5)\n",
    "model_knn.fit(ratings_csr_matrix)"
   ]
  },
  {
   "cell_type": "code",
   "execution_count": 10,
   "metadata": {},
   "outputs": [
    {
     "data": {
      "text/plain": [
       "movieId                                              1\n",
       "title                                 Toy Story (1995)\n",
       "genres     Adventure|Animation|Children|Comedy|Fantasy\n",
       "Name: 0, dtype: object"
      ]
     },
     "execution_count": 10,
     "metadata": {},
     "output_type": "execute_result"
    }
   ],
   "source": [
    "movies_raw.iloc[0]"
   ]
  },
  {
   "cell_type": "code",
   "execution_count": 11,
   "metadata": {},
   "outputs": [
    {
     "data": {
      "text/html": [
       "<div>\n",
       "<style scoped>\n",
       "    .dataframe tbody tr th:only-of-type {\n",
       "        vertical-align: middle;\n",
       "    }\n",
       "\n",
       "    .dataframe tbody tr th {\n",
       "        vertical-align: top;\n",
       "    }\n",
       "\n",
       "    .dataframe thead th {\n",
       "        text-align: right;\n",
       "    }\n",
       "</style>\n",
       "<table border=\"1\" class=\"dataframe\">\n",
       "  <thead>\n",
       "    <tr style=\"text-align: right;\">\n",
       "      <th>userId</th>\n",
       "      <th>1</th>\n",
       "      <th>2</th>\n",
       "      <th>3</th>\n",
       "      <th>4</th>\n",
       "      <th>5</th>\n",
       "      <th>6</th>\n",
       "      <th>7</th>\n",
       "      <th>8</th>\n",
       "      <th>9</th>\n",
       "      <th>10</th>\n",
       "      <th>...</th>\n",
       "      <th>283218</th>\n",
       "      <th>283219</th>\n",
       "      <th>283220</th>\n",
       "      <th>283221</th>\n",
       "      <th>283222</th>\n",
       "      <th>283223</th>\n",
       "      <th>283224</th>\n",
       "      <th>283225</th>\n",
       "      <th>283227</th>\n",
       "      <th>283228</th>\n",
       "    </tr>\n",
       "    <tr>\n",
       "      <th>movieId</th>\n",
       "      <th></th>\n",
       "      <th></th>\n",
       "      <th></th>\n",
       "      <th></th>\n",
       "      <th></th>\n",
       "      <th></th>\n",
       "      <th></th>\n",
       "      <th></th>\n",
       "      <th></th>\n",
       "      <th></th>\n",
       "      <th></th>\n",
       "      <th></th>\n",
       "      <th></th>\n",
       "      <th></th>\n",
       "      <th></th>\n",
       "      <th></th>\n",
       "      <th></th>\n",
       "      <th></th>\n",
       "      <th></th>\n",
       "      <th></th>\n",
       "      <th></th>\n",
       "    </tr>\n",
       "  </thead>\n",
       "  <tbody>\n",
       "    <tr>\n",
       "      <th>1</th>\n",
       "      <td>0.0</td>\n",
       "      <td>0.0</td>\n",
       "      <td>0.0</td>\n",
       "      <td>4.0</td>\n",
       "      <td>0.0</td>\n",
       "      <td>0.0</td>\n",
       "      <td>0.0</td>\n",
       "      <td>0.0</td>\n",
       "      <td>0.0</td>\n",
       "      <td>5.0</td>\n",
       "      <td>...</td>\n",
       "      <td>0.0</td>\n",
       "      <td>4.0</td>\n",
       "      <td>0.0</td>\n",
       "      <td>0.0</td>\n",
       "      <td>0.0</td>\n",
       "      <td>0.0</td>\n",
       "      <td>0.0</td>\n",
       "      <td>0.0</td>\n",
       "      <td>0.0</td>\n",
       "      <td>4.5</td>\n",
       "    </tr>\n",
       "    <tr>\n",
       "      <th>6</th>\n",
       "      <td>0.0</td>\n",
       "      <td>0.0</td>\n",
       "      <td>0.0</td>\n",
       "      <td>4.5</td>\n",
       "      <td>0.0</td>\n",
       "      <td>0.0</td>\n",
       "      <td>0.0</td>\n",
       "      <td>0.0</td>\n",
       "      <td>0.0</td>\n",
       "      <td>0.0</td>\n",
       "      <td>...</td>\n",
       "      <td>0.0</td>\n",
       "      <td>0.0</td>\n",
       "      <td>0.0</td>\n",
       "      <td>0.0</td>\n",
       "      <td>0.0</td>\n",
       "      <td>0.0</td>\n",
       "      <td>0.0</td>\n",
       "      <td>0.0</td>\n",
       "      <td>0.0</td>\n",
       "      <td>0.0</td>\n",
       "    </tr>\n",
       "    <tr>\n",
       "      <th>11</th>\n",
       "      <td>0.0</td>\n",
       "      <td>0.0</td>\n",
       "      <td>0.0</td>\n",
       "      <td>3.5</td>\n",
       "      <td>0.0</td>\n",
       "      <td>0.0</td>\n",
       "      <td>0.0</td>\n",
       "      <td>0.0</td>\n",
       "      <td>0.0</td>\n",
       "      <td>0.0</td>\n",
       "      <td>...</td>\n",
       "      <td>0.0</td>\n",
       "      <td>0.0</td>\n",
       "      <td>0.0</td>\n",
       "      <td>0.0</td>\n",
       "      <td>0.0</td>\n",
       "      <td>0.0</td>\n",
       "      <td>0.0</td>\n",
       "      <td>0.0</td>\n",
       "      <td>0.0</td>\n",
       "      <td>4.0</td>\n",
       "    </tr>\n",
       "    <tr>\n",
       "      <th>16</th>\n",
       "      <td>0.0</td>\n",
       "      <td>0.0</td>\n",
       "      <td>0.0</td>\n",
       "      <td>4.0</td>\n",
       "      <td>0.0</td>\n",
       "      <td>0.0</td>\n",
       "      <td>0.0</td>\n",
       "      <td>0.0</td>\n",
       "      <td>0.0</td>\n",
       "      <td>0.0</td>\n",
       "      <td>...</td>\n",
       "      <td>0.0</td>\n",
       "      <td>0.0</td>\n",
       "      <td>0.0</td>\n",
       "      <td>0.0</td>\n",
       "      <td>0.0</td>\n",
       "      <td>0.0</td>\n",
       "      <td>0.0</td>\n",
       "      <td>0.0</td>\n",
       "      <td>0.0</td>\n",
       "      <td>0.0</td>\n",
       "    </tr>\n",
       "    <tr>\n",
       "      <th>17</th>\n",
       "      <td>0.0</td>\n",
       "      <td>0.0</td>\n",
       "      <td>0.0</td>\n",
       "      <td>0.0</td>\n",
       "      <td>0.0</td>\n",
       "      <td>0.0</td>\n",
       "      <td>0.0</td>\n",
       "      <td>0.0</td>\n",
       "      <td>0.0</td>\n",
       "      <td>0.0</td>\n",
       "      <td>...</td>\n",
       "      <td>0.0</td>\n",
       "      <td>0.0</td>\n",
       "      <td>0.0</td>\n",
       "      <td>0.0</td>\n",
       "      <td>0.0</td>\n",
       "      <td>0.0</td>\n",
       "      <td>0.0</td>\n",
       "      <td>0.0</td>\n",
       "      <td>0.0</td>\n",
       "      <td>0.0</td>\n",
       "    </tr>\n",
       "    <tr>\n",
       "      <th>21</th>\n",
       "      <td>0.0</td>\n",
       "      <td>0.0</td>\n",
       "      <td>0.0</td>\n",
       "      <td>0.0</td>\n",
       "      <td>0.0</td>\n",
       "      <td>4.0</td>\n",
       "      <td>0.0</td>\n",
       "      <td>0.0</td>\n",
       "      <td>0.0</td>\n",
       "      <td>0.0</td>\n",
       "      <td>...</td>\n",
       "      <td>0.0</td>\n",
       "      <td>0.0</td>\n",
       "      <td>4.0</td>\n",
       "      <td>0.0</td>\n",
       "      <td>0.0</td>\n",
       "      <td>0.0</td>\n",
       "      <td>0.0</td>\n",
       "      <td>0.0</td>\n",
       "      <td>0.0</td>\n",
       "      <td>4.0</td>\n",
       "    </tr>\n",
       "    <tr>\n",
       "      <th>25</th>\n",
       "      <td>0.0</td>\n",
       "      <td>0.0</td>\n",
       "      <td>0.0</td>\n",
       "      <td>4.5</td>\n",
       "      <td>0.0</td>\n",
       "      <td>0.0</td>\n",
       "      <td>0.0</td>\n",
       "      <td>0.0</td>\n",
       "      <td>0.0</td>\n",
       "      <td>0.0</td>\n",
       "      <td>...</td>\n",
       "      <td>0.0</td>\n",
       "      <td>0.0</td>\n",
       "      <td>0.0</td>\n",
       "      <td>0.0</td>\n",
       "      <td>0.0</td>\n",
       "      <td>0.0</td>\n",
       "      <td>0.0</td>\n",
       "      <td>0.0</td>\n",
       "      <td>0.0</td>\n",
       "      <td>0.0</td>\n",
       "    </tr>\n",
       "    <tr>\n",
       "      <th>26</th>\n",
       "      <td>0.0</td>\n",
       "      <td>0.0</td>\n",
       "      <td>0.0</td>\n",
       "      <td>0.0</td>\n",
       "      <td>0.0</td>\n",
       "      <td>0.0</td>\n",
       "      <td>0.0</td>\n",
       "      <td>0.0</td>\n",
       "      <td>0.0</td>\n",
       "      <td>0.0</td>\n",
       "      <td>...</td>\n",
       "      <td>0.0</td>\n",
       "      <td>0.0</td>\n",
       "      <td>0.0</td>\n",
       "      <td>0.0</td>\n",
       "      <td>0.0</td>\n",
       "      <td>0.0</td>\n",
       "      <td>0.0</td>\n",
       "      <td>0.0</td>\n",
       "      <td>0.0</td>\n",
       "      <td>0.0</td>\n",
       "    </tr>\n",
       "    <tr>\n",
       "      <th>28</th>\n",
       "      <td>0.0</td>\n",
       "      <td>0.0</td>\n",
       "      <td>0.0</td>\n",
       "      <td>0.0</td>\n",
       "      <td>0.0</td>\n",
       "      <td>0.0</td>\n",
       "      <td>0.0</td>\n",
       "      <td>0.0</td>\n",
       "      <td>0.0</td>\n",
       "      <td>0.0</td>\n",
       "      <td>...</td>\n",
       "      <td>0.0</td>\n",
       "      <td>0.0</td>\n",
       "      <td>0.0</td>\n",
       "      <td>0.0</td>\n",
       "      <td>0.0</td>\n",
       "      <td>0.0</td>\n",
       "      <td>0.0</td>\n",
       "      <td>0.0</td>\n",
       "      <td>0.0</td>\n",
       "      <td>0.0</td>\n",
       "    </tr>\n",
       "    <tr>\n",
       "      <th>29</th>\n",
       "      <td>0.0</td>\n",
       "      <td>0.0</td>\n",
       "      <td>0.0</td>\n",
       "      <td>0.0</td>\n",
       "      <td>0.0</td>\n",
       "      <td>0.0</td>\n",
       "      <td>0.0</td>\n",
       "      <td>0.0</td>\n",
       "      <td>0.0</td>\n",
       "      <td>0.0</td>\n",
       "      <td>...</td>\n",
       "      <td>0.0</td>\n",
       "      <td>0.0</td>\n",
       "      <td>0.0</td>\n",
       "      <td>0.0</td>\n",
       "      <td>0.0</td>\n",
       "      <td>0.0</td>\n",
       "      <td>0.0</td>\n",
       "      <td>0.0</td>\n",
       "      <td>0.0</td>\n",
       "      <td>0.0</td>\n",
       "    </tr>\n",
       "  </tbody>\n",
       "</table>\n",
       "<p>10 rows × 278651 columns</p>\n",
       "</div>"
      ],
      "text/plain": [
       "userId   1       2       3       4       5       6       7       8       \\\n",
       "movieId                                                                   \n",
       "1           0.0     0.0     0.0     4.0     0.0     0.0     0.0     0.0   \n",
       "6           0.0     0.0     0.0     4.5     0.0     0.0     0.0     0.0   \n",
       "11          0.0     0.0     0.0     3.5     0.0     0.0     0.0     0.0   \n",
       "16          0.0     0.0     0.0     4.0     0.0     0.0     0.0     0.0   \n",
       "17          0.0     0.0     0.0     0.0     0.0     0.0     0.0     0.0   \n",
       "21          0.0     0.0     0.0     0.0     0.0     4.0     0.0     0.0   \n",
       "25          0.0     0.0     0.0     4.5     0.0     0.0     0.0     0.0   \n",
       "26          0.0     0.0     0.0     0.0     0.0     0.0     0.0     0.0   \n",
       "28          0.0     0.0     0.0     0.0     0.0     0.0     0.0     0.0   \n",
       "29          0.0     0.0     0.0     0.0     0.0     0.0     0.0     0.0   \n",
       "\n",
       "userId   9       10      ...  283218  283219  283220  283221  283222  283223  \\\n",
       "movieId                  ...                                                   \n",
       "1           0.0     5.0  ...     0.0     4.0     0.0     0.0     0.0     0.0   \n",
       "6           0.0     0.0  ...     0.0     0.0     0.0     0.0     0.0     0.0   \n",
       "11          0.0     0.0  ...     0.0     0.0     0.0     0.0     0.0     0.0   \n",
       "16          0.0     0.0  ...     0.0     0.0     0.0     0.0     0.0     0.0   \n",
       "17          0.0     0.0  ...     0.0     0.0     0.0     0.0     0.0     0.0   \n",
       "21          0.0     0.0  ...     0.0     0.0     4.0     0.0     0.0     0.0   \n",
       "25          0.0     0.0  ...     0.0     0.0     0.0     0.0     0.0     0.0   \n",
       "26          0.0     0.0  ...     0.0     0.0     0.0     0.0     0.0     0.0   \n",
       "28          0.0     0.0  ...     0.0     0.0     0.0     0.0     0.0     0.0   \n",
       "29          0.0     0.0  ...     0.0     0.0     0.0     0.0     0.0     0.0   \n",
       "\n",
       "userId   283224  283225  283227  283228  \n",
       "movieId                                  \n",
       "1           0.0     0.0     0.0     4.5  \n",
       "6           0.0     0.0     0.0     0.0  \n",
       "11          0.0     0.0     0.0     4.0  \n",
       "16          0.0     0.0     0.0     0.0  \n",
       "17          0.0     0.0     0.0     0.0  \n",
       "21          0.0     0.0     0.0     4.0  \n",
       "25          0.0     0.0     0.0     0.0  \n",
       "26          0.0     0.0     0.0     0.0  \n",
       "28          0.0     0.0     0.0     0.0  \n",
       "29          0.0     0.0     0.0     0.0  \n",
       "\n",
       "[10 rows x 278651 columns]"
      ]
     },
     "execution_count": 11,
     "metadata": {},
     "output_type": "execute_result"
    }
   ],
   "source": [
    "ratings_pivot_table[:10]"
   ]
  },
  {
   "cell_type": "code",
   "execution_count": 65,
   "metadata": {},
   "outputs": [
    {
     "name": "stdout",
     "output_type": "stream",
     "text": [
      "  (0, 3)\t4.0\n",
      "  (0, 9)\t5.0\n",
      "  (0, 13)\t4.5\n",
      "  (0, 14)\t4.0\n",
      "  (0, 20)\t4.0\n",
      "  (0, 23)\t4.0\n",
      "  (0, 25)\t5.0\n",
      "  (0, 29)\t5.0\n",
      "  (0, 30)\t4.5\n",
      "  (0, 35)\t5.0\n",
      "  (0, 39)\t4.0\n",
      "  (0, 40)\t5.0\n",
      "  (0, 48)\t4.0\n",
      "  (0, 51)\t3.0\n",
      "  (0, 52)\t5.0\n",
      "  (0, 53)\t2.5\n",
      "  (0, 55)\t4.0\n",
      "  (0, 59)\t4.0\n",
      "  (0, 63)\t4.0\n",
      "  (0, 66)\t4.0\n",
      "  (0, 67)\t4.0\n",
      "  (0, 69)\t4.0\n",
      "  (0, 70)\t5.0\n",
      "  (0, 75)\t5.0\n",
      "  (0, 95)\t4.5\n",
      "  :\t:\n",
      "  (13444, 156006)\t4.0\n",
      "  (13445, 156006)\t4.0\n",
      "  (13446, 156006)\t5.0\n",
      "  (13447, 156006)\t5.0\n",
      "  (13448, 115960)\t4.0\n",
      "  (13449, 73686)\t4.0\n",
      "  (13450, 183510)\t5.0\n",
      "  (13451, 189826)\t5.0\n",
      "  (13452, 53257)\t4.0\n",
      "  (13453, 56396)\t5.0\n",
      "  (13454, 226115)\t4.0\n",
      "  (13455, 31034)\t5.0\n",
      "  (13456, 175021)\t4.5\n",
      "  (13457, 80612)\t4.0\n",
      "  (13458, 115596)\t5.0\n",
      "  (13459, 212435)\t4.0\n",
      "  (13459, 261781)\t5.0\n",
      "  (13460, 212435)\t4.0\n",
      "  (13460, 261781)\t5.0\n",
      "  (13461, 74178)\t4.5\n",
      "  (13462, 4160)\t4.0\n",
      "  (13463, 73241)\t4.0\n",
      "  (13463, 136186)\t4.5\n",
      "  (13464, 228745)\t4.0\n",
      "  (13465, 178554)\t5.0\n"
     ]
    }
   ],
   "source": [
    "print(ratings_csr_matrix)"
   ]
  },
  {
   "cell_type": "code",
   "execution_count": 69,
   "metadata": {},
   "outputs": [
    {
     "data": {
      "text/html": [
       "<div>\n",
       "<style scoped>\n",
       "    .dataframe tbody tr th:only-of-type {\n",
       "        vertical-align: middle;\n",
       "    }\n",
       "\n",
       "    .dataframe tbody tr th {\n",
       "        vertical-align: top;\n",
       "    }\n",
       "\n",
       "    .dataframe thead th {\n",
       "        text-align: right;\n",
       "    }\n",
       "</style>\n",
       "<table border=\"1\" class=\"dataframe\">\n",
       "  <thead>\n",
       "    <tr style=\"text-align: right;\">\n",
       "      <th></th>\n",
       "      <th>movieId</th>\n",
       "      <th>title</th>\n",
       "      <th>genres</th>\n",
       "    </tr>\n",
       "  </thead>\n",
       "  <tbody>\n",
       "    <tr>\n",
       "      <th>0</th>\n",
       "      <td>1</td>\n",
       "      <td>Toy Story (1995)</td>\n",
       "      <td>Adventure|Animation|Children|Comedy|Fantasy</td>\n",
       "    </tr>\n",
       "    <tr>\n",
       "      <th>1</th>\n",
       "      <td>6</td>\n",
       "      <td>Heat (1995)</td>\n",
       "      <td>Action|Crime|Thriller</td>\n",
       "    </tr>\n",
       "    <tr>\n",
       "      <th>2</th>\n",
       "      <td>11</td>\n",
       "      <td>American President, The (1995)</td>\n",
       "      <td>Comedy|Drama|Romance</td>\n",
       "    </tr>\n",
       "    <tr>\n",
       "      <th>3</th>\n",
       "      <td>16</td>\n",
       "      <td>Casino (1995)</td>\n",
       "      <td>Crime|Drama</td>\n",
       "    </tr>\n",
       "    <tr>\n",
       "      <th>4</th>\n",
       "      <td>17</td>\n",
       "      <td>Sense and Sensibility (1995)</td>\n",
       "      <td>Drama|Romance</td>\n",
       "    </tr>\n",
       "  </tbody>\n",
       "</table>\n",
       "</div>"
      ],
      "text/plain": [
       "   movieId                           title  \\\n",
       "0        1                Toy Story (1995)   \n",
       "1        6                     Heat (1995)   \n",
       "2       11  American President, The (1995)   \n",
       "3       16                   Casino (1995)   \n",
       "4       17    Sense and Sensibility (1995)   \n",
       "\n",
       "                                        genres  \n",
       "0  Adventure|Animation|Children|Comedy|Fantasy  \n",
       "1                        Action|Crime|Thriller  \n",
       "2                         Comedy|Drama|Romance  \n",
       "3                                  Crime|Drama  \n",
       "4                                Drama|Romance  "
      ]
     },
     "execution_count": 69,
     "metadata": {},
     "output_type": "execute_result"
    }
   ],
   "source": [
    "movies_cleaned = movies_raw.loc[\n",
    "    movies_raw[\"movieId\"].isin(list(ratings_cleaned[\"movieId\"].values))\n",
    "].reset_index().drop(columns=['index'])\n",
    "movies_cleaned.head()"
   ]
  },
  {
   "cell_type": "markdown",
   "metadata": {},
   "source": [
    "# 1-3 Recommendation system"
   ]
  },
  {
   "cell_type": "code",
   "execution_count": 71,
   "metadata": {},
   "outputs": [
    {
     "name": "stdout",
     "output_type": "stream",
     "text": [
      "Star Wars: Episode IV - A New Hope (1977)\n",
      "Toy Story 2 (1999)\n",
      "Back to the Future (1985)\n",
      "Jurassic Park (1993)\n",
      "Forrest Gump (1994)\n",
      "Lion King, The (1994)\n",
      "Star Wars: Episode VI - Return of the Jedi (1983)\n",
      "Aladdin (1992)\n",
      "Willy Wonka & the Chocolate Factory (1971)\n"
     ]
    }
   ],
   "source": [
    "from fuzzywuzzy import process\n",
    "\n",
    "def recommend_movies(movie_name, number_of_recommendations):\n",
    "    search_index = process.extractOne(movie_name, movies_cleaned[\"title\"])\n",
    "    _distances, csr_indices = model_knn.kneighbors(\n",
    "        ratings_csr_matrix[search_index[2]], n_neighbors=number_of_recommendations\n",
    "    )\n",
    "    recomendation_list = [\n",
    "        movies_cleaned.iloc[csr_index][\"title\"]\n",
    "        for csr_index in csr_indices[0]\n",
    "        if csr_index != search_index[2]\n",
    "    ]\n",
    "    for recomendation in recomendation_list:\n",
    "        print(recomendation)\n",
    "\n",
    "recommend_movies(\"toy story\", 10)"
   ]
  }
 ],
 "metadata": {
  "interpreter": {
   "hash": "e51c63e2fa96bdee1d022b3260efb3b75a99f074551b3f9632d2fa65f13bcac4"
  },
  "kernelspec": {
   "display_name": "Python 3.9.9 ('machine-learning-8KGYMX4H')",
   "language": "python",
   "name": "python3"
  },
  "language_info": {
   "codemirror_mode": {
    "name": "ipython",
    "version": 3
   },
   "file_extension": ".py",
   "mimetype": "text/x-python",
   "name": "python",
   "nbconvert_exporter": "python",
   "pygments_lexer": "ipython3",
   "version": "3.9.9"
  },
  "orig_nbformat": 4
 },
 "nbformat": 4,
 "nbformat_minor": 2
}
