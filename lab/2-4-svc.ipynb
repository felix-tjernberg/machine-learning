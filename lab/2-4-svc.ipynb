{
 "cells": [
  {
   "cell_type": "markdown",
   "metadata": {},
   "source": [
    "# SVC"
   ]
  },
  {
   "cell_type": "code",
   "execution_count": 1,
   "metadata": {},
   "outputs": [],
   "source": [
    "from cardio_datasets import full_dataset, reduced_dataset, categorial_dataset, continuous_dataset\n",
    "from model_selection_and_evaluation_functions import create_train_test_eval_split, search_score_and_evalute_parameters, show_classification_evaluation_metrics\n",
    "\n",
    "import joblib\n",
    "from sklearn.pipeline import Pipeline\n",
    "from sklearn.svm import SVC\n",
    "from sklearn.preprocessing import MinMaxScaler, PolynomialFeatures"
   ]
  },
  {
   "cell_type": "markdown",
   "metadata": {},
   "source": [
    "## Datasets"
   ]
  },
  {
   "cell_type": "code",
   "execution_count": 2,
   "metadata": {},
   "outputs": [],
   "source": [
    "categorial_dataset_X_y = create_train_test_eval_split(categorial_dataset, 'cardio')\n",
    "continuous_dataset_X_y = create_train_test_eval_split(continuous_dataset, 'cardio')\n",
    "full_dataset_X_y = create_train_test_eval_split(full_dataset, 'cardio')\n",
    "reduced_dataset_X_y = create_train_test_eval_split(reduced_dataset, 'cardio')"
   ]
  },
  {
   "cell_type": "markdown",
   "metadata": {},
   "source": [
    "## Hyper parameter tuning"
   ]
  },
  {
   "cell_type": "code",
   "execution_count": 3,
   "metadata": {},
   "outputs": [],
   "source": [
    "BaseSVC = SVC(max_iter=1000000, random_state=1338)"
   ]
  },
  {
   "cell_type": "code",
   "execution_count": 4,
   "metadata": {},
   "outputs": [],
   "source": [
    "SVC_grid_parameters_1 = {\n",
    "    \"SVC__C\": [0.001, 0.01, 0.1, 1, 10],\n",
    "    \"SVC__kernel\": ['linear', 'poly', 'rbf', 'sigmoid', 'precomputed']\n",
    "}"
   ]
  },
  {
   "cell_type": "code",
   "execution_count": 6,
   "metadata": {},
   "outputs": [],
   "source": [
    "SVC_MinMaxScaler_pipeline = Pipeline(\n",
    "    [\n",
    "        (\"MinMaxScaler\", MinMaxScaler()),\n",
    "        (\"SVC\", BaseSVC),\n",
    "    ]\n",
    ")\n",
    "# (\n",
    "#     SVC_model_1,\n",
    "#     SVC_model_1_scores,\n",
    "#     SVC_model_1_scores_raw,\n",
    "# ) = search_score_and_evalute_parameters(\n",
    "#     reduced_dataset_X_y[\"eval_split\"][\"X_train\"],\n",
    "#     reduced_dataset_X_y[\"eval_split\"][\"X_test\"],\n",
    "#     reduced_dataset_X_y[\"eval_split\"][\"y_train\"],\n",
    "#     reduced_dataset_X_y[\"eval_split\"][\"y_test\"],\n",
    "#     SVC_MinMaxScaler_pipeline,\n",
    "#     SVC_grid_parameters_1,\n",
    "#     \"recall\",\n",
    "# )\n",
    "# SVC_model_1_scores"
   ]
  }
 ],
 "metadata": {
  "interpreter": {
   "hash": "94df931339f7917b6c0770e1c159f877669809da314458214c51c9be421d1dd6"
  },
  "kernelspec": {
   "display_name": "Python 3.9.9 ('machine-learning-_KPFOz0i')",
   "language": "python",
   "name": "python3"
  },
  "language_info": {
   "codemirror_mode": {
    "name": "ipython",
    "version": 3
   },
   "file_extension": ".py",
   "mimetype": "text/x-python",
   "name": "python",
   "nbconvert_exporter": "python",
   "pygments_lexer": "ipython3",
   "version": "3.9.9"
  },
  "orig_nbformat": 4
 },
 "nbformat": 4,
 "nbformat_minor": 2
}
