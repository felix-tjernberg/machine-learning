{
 "cells": [
  {
   "cell_type": "markdown",
   "metadata": {},
   "source": [
    "# K Nearest Neighbors"
   ]
  },
  {
   "cell_type": "code",
   "execution_count": 2,
   "metadata": {},
   "outputs": [],
   "source": [
    "from cardio_datasets import full_dataset, reduced_dataset, categorial_dataset, continuous_dataset\n",
    "from model_selection_and_evaluation_functions import create_train_test_eval_split, search_score_and_evalute_parameters, show_classification_evaluation_metrics\n",
    "\n",
    "import joblib\n",
    "from sklearn.pipeline import Pipeline\n",
    "from sklearn.neighbors import KNeighborsClassifier\n",
    "from sklearn.preprocessing import MinMaxScaler, StandardScaler, PolynomialFeatures"
   ]
  },
  {
   "cell_type": "markdown",
   "metadata": {},
   "source": [
    "## Datasets"
   ]
  },
  {
   "cell_type": "code",
   "execution_count": 2,
   "metadata": {},
   "outputs": [],
   "source": [
    "categorial_dataset_X_y = create_train_test_eval_split(categorial_dataset, 'cardio')\n",
    "continuous_dataset_X_y = create_train_test_eval_split(continuous_dataset, 'cardio')\n",
    "full_dataset_X_y = create_train_test_eval_split(full_dataset, 'cardio')\n",
    "reduced_dataset_X_y = create_train_test_eval_split(reduced_dataset, 'cardio')"
   ]
  },
  {
   "cell_type": "code",
   "execution_count": 3,
   "metadata": {},
   "outputs": [],
   "source": [
    "KNeighborsClassifier_grid_parameters_1 = {\n",
    "    \"KNeighborsClassifier__weights\": [\"uniform\", \"distance\"],\n",
    "    \"KNeighborsClassifier__leaf_size\": [15,30,60],\n",
    "}"
   ]
  },
  {
   "cell_type": "code",
   "execution_count": 4,
   "metadata": {},
   "outputs": [
    {
     "name": "stdout",
     "output_type": "stream",
     "text": [
      "              precision    recall  f1-score   support\n",
      "\n",
      "           0       0.70      0.70      0.70      7279\n",
      "           1       0.69      0.69      0.69      6938\n",
      "\n",
      "    accuracy                           0.70     14217\n",
      "   macro avg       0.70      0.70      0.70     14217\n",
      "weighted avg       0.70      0.70      0.70     14217\n",
      "\n"
     ]
    },
    {
     "data": {
      "text/html": [
       "<div>\n",
       "<style scoped>\n",
       "    .dataframe tbody tr th:only-of-type {\n",
       "        vertical-align: middle;\n",
       "    }\n",
       "\n",
       "    .dataframe tbody tr th {\n",
       "        vertical-align: top;\n",
       "    }\n",
       "\n",
       "    .dataframe thead th {\n",
       "        text-align: right;\n",
       "    }\n",
       "</style>\n",
       "<table border=\"1\" class=\"dataframe\">\n",
       "  <thead>\n",
       "    <tr style=\"text-align: right;\">\n",
       "      <th></th>\n",
       "      <th>param_KNeighborsClassifier__weights</th>\n",
       "      <th>param_KNeighborsClassifier__leaf_size</th>\n",
       "      <th>mean_test_score</th>\n",
       "      <th>std_test_score</th>\n",
       "    </tr>\n",
       "  </thead>\n",
       "  <tbody>\n",
       "    <tr>\n",
       "      <th>0</th>\n",
       "      <td>uniform</td>\n",
       "      <td>15</td>\n",
       "      <td>0.686861</td>\n",
       "      <td>0.007640</td>\n",
       "    </tr>\n",
       "    <tr>\n",
       "      <th>1</th>\n",
       "      <td>uniform</td>\n",
       "      <td>30</td>\n",
       "      <td>0.686861</td>\n",
       "      <td>0.007640</td>\n",
       "    </tr>\n",
       "    <tr>\n",
       "      <th>2</th>\n",
       "      <td>uniform</td>\n",
       "      <td>60</td>\n",
       "      <td>0.686861</td>\n",
       "      <td>0.007640</td>\n",
       "    </tr>\n",
       "    <tr>\n",
       "      <th>3</th>\n",
       "      <td>distance</td>\n",
       "      <td>15</td>\n",
       "      <td>0.679197</td>\n",
       "      <td>0.007416</td>\n",
       "    </tr>\n",
       "    <tr>\n",
       "      <th>4</th>\n",
       "      <td>distance</td>\n",
       "      <td>30</td>\n",
       "      <td>0.679197</td>\n",
       "      <td>0.007416</td>\n",
       "    </tr>\n",
       "    <tr>\n",
       "      <th>5</th>\n",
       "      <td>distance</td>\n",
       "      <td>60</td>\n",
       "      <td>0.679197</td>\n",
       "      <td>0.007416</td>\n",
       "    </tr>\n",
       "  </tbody>\n",
       "</table>\n",
       "</div>"
      ],
      "text/plain": [
       "  param_KNeighborsClassifier__weights param_KNeighborsClassifier__leaf_size  \\\n",
       "0                             uniform                                    15   \n",
       "1                             uniform                                    30   \n",
       "2                             uniform                                    60   \n",
       "3                            distance                                    15   \n",
       "4                            distance                                    30   \n",
       "5                            distance                                    60   \n",
       "\n",
       "   mean_test_score  std_test_score  \n",
       "0         0.686861        0.007640  \n",
       "1         0.686861        0.007640  \n",
       "2         0.686861        0.007640  \n",
       "3         0.679197        0.007416  \n",
       "4         0.679197        0.007416  \n",
       "5         0.679197        0.007416  "
      ]
     },
     "execution_count": 4,
     "metadata": {},
     "output_type": "execute_result"
    },
    {
     "data": {
      "image/png": "[encoded data removed]",
      "text/plain": [
       "<Figure size 432x288 with 2 Axes>"
      ]
     },
     "metadata": {
      "needs_background": "light"
     },
     "output_type": "display_data"
    }
   ],
   "source": [
    "KNeighborsClassifier_StandardScaler_pipeline = Pipeline(\n",
    "    [\n",
    "        (\"StandardScaler\", StandardScaler()),\n",
    "        (\"KNeighborsClassifier\", KNeighborsClassifier()),\n",
    "    ]\n",
    ")\n",
    "(\n",
    "    KNeighborsClassifier_model_1,\n",
    "    KNeighborsClassifier_model_1_scores,\n",
    "    KNeighborsClassifier_model_1_scores_raw,\n",
    ") = search_score_and_evalute_parameters(\n",
    "    reduced_dataset_X_y[\"eval_split\"][\"X_train\"],\n",
    "    reduced_dataset_X_y[\"eval_split\"][\"X_test\"],\n",
    "    reduced_dataset_X_y[\"eval_split\"][\"y_train\"],\n",
    "    reduced_dataset_X_y[\"eval_split\"][\"y_test\"],\n",
    "    KNeighborsClassifier_StandardScaler_pipeline,\n",
    "    KNeighborsClassifier_grid_parameters_1,\n",
    "    \"recall\",\n",
    ")\n",
    "KNeighborsClassifier_model_1_scores"
   ]
  },
  {
   "cell_type": "code",
   "execution_count": 5,
   "metadata": {},
   "outputs": [
    {
     "name": "stdout",
     "output_type": "stream",
     "text": [
      "              precision    recall  f1-score   support\n",
      "\n",
      "           0       0.70      0.70      0.70      7279\n",
      "           1       0.69      0.68      0.68      6938\n",
      "\n",
      "    accuracy                           0.69     14217\n",
      "   macro avg       0.69      0.69      0.69     14217\n",
      "weighted avg       0.69      0.69      0.69     14217\n",
      "\n"
     ]
    },
    {
     "data": {
      "text/html": [
       "<div>\n",
       "<style scoped>\n",
       "    .dataframe tbody tr th:only-of-type {\n",
       "        vertical-align: middle;\n",
       "    }\n",
       "\n",
       "    .dataframe tbody tr th {\n",
       "        vertical-align: top;\n",
       "    }\n",
       "\n",
       "    .dataframe thead th {\n",
       "        text-align: right;\n",
       "    }\n",
       "</style>\n",
       "<table border=\"1\" class=\"dataframe\">\n",
       "  <thead>\n",
       "    <tr style=\"text-align: right;\">\n",
       "      <th></th>\n",
       "      <th>param_KNeighborsClassifier__weights</th>\n",
       "      <th>param_KNeighborsClassifier__leaf_size</th>\n",
       "      <th>mean_test_score</th>\n",
       "      <th>std_test_score</th>\n",
       "    </tr>\n",
       "  </thead>\n",
       "  <tbody>\n",
       "    <tr>\n",
       "      <th>0</th>\n",
       "      <td>uniform</td>\n",
       "      <td>15</td>\n",
       "      <td>0.687470</td>\n",
       "      <td>0.005715</td>\n",
       "    </tr>\n",
       "    <tr>\n",
       "      <th>1</th>\n",
       "      <td>uniform</td>\n",
       "      <td>30</td>\n",
       "      <td>0.687470</td>\n",
       "      <td>0.005715</td>\n",
       "    </tr>\n",
       "    <tr>\n",
       "      <th>2</th>\n",
       "      <td>uniform</td>\n",
       "      <td>60</td>\n",
       "      <td>0.687470</td>\n",
       "      <td>0.005715</td>\n",
       "    </tr>\n",
       "    <tr>\n",
       "      <th>3</th>\n",
       "      <td>distance</td>\n",
       "      <td>15</td>\n",
       "      <td>0.679501</td>\n",
       "      <td>0.004833</td>\n",
       "    </tr>\n",
       "    <tr>\n",
       "      <th>4</th>\n",
       "      <td>distance</td>\n",
       "      <td>30</td>\n",
       "      <td>0.679501</td>\n",
       "      <td>0.004833</td>\n",
       "    </tr>\n",
       "    <tr>\n",
       "      <th>5</th>\n",
       "      <td>distance</td>\n",
       "      <td>60</td>\n",
       "      <td>0.679501</td>\n",
       "      <td>0.004833</td>\n",
       "    </tr>\n",
       "  </tbody>\n",
       "</table>\n",
       "</div>"
      ],
      "text/plain": [
       "  param_KNeighborsClassifier__weights param_KNeighborsClassifier__leaf_size  \\\n",
       "0                             uniform                                    15   \n",
       "1                             uniform                                    30   \n",
       "2                             uniform                                    60   \n",
       "3                            distance                                    15   \n",
       "4                            distance                                    30   \n",
       "5                            distance                                    60   \n",
       "\n",
       "   mean_test_score  std_test_score  \n",
       "0         0.687470        0.005715  \n",
       "1         0.687470        0.005715  \n",
       "2         0.687470        0.005715  \n",
       "3         0.679501        0.004833  \n",
       "4         0.679501        0.004833  \n",
       "5         0.679501        0.004833  "
      ]
     },
     "execution_count": 5,
     "metadata": {},
     "output_type": "execute_result"
    },
    {
     "data": {
      "image/png": "[encoded data removed]",
      "text/plain": [
       "<Figure size 432x288 with 2 Axes>"
      ]
     },
     "metadata": {
      "needs_background": "light"
     },
     "output_type": "display_data"
    }
   ],
   "source": [
    "KNeighborsClassifier_MinMaxScaler_pipeline = Pipeline(\n",
    "    [\n",
    "        (\"MinMaxScaler\", MinMaxScaler()),\n",
    "        (\"KNeighborsClassifier\", KNeighborsClassifier()),\n",
    "    ]\n",
    ")\n",
    "(\n",
    "    KNeighborsClassifier_model_2,\n",
    "    KNeighborsClassifier_model_2_scores,\n",
    "    KNeighborsClassifier_model_2_scores_raw,\n",
    ") = search_score_and_evalute_parameters(\n",
    "    reduced_dataset_X_y[\"eval_split\"][\"X_train\"],\n",
    "    reduced_dataset_X_y[\"eval_split\"][\"X_test\"],\n",
    "    reduced_dataset_X_y[\"eval_split\"][\"y_train\"],\n",
    "    reduced_dataset_X_y[\"eval_split\"][\"y_test\"],\n",
    "    KNeighborsClassifier_MinMaxScaler_pipeline,\n",
    "    KNeighborsClassifier_grid_parameters_1,\n",
    "    \"recall\",\n",
    ")\n",
    "KNeighborsClassifier_model_2_scores"
   ]
  },
  {
   "cell_type": "code",
   "execution_count": 6,
   "metadata": {},
   "outputs": [
    {
     "name": "stdout",
     "output_type": "stream",
     "text": [
      "              precision    recall  f1-score   support\n",
      "\n",
      "           0       0.69      0.71      0.70      7279\n",
      "           1       0.69      0.66      0.67      6938\n",
      "\n",
      "    accuracy                           0.69     14217\n",
      "   macro avg       0.69      0.69      0.69     14217\n",
      "weighted avg       0.69      0.69      0.69     14217\n",
      "\n"
     ]
    },
    {
     "data": {
      "text/html": [
       "<div>\n",
       "<style scoped>\n",
       "    .dataframe tbody tr th:only-of-type {\n",
       "        vertical-align: middle;\n",
       "    }\n",
       "\n",
       "    .dataframe tbody tr th {\n",
       "        vertical-align: top;\n",
       "    }\n",
       "\n",
       "    .dataframe thead th {\n",
       "        text-align: right;\n",
       "    }\n",
       "</style>\n",
       "<table border=\"1\" class=\"dataframe\">\n",
       "  <thead>\n",
       "    <tr style=\"text-align: right;\">\n",
       "      <th></th>\n",
       "      <th>param_KNeighborsClassifier__weights</th>\n",
       "      <th>param_KNeighborsClassifier__leaf_size</th>\n",
       "      <th>mean_test_score</th>\n",
       "      <th>std_test_score</th>\n",
       "    </tr>\n",
       "  </thead>\n",
       "  <tbody>\n",
       "    <tr>\n",
       "      <th>0</th>\n",
       "      <td>uniform</td>\n",
       "      <td>15</td>\n",
       "      <td>0.653041</td>\n",
       "      <td>0.006764</td>\n",
       "    </tr>\n",
       "    <tr>\n",
       "      <th>1</th>\n",
       "      <td>uniform</td>\n",
       "      <td>30</td>\n",
       "      <td>0.652981</td>\n",
       "      <td>0.006694</td>\n",
       "    </tr>\n",
       "    <tr>\n",
       "      <th>2</th>\n",
       "      <td>uniform</td>\n",
       "      <td>60</td>\n",
       "      <td>0.652920</td>\n",
       "      <td>0.006777</td>\n",
       "    </tr>\n",
       "    <tr>\n",
       "      <th>3</th>\n",
       "      <td>distance</td>\n",
       "      <td>15</td>\n",
       "      <td>0.650608</td>\n",
       "      <td>0.009353</td>\n",
       "    </tr>\n",
       "    <tr>\n",
       "      <th>4</th>\n",
       "      <td>distance</td>\n",
       "      <td>30</td>\n",
       "      <td>0.650547</td>\n",
       "      <td>0.009311</td>\n",
       "    </tr>\n",
       "    <tr>\n",
       "      <th>5</th>\n",
       "      <td>distance</td>\n",
       "      <td>60</td>\n",
       "      <td>0.650547</td>\n",
       "      <td>0.009311</td>\n",
       "    </tr>\n",
       "  </tbody>\n",
       "</table>\n",
       "</div>"
      ],
      "text/plain": [
       "  param_KNeighborsClassifier__weights param_KNeighborsClassifier__leaf_size  \\\n",
       "0                             uniform                                    15   \n",
       "1                             uniform                                    30   \n",
       "2                             uniform                                    60   \n",
       "3                            distance                                    15   \n",
       "4                            distance                                    30   \n",
       "5                            distance                                    60   \n",
       "\n",
       "   mean_test_score  std_test_score  \n",
       "0         0.653041        0.006764  \n",
       "1         0.652981        0.006694  \n",
       "2         0.652920        0.006777  \n",
       "3         0.650608        0.009353  \n",
       "4         0.650547        0.009311  \n",
       "5         0.650547        0.009311  "
      ]
     },
     "execution_count": 6,
     "metadata": {},
     "output_type": "execute_result"
    },
    {
     "data": {
      "image/png": "[encoded data removed]",
      "text/plain": [
       "<Figure size 432x288 with 2 Axes>"
      ]
     },
     "metadata": {
      "needs_background": "light"
     },
     "output_type": "display_data"
    }
   ],
   "source": [
    "KNeighborsClassifier_pipeline = Pipeline(\n",
    "    [\n",
    "        (\"KNeighborsClassifier\", KNeighborsClassifier()),\n",
    "    ]\n",
    ")\n",
    "(\n",
    "    KNeighborsClassifier_model_3,\n",
    "    KNeighborsClassifier_model_3_scores,\n",
    "    KNeighborsClassifier_model_3_scores_raw,\n",
    ") = search_score_and_evalute_parameters(\n",
    "    reduced_dataset_X_y[\"eval_split\"][\"X_train\"],\n",
    "    reduced_dataset_X_y[\"eval_split\"][\"X_test\"],\n",
    "    reduced_dataset_X_y[\"eval_split\"][\"y_train\"],\n",
    "    reduced_dataset_X_y[\"eval_split\"][\"y_test\"],\n",
    "    KNeighborsClassifier_pipeline,\n",
    "    KNeighborsClassifier_grid_parameters_1,\n",
    "    \"recall\",\n",
    ")\n",
    "KNeighborsClassifier_model_3_scores"
   ]
  },
  {
   "cell_type": "code",
   "execution_count": 13,
   "metadata": {},
   "outputs": [],
   "source": [
    "KNeighborsClassifier_grid_parameters_2 = {\n",
    "    \"KNeighborsClassifier__weights\": [\"uniform\"],\n",
    "    \"KNeighborsClassifier__leaf_size\": list(range(2,15)),\n",
    "}"
   ]
  },
  {
   "cell_type": "code",
   "execution_count": 14,
   "metadata": {},
   "outputs": [
    {
     "name": "stdout",
     "output_type": "stream",
     "text": [
      "              precision    recall  f1-score   support\n",
      "\n",
      "           0       0.69      0.71      0.70      7279\n",
      "           1       0.69      0.66      0.67      6938\n",
      "\n",
      "    accuracy                           0.69     14217\n",
      "   macro avg       0.69      0.69      0.69     14217\n",
      "weighted avg       0.69      0.69      0.69     14217\n",
      "\n"
     ]
    },
    {
     "data": {
      "text/html": [
       "<div>\n",
       "<style scoped>\n",
       "    .dataframe tbody tr th:only-of-type {\n",
       "        vertical-align: middle;\n",
       "    }\n",
       "\n",
       "    .dataframe tbody tr th {\n",
       "        vertical-align: top;\n",
       "    }\n",
       "\n",
       "    .dataframe thead th {\n",
       "        text-align: right;\n",
       "    }\n",
       "</style>\n",
       "<table border=\"1\" class=\"dataframe\">\n",
       "  <thead>\n",
       "    <tr style=\"text-align: right;\">\n",
       "      <th></th>\n",
       "      <th>param_KNeighborsClassifier__weights</th>\n",
       "      <th>param_KNeighborsClassifier__leaf_size</th>\n",
       "      <th>mean_test_score</th>\n",
       "      <th>std_test_score</th>\n",
       "    </tr>\n",
       "  </thead>\n",
       "  <tbody>\n",
       "    <tr>\n",
       "      <th>0</th>\n",
       "      <td>uniform</td>\n",
       "      <td>2</td>\n",
       "      <td>0.653041</td>\n",
       "      <td>0.006764</td>\n",
       "    </tr>\n",
       "    <tr>\n",
       "      <th>1</th>\n",
       "      <td>uniform</td>\n",
       "      <td>3</td>\n",
       "      <td>0.653041</td>\n",
       "      <td>0.006764</td>\n",
       "    </tr>\n",
       "    <tr>\n",
       "      <th>2</th>\n",
       "      <td>uniform</td>\n",
       "      <td>4</td>\n",
       "      <td>0.653041</td>\n",
       "      <td>0.006764</td>\n",
       "    </tr>\n",
       "    <tr>\n",
       "      <th>3</th>\n",
       "      <td>uniform</td>\n",
       "      <td>5</td>\n",
       "      <td>0.653041</td>\n",
       "      <td>0.006764</td>\n",
       "    </tr>\n",
       "    <tr>\n",
       "      <th>4</th>\n",
       "      <td>uniform</td>\n",
       "      <td>6</td>\n",
       "      <td>0.653041</td>\n",
       "      <td>0.006764</td>\n",
       "    </tr>\n",
       "    <tr>\n",
       "      <th>5</th>\n",
       "      <td>uniform</td>\n",
       "      <td>13</td>\n",
       "      <td>0.653041</td>\n",
       "      <td>0.006764</td>\n",
       "    </tr>\n",
       "    <tr>\n",
       "      <th>6</th>\n",
       "      <td>uniform</td>\n",
       "      <td>14</td>\n",
       "      <td>0.653041</td>\n",
       "      <td>0.006764</td>\n",
       "    </tr>\n",
       "    <tr>\n",
       "      <th>7</th>\n",
       "      <td>uniform</td>\n",
       "      <td>7</td>\n",
       "      <td>0.652981</td>\n",
       "      <td>0.006694</td>\n",
       "    </tr>\n",
       "    <tr>\n",
       "      <th>8</th>\n",
       "      <td>uniform</td>\n",
       "      <td>8</td>\n",
       "      <td>0.652981</td>\n",
       "      <td>0.006694</td>\n",
       "    </tr>\n",
       "    <tr>\n",
       "      <th>9</th>\n",
       "      <td>uniform</td>\n",
       "      <td>9</td>\n",
       "      <td>0.652981</td>\n",
       "      <td>0.006694</td>\n",
       "    </tr>\n",
       "    <tr>\n",
       "      <th>10</th>\n",
       "      <td>uniform</td>\n",
       "      <td>10</td>\n",
       "      <td>0.652981</td>\n",
       "      <td>0.006694</td>\n",
       "    </tr>\n",
       "    <tr>\n",
       "      <th>11</th>\n",
       "      <td>uniform</td>\n",
       "      <td>11</td>\n",
       "      <td>0.652981</td>\n",
       "      <td>0.006694</td>\n",
       "    </tr>\n",
       "    <tr>\n",
       "      <th>12</th>\n",
       "      <td>uniform</td>\n",
       "      <td>12</td>\n",
       "      <td>0.652981</td>\n",
       "      <td>0.006694</td>\n",
       "    </tr>\n",
       "  </tbody>\n",
       "</table>\n",
       "</div>"
      ],
      "text/plain": [
       "   param_KNeighborsClassifier__weights param_KNeighborsClassifier__leaf_size  \\\n",
       "0                              uniform                                     2   \n",
       "1                              uniform                                     3   \n",
       "2                              uniform                                     4   \n",
       "3                              uniform                                     5   \n",
       "4                              uniform                                     6   \n",
       "5                              uniform                                    13   \n",
       "6                              uniform                                    14   \n",
       "7                              uniform                                     7   \n",
       "8                              uniform                                     8   \n",
       "9                              uniform                                     9   \n",
       "10                             uniform                                    10   \n",
       "11                             uniform                                    11   \n",
       "12                             uniform                                    12   \n",
       "\n",
       "    mean_test_score  std_test_score  \n",
       "0          0.653041        0.006764  \n",
       "1          0.653041        0.006764  \n",
       "2          0.653041        0.006764  \n",
       "3          0.653041        0.006764  \n",
       "4          0.653041        0.006764  \n",
       "5          0.653041        0.006764  \n",
       "6          0.653041        0.006764  \n",
       "7          0.652981        0.006694  \n",
       "8          0.652981        0.006694  \n",
       "9          0.652981        0.006694  \n",
       "10         0.652981        0.006694  \n",
       "11         0.652981        0.006694  \n",
       "12         0.652981        0.006694  "
      ]
     },
     "execution_count": 14,
     "metadata": {},
     "output_type": "execute_result"
    },
    {
     "data": {
      "image/png": "[encoded data removed]",
      "text/plain": [
       "<Figure size 432x288 with 2 Axes>"
      ]
     },
     "metadata": {
      "needs_background": "light"
     },
     "output_type": "display_data"
    }
   ],
   "source": [
    "(\n",
    "    KNeighborsClassifier_model_4,\n",
    "    KNeighborsClassifier_model_4_scores,\n",
    "    KNeighborsClassifier_model_4_scores_raw,\n",
    ") = search_score_and_evalute_parameters(\n",
    "    reduced_dataset_X_y[\"eval_split\"][\"X_train\"],\n",
    "    reduced_dataset_X_y[\"eval_split\"][\"X_test\"],\n",
    "    reduced_dataset_X_y[\"eval_split\"][\"y_train\"],\n",
    "    reduced_dataset_X_y[\"eval_split\"][\"y_test\"],\n",
    "    KNeighborsClassifier_pipeline,\n",
    "    KNeighborsClassifier_grid_parameters_2,\n",
    "    \"recall\",\n",
    ")\n",
    "KNeighborsClassifier_model_4_scores"
   ]
  },
  {
   "cell_type": "code",
   "execution_count": 16,
   "metadata": {},
   "outputs": [
    {
     "data": {
      "text/plain": [
       "['./models/KNeighborsClassifier_model_4.joblib']"
      ]
     },
     "execution_count": 16,
     "metadata": {},
     "output_type": "execute_result"
    }
   ],
   "source": [
    "joblib.dump(KNeighborsClassifier_model_4, './models/evaluation/KNeighborsClassifier_model_4.joblib')"
   ]
  },
  {
   "cell_type": "code",
   "execution_count": 5,
   "metadata": {},
   "outputs": [
    {
     "data": {
      "text/plain": [
       "['./models/pipeline/KNeighborsClassifier_pipeline.joblib']"
      ]
     },
     "execution_count": 5,
     "metadata": {},
     "output_type": "execute_result"
    }
   ],
   "source": [
    "KNeighborsClassifier_pipeline = KNeighborsClassifier(leaf_size=2)\n",
    "joblib.dump(KNeighborsClassifier_pipeline, './models/pipeline/KNeighborsClassifier_pipeline.joblib')"
   ]
  }
 ],
 "metadata": {
  "interpreter": {
   "hash": "94df931339f7917b6c0770e1c159f877669809da314458214c51c9be421d1dd6"
  },
  "kernelspec": {
   "display_name": "Python 3.9.9 ('machine-learning-_KPFOz0i')",
   "language": "python",
   "name": "python3"
  },
  "language_info": {
   "codemirror_mode": {
    "name": "ipython",
    "version": 3
   },
   "file_extension": ".py",
   "mimetype": "text/x-python",
   "name": "python",
   "nbconvert_exporter": "python",
   "pygments_lexer": "ipython3",
   "version": "3.9.9"
  },
  "orig_nbformat": 4
 },
 "nbformat": 4,
 "nbformat_minor": 2
}
