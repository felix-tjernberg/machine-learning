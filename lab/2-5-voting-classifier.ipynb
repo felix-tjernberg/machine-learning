{
 "cells": [
  {
   "cell_type": "markdown",
   "metadata": {},
   "source": [
    "# Voting classifier"
   ]
  },
  {
   "cell_type": "code",
   "execution_count": 8,
   "metadata": {},
   "outputs": [],
   "source": [
    "from cardio_datasets import cardio_100_samples, reduced_dataset\n",
    "from model_selection_and_evaluation_functions import show_classification_evaluation_metrics, create_X_y_from_data_frame\n",
    "from sklearn.ensemble import VotingClassifier\n",
    "import joblib"
   ]
  },
  {
   "cell_type": "code",
   "execution_count": 29,
   "metadata": {},
   "outputs": [],
   "source": [
    "KNeighborsClassifier_pipeline = joblib.load('./models/pipeline/KNeighborsClassifier_pipeline.joblib')\n",
    "LinearSVC_pipeline = joblib.load('./models/pipeline/LinearSVC_pipeline.joblib')\n",
    "LogisticRegression_pipeline = joblib.load('./models/pipeline/LogisticRegression_pipeline.joblib')\n",
    "KNeighborsClassifier_model = joblib.load('./models/evaluation/KNeighborsClassifier_model_4.joblib')\n",
    "LinearSVC_model = joblib.load('./models/evaluation/LinearSVC_model_2.joblib')\n",
    "LogisticRegression_model = joblib.load('./models/evaluation/LogisticRegression_model_4.joblib')"
   ]
  },
  {
   "cell_type": "code",
   "execution_count": 10,
   "metadata": {},
   "outputs": [],
   "source": [
    "X, y = create_X_y_from_data_frame(reduced_dataset, 'cardio')"
   ]
  },
  {
   "cell_type": "code",
   "execution_count": 11,
   "metadata": {},
   "outputs": [
    {
     "data": {
      "text/plain": [
       "VotingClassifier(estimators=[('KNeighborsClassifier',\n",
       "                              KNeighborsClassifier(leaf_size=2)),\n",
       "                             ('LinearSVC',\n",
       "                              Pipeline(steps=[('MinMaxScaler', MinMaxScaler()),\n",
       "                                              ('LinearSVC',\n",
       "                                               LinearSVC(C=0.01,\n",
       "                                                         max_iter=100000))])),\n",
       "                             ('LogisticRegression',\n",
       "                              Pipeline(steps=[('PolynomialFeatures',\n",
       "                                               PolynomialFeatures(degree=6)),\n",
       "                                              ('MinMaxScaler', MinMaxScaler()),\n",
       "                                              ('LogisticRegression',\n",
       "                                               LogisticRegression(l1_ratio=0.22,\n",
       "                                                                  max_iter=10000,\n",
       "                                                                  multi_class='ovr',\n",
       "                                                                  penalty='elasticnet',\n",
       "                                                                  solver='saga'))]))])"
      ]
     },
     "execution_count": 11,
     "metadata": {},
     "output_type": "execute_result"
    }
   ],
   "source": [
    "VotingClassifier_1 = VotingClassifier(\n",
    "    [\n",
    "        (\"KNeighborsClassifier\", KNeighborsClassifier_pipeline),\n",
    "        (\"LinearSVC\", LinearSVC_pipeline),\n",
    "        (\"LogisticRegression\", LogisticRegression_pipeline),\n",
    "    ]\n",
    ")\n",
    "VotingClassifier_1.fit(X, y)"
   ]
  },
  {
   "cell_type": "code",
   "execution_count": 25,
   "metadata": {},
   "outputs": [],
   "source": [
    "Sample_X, Sample_y = create_X_y_from_data_frame(cardio_100_samples[reduced_dataset.columns], 'cardio')"
   ]
  },
  {
   "cell_type": "code",
   "execution_count": 26,
   "metadata": {},
   "outputs": [
    {
     "name": "stdout",
     "output_type": "stream",
     "text": [
      "              precision    recall  f1-score   support\n",
      "\n",
      "           0       0.69      0.74      0.71        47\n",
      "           1       0.76      0.70      0.73        53\n",
      "\n",
      "    accuracy                           0.72       100\n",
      "   macro avg       0.72      0.72      0.72       100\n",
      "weighted avg       0.72      0.72      0.72       100\n",
      "\n"
     ]
    },
    {
     "data": {
      "image/png": "[encoded data removed]",
      "text/plain": [
       "<Figure size 432x288 with 2 Axes>"
      ]
     },
     "metadata": {
      "needs_background": "light"
     },
     "output_type": "display_data"
    }
   ],
   "source": [
    "show_classification_evaluation_metrics(VotingClassifier_1, Sample_X, Sample_y)"
   ]
  },
  {
   "cell_type": "code",
   "execution_count": 30,
   "metadata": {},
   "outputs": [
    {
     "data": {
      "text/plain": [
       "GridSearchCV(cv=5,\n",
       "             estimator=Pipeline(steps=[('KNeighborsClassifier',\n",
       "                                        KNeighborsClassifier())]),\n",
       "             param_grid={'KNeighborsClassifier__leaf_size': [2, 3, 4, 5, 6, 7,\n",
       "                                                             8, 9, 10, 11, 12,\n",
       "                                                             13, 14],\n",
       "                         'KNeighborsClassifier__weights': ['uniform']},\n",
       "             scoring='recall')"
      ]
     },
     "execution_count": 30,
     "metadata": {},
     "output_type": "execute_result"
    }
   ],
   "source": [
    "KNeighborsClassifier_model.fit(X,y)"
   ]
  },
  {
   "cell_type": "code",
   "execution_count": 31,
   "metadata": {},
   "outputs": [
    {
     "name": "stdout",
     "output_type": "stream",
     "text": [
      "              precision    recall  f1-score   support\n",
      "\n",
      "           0       0.65      0.68      0.67        47\n",
      "           1       0.71      0.68      0.69        53\n",
      "\n",
      "    accuracy                           0.68       100\n",
      "   macro avg       0.68      0.68      0.68       100\n",
      "weighted avg       0.68      0.68      0.68       100\n",
      "\n"
     ]
    },
    {
     "data": {
      "image/png": "[encoded data removed]",
      "text/plain": [
       "<Figure size 432x288 with 2 Axes>"
      ]
     },
     "metadata": {
      "needs_background": "light"
     },
     "output_type": "display_data"
    }
   ],
   "source": [
    "show_classification_evaluation_metrics(KNeighborsClassifier_model, Sample_X, Sample_y)"
   ]
  }
 ],
 "metadata": {
  "interpreter": {
   "hash": "94df931339f7917b6c0770e1c159f877669809da314458214c51c9be421d1dd6"
  },
  "kernelspec": {
   "display_name": "Python 3.9.9 ('machine-learning-_KPFOz0i')",
   "language": "python",
   "name": "python3"
  },
  "language_info": {
   "codemirror_mode": {
    "name": "ipython",
    "version": 3
   },
   "file_extension": ".py",
   "mimetype": "text/x-python",
   "name": "python",
   "nbconvert_exporter": "python",
   "pygments_lexer": "ipython3",
   "version": "3.9.9"
  },
  "orig_nbformat": 4
 },
 "nbformat": 4,
 "nbformat_minor": 2
}
