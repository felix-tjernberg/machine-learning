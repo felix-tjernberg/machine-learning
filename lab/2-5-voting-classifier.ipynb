{
 "cells": [
  {
   "cell_type": "markdown",
   "metadata": {},
   "source": [
    "# Voting classifier"
   ]
  },
  {
   "cell_type": "code",
   "execution_count": 1,
   "metadata": {},
   "outputs": [],
   "source": [
    "from cardio_datasets import cardio_100_samples, reduced_dataset\n",
    "from model_selection_and_evaluation_functions import show_classification_evaluation_metrics, create_X_y_from_data_frame\n",
    "from sklearn.ensemble import VotingClassifier\n",
    "import joblib"
   ]
  },
  {
   "cell_type": "code",
   "execution_count": 2,
   "metadata": {},
   "outputs": [],
   "source": [
    "KNeighborsClassifier_pipeline = joblib.load('./models/pipeline/KNeighborsClassifier_pipeline.joblib')\n",
    "LinearSVC_pipeline = joblib.load('./models/pipeline/LinearSVC_pipeline.joblib')\n",
    "LogisticRegression_pipeline = joblib.load('./models/pipeline/LogisticRegression_pipeline.joblib')"
   ]
  },
  {
   "cell_type": "code",
   "execution_count": 3,
   "metadata": {},
   "outputs": [],
   "source": [
    "X, y = create_X_y_from_data_frame(reduced_dataset, 'cardio')"
   ]
  },
  {
   "cell_type": "code",
   "execution_count": 15,
   "metadata": {},
   "outputs": [
    {
     "data": {
      "text/plain": [
       "VotingClassifier(estimators=[('KNeighborsClassifier',\n",
       "                              KNeighborsClassifier(leaf_size=2)),\n",
       "                             ('LogisticRegression',\n",
       "                              Pipeline(steps=[('PolynomialFeatures',\n",
       "                                               PolynomialFeatures(degree=6)),\n",
       "                                              ('MinMaxScaler', MinMaxScaler()),\n",
       "                                              ('LogisticRegression',\n",
       "                                               LogisticRegression(l1_ratio=0.22,\n",
       "                                                                  max_iter=10000,\n",
       "                                                                  multi_class='ovr',\n",
       "                                                                  penalty='elasticnet',\n",
       "                                                                  solver='saga'))]))],\n",
       "                 voting='soft')"
      ]
     },
     "execution_count": 15,
     "metadata": {},
     "output_type": "execute_result"
    }
   ],
   "source": [
    "VotingClassifier_1 = VotingClassifier(\n",
    "    [\n",
    "        (\"KNeighborsClassifier\", KNeighborsClassifier_pipeline),\n",
    "        (\"LogisticRegression\", LogisticRegression_pipeline),\n",
    "    ], voting='soft'\n",
    ")\n",
    "VotingClassifier_1.fit(X, y)"
   ]
  },
  {
   "cell_type": "code",
   "execution_count": 16,
   "metadata": {},
   "outputs": [],
   "source": [
    "Sample_X, Sample_y = create_X_y_from_data_frame(cardio_100_samples[reduced_dataset.columns], 'cardio')"
   ]
  },
  {
   "cell_type": "code",
   "execution_count": 17,
   "metadata": {},
   "outputs": [
    {
     "name": "stdout",
     "output_type": "stream",
     "text": [
      "              precision    recall  f1-score   support\n",
      "\n",
      "           0       0.67      0.72      0.69        47\n",
      "           1       0.73      0.68      0.71        53\n",
      "\n",
      "    accuracy                           0.70       100\n",
      "   macro avg       0.70      0.70      0.70       100\n",
      "weighted avg       0.70      0.70      0.70       100\n",
      "\n"
     ]
    },
    {
     "data": {
      "image/png": "[encoded data removed]",
      "text/plain": [
       "<Figure size 432x288 with 2 Axes>"
      ]
     },
     "metadata": {
      "needs_background": "light"
     },
     "output_type": "display_data"
    }
   ],
   "source": [
    "show_classification_evaluation_metrics(VotingClassifier_1, Sample_X, Sample_y)"
   ]
  },
  {
   "cell_type": "code",
   "execution_count": 18,
   "metadata": {},
   "outputs": [
    {
     "data": {
      "text/plain": [
       "['./models/final/VotingClassifier.joblib']"
      ]
     },
     "execution_count": 18,
     "metadata": {},
     "output_type": "execute_result"
    }
   ],
   "source": [
    "joblib.dump(VotingClassifier_1, './models/final/VotingClassifier.joblib')"
   ]
  }
 ],
 "metadata": {
  "interpreter": {
   "hash": "94df931339f7917b6c0770e1c159f877669809da314458214c51c9be421d1dd6"
  },
  "kernelspec": {
   "display_name": "Python 3.9.9 ('machine-learning-_KPFOz0i')",
   "language": "python",
   "name": "python3"
  },
  "language_info": {
   "codemirror_mode": {
    "name": "ipython",
    "version": 3
   },
   "file_extension": ".py",
   "mimetype": "text/x-python",
   "name": "python",
   "nbconvert_exporter": "python",
   "pygments_lexer": "ipython3",
   "version": "3.9.9"
  },
  "orig_nbformat": 4
 },
 "nbformat": 4,
 "nbformat_minor": 2
}
