{
 "cells": [
  {
   "cell_type": "markdown",
   "metadata": {},
   "source": [
    "# 1-2 skapa gles matris"
   ]
  },
  {
   "cell_type": "code",
   "execution_count": 23,
   "metadata": {},
   "outputs": [],
   "source": [
    "import pandas as pd\n",
    "import numpy as np"
   ]
  },
  {
   "cell_type": "code",
   "execution_count": 24,
   "metadata": {},
   "outputs": [
    {
     "name": "stdout",
     "output_type": "stream",
     "text": [
      "<class 'pandas.core.frame.DataFrame'>\n",
      "RangeIndex: 27753444 entries, 0 to 27753443\n",
      "Data columns (total 3 columns):\n",
      " #   Column   Dtype  \n",
      "---  ------   -----  \n",
      " 0   userId   int32  \n",
      " 1   movieId  int32  \n",
      " 2   rating   float16\n",
      "dtypes: float16(1), int32(2)\n",
      "memory usage: 264.7 MB\n"
     ]
    }
   ],
   "source": [
    "ratings_raw = pd.read_csv('./data/ratings_big.csv', dtype={'userId': 'int32', 'movieId': 'int32', 'rating':'float16', 'timestamp': 'int32'}).drop('timestamp', axis=1)\n",
    "ratings_raw.info()"
   ]
  },
  {
   "cell_type": "code",
   "execution_count": 25,
   "metadata": {},
   "outputs": [
    {
     "data": {
      "text/plain": [
       "(array([   307,    481,   1091, ..., 117857, 133409, 142855], dtype=int32),\n",
       " array([     1,      2,      3, ..., 283226, 283227, 283228], dtype=int32))"
      ]
     },
     "execution_count": 25,
     "metadata": {},
     "output_type": "execute_result"
    }
   ],
   "source": [
    "all_movieId = ratings_raw['movieId'].unique()\n",
    "all_userId = ratings_raw['userId'].unique()\n",
    "\n",
    "all_movieId, all_userId"
   ]
  },
  {
   "cell_type": "code",
   "execution_count": 26,
   "metadata": {},
   "outputs": [
    {
     "data": {
      "text/plain": [
       "(      0\n",
       " 0   307\n",
       " 1   481\n",
       " 2  1091\n",
       " 3  1257\n",
       " 4  1449,\n",
       "    0\n",
       " 0  1\n",
       " 1  2\n",
       " 2  3\n",
       " 3  4\n",
       " 4  5)"
      ]
     },
     "execution_count": 26,
     "metadata": {},
     "output_type": "execute_result"
    }
   ],
   "source": [
    "movieId_df = pd.DataFrame(all_movieId)\n",
    "userId_df = pd.DataFrame(all_userId)\n",
    "movieId_df.head(), userId_df.head()"
   ]
  },
  {
   "cell_type": "code",
   "execution_count": 27,
   "metadata": {},
   "outputs": [
    {
     "data": {
      "text/plain": [
       "(0, 1)"
      ]
     },
     "execution_count": 27,
     "metadata": {},
     "output_type": "execute_result"
    }
   ],
   "source": [
    "movieId_dict = movieId_df.to_dict()[0]\n",
    "dict(zip(movieId_dict.values(), movieId_dict.keys()))[307],dict(zip(movieId_dict.values(), movieId_dict.keys()))[481]"
   ]
  },
  {
   "cell_type": "code",
   "execution_count": 28,
   "metadata": {},
   "outputs": [],
   "source": [
    "def create_id_and_csr_index_dictionary(data_frame: pd.DataFrame, column: str) -> dict:\n",
    "    unique_id_dict = pd.DataFrame(data_frame[column].unique()).to_dict()[0]\n",
    "    return dict(zip(unique_id_dict.values(), unique_id_dict.keys()))\n",
    "\n",
    "movieId_dict = create_id_and_csr_index_dictionary(ratings_raw, 'movieId')\n",
    "userId_dict = create_id_and_csr_index_dictionary(ratings_raw, 'userId')"
   ]
  },
  {
   "cell_type": "code",
   "execution_count": 29,
   "metadata": {},
   "outputs": [
    {
     "data": {
      "text/plain": [
       "Index(['userId', 'movieId', 'rating'], dtype='object')"
      ]
     },
     "execution_count": 29,
     "metadata": {},
     "output_type": "execute_result"
    }
   ],
   "source": [
    "ratings_raw.columns"
   ]
  },
  {
   "cell_type": "code",
   "execution_count": 30,
   "metadata": {},
   "outputs": [
    {
     "data": {
      "text/plain": [
       "[[1, 307, 3.5], [1, 481, 3.5], [1, 1091, 1.5], [1, 1257, 4.5], [1, 1449, 4.5]]"
      ]
     },
     "execution_count": 30,
     "metadata": {},
     "output_type": "execute_result"
    }
   ],
   "source": [
    "ratings_row_lists = []\n",
    "for rows in ratings_raw.itertuples():\n",
    "    ratings_row_lists.append([rows.userId, rows.movieId, rows.rating])\n",
    "ratings_row_lists[:5]"
   ]
  },
  {
   "cell_type": "code",
   "execution_count": 31,
   "metadata": {},
   "outputs": [
    {
     "data": {
      "text/plain": [
       "27753444"
      ]
     },
     "execution_count": 31,
     "metadata": {},
     "output_type": "execute_result"
    }
   ],
   "source": [
    "len(ratings_row_lists)"
   ]
  },
  {
   "cell_type": "code",
   "execution_count": 32,
   "metadata": {},
   "outputs": [
    {
     "data": {
      "text/plain": [
       "[[0, 0, 3.5], [0, 1, 3.5], [0, 2, 1.5], [0, 3, 4.5], [0, 4, 4.5]]"
      ]
     },
     "execution_count": 32,
     "metadata": {},
     "output_type": "execute_result"
    }
   ],
   "source": [
    "converted_into_rows_and_columns_list = []\n",
    "for item in ratings_row_lists:\n",
    "    converted_into_rows_and_columns_list.append([userId_dict[item[0]], movieId_dict[item[1]], item[2]])\n",
    "converted_into_rows_and_columns_list[:5]"
   ]
  },
  {
   "cell_type": "code",
   "execution_count": 33,
   "metadata": {},
   "outputs": [
    {
     "data": {
      "text/plain": [
       "(array([0, 0, 0, 0, 0]),\n",
       " array([0, 1, 2, 3, 4]),\n",
       " array([3.5, 3.5, 1.5, 4.5, 4.5]))"
      ]
     },
     "execution_count": 33,
     "metadata": {},
     "output_type": "execute_result"
    }
   ],
   "source": [
    "column = np.array([item[0] for item in converted_into_rows_and_columns_list])\n",
    "row = np.array([item[1] for item in converted_into_rows_and_columns_list])\n",
    "data = np.array([item[2] for item in converted_into_rows_and_columns_list])\n",
    "column[:5], row[:5], data[:5]"
   ]
  },
  {
   "cell_type": "code",
   "execution_count": 34,
   "metadata": {},
   "outputs": [
    {
     "data": {
      "text/plain": [
       "(53889, 283228)"
      ]
     },
     "execution_count": 34,
     "metadata": {},
     "output_type": "execute_result"
    }
   ],
   "source": [
    "len(all_movieId), len(all_userId)"
   ]
  },
  {
   "cell_type": "code",
   "execution_count": 35,
   "metadata": {},
   "outputs": [
    {
     "name": "stdout",
     "output_type": "stream",
     "text": [
      "  (0, 0)\t3.5\n",
      "  (0, 5)\t4.0\n",
      "  (0, 55)\t4.0\n",
      "  (0, 70)\t5.0\n",
      "  (0, 83)\t3.0\n",
      "  (0, 140)\t5.0\n",
      "  (0, 212)\t4.0\n",
      "  (0, 213)\t4.0\n",
      "  (0, 238)\t4.0\n",
      "  (0, 267)\t4.0\n",
      "  (0, 276)\t3.0\n",
      "  (0, 333)\t4.0\n",
      "  (0, 334)\t4.0\n",
      "  (0, 359)\t4.0\n",
      "  (0, 364)\t5.0\n",
      "  (0, 398)\t3.0\n",
      "  (0, 407)\t2.0\n",
      "  (0, 414)\t5.0\n",
      "  (0, 427)\t4.0\n",
      "  (0, 462)\t3.0\n",
      "  (0, 494)\t2.5\n",
      "  (0, 496)\t4.0\n",
      "  (0, 548)\t5.0\n",
      "  (0, 565)\t4.0\n",
      "  (0, 567)\t5.0\n",
      "  :\t:\n",
      "  (53864, 282118)\t3.5\n",
      "  (53865, 282118)\t2.5\n",
      "  (53866, 282118)\t3.0\n",
      "  (53867, 282118)\t3.0\n",
      "  (53868, 282118)\t3.0\n",
      "  (53869, 282118)\t3.0\n",
      "  (53870, 282118)\t3.5\n",
      "  (53871, 282118)\t3.0\n",
      "  (53872, 282118)\t3.0\n",
      "  (53873, 282118)\t3.5\n",
      "  (53874, 282373)\t2.5\n",
      "  (53875, 282373)\t4.0\n",
      "  (53876, 282373)\t1.5\n",
      "  (53877, 282373)\t3.0\n",
      "  (53878, 282373)\t3.5\n",
      "  (53879, 282373)\t3.0\n",
      "  (53880, 282373)\t4.0\n",
      "  (53881, 282373)\t4.0\n",
      "  (53882, 282373)\t2.5\n",
      "  (53883, 282373)\t4.5\n",
      "  (53884, 282402)\t1.0\n",
      "  (53885, 282731)\t3.5\n",
      "  (53886, 282999)\t3.5\n",
      "  (53887, 282999)\t3.5\n",
      "  (53888, 282999)\t3.5\n"
     ]
    }
   ],
   "source": [
    "from scipy.sparse import csr_matrix\n",
    "ratings_csr_matrix = csr_matrix((data, (row, column)), shape=(53889, 283228))\n",
    "print(ratings_csr_matrix)"
   ]
  }
 ],
 "metadata": {
  "interpreter": {
   "hash": "e51c63e2fa96bdee1d022b3260efb3b75a99f074551b3f9632d2fa65f13bcac4"
  },
  "kernelspec": {
   "display_name": "Python 3.9.9 ('machine-learning-8KGYMX4H')",
   "language": "python",
   "name": "python3"
  },
  "language_info": {
   "codemirror_mode": {
    "name": "ipython",
    "version": 3
   },
   "file_extension": ".py",
   "mimetype": "text/x-python",
   "name": "python",
   "nbconvert_exporter": "python",
   "pygments_lexer": "ipython3",
   "version": "3.9.9"
  },
  "orig_nbformat": 4
 },
 "nbformat": 4,
 "nbformat_minor": 2
}
