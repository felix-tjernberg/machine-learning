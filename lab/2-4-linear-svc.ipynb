{
 "cells": [
  {
   "cell_type": "markdown",
   "metadata": {},
   "source": [
    "# SVC"
   ]
  },
  {
   "cell_type": "code",
   "execution_count": 9,
   "metadata": {},
   "outputs": [],
   "source": [
    "from cardio_datasets import full_dataset, reduced_dataset, categorial_dataset, continuous_dataset\n",
    "from model_selection_and_evaluation_functions import create_train_test_eval_split, search_score_and_evalute_parameters, show_classification_evaluation_metrics\n",
    "\n",
    "import joblib\n",
    "from sklearn.pipeline import Pipeline\n",
    "from sklearn.svm import LinearSVC, SVC\n",
    "from sklearn.preprocessing import MinMaxScaler, StandardScaler, PolynomialFeatures"
   ]
  },
  {
   "cell_type": "markdown",
   "metadata": {},
   "source": [
    "## Datasets"
   ]
  },
  {
   "cell_type": "code",
   "execution_count": 2,
   "metadata": {},
   "outputs": [],
   "source": [
    "categorial_dataset_X_y = create_train_test_eval_split(categorial_dataset, 'cardio')\n",
    "continuous_dataset_X_y = create_train_test_eval_split(continuous_dataset, 'cardio')\n",
    "full_dataset_X_y = create_train_test_eval_split(full_dataset, 'cardio')\n",
    "reduced_dataset_X_y = create_train_test_eval_split(reduced_dataset, 'cardio')"
   ]
  },
  {
   "cell_type": "markdown",
   "metadata": {},
   "source": [
    "## Hyper parameter tuning"
   ]
  },
  {
   "cell_type": "code",
   "execution_count": 3,
   "metadata": {},
   "outputs": [],
   "source": [
    "BaseLinearSVC = LinearSVC(max_iter=100000, random_state=1338)"
   ]
  },
  {
   "cell_type": "code",
   "execution_count": 4,
   "metadata": {},
   "outputs": [],
   "source": [
    "LinearSVC_grid_parameters_1 = {\n",
    "    \"LinearSVC__C\": [0.001, 0.01, 0.1, 1, 10],\n",
    "}"
   ]
  },
  {
   "cell_type": "code",
   "execution_count": 5,
   "metadata": {},
   "outputs": [
    {
     "name": "stdout",
     "output_type": "stream",
     "text": [
      "              precision    recall  f1-score   support\n",
      "\n",
      "           0       0.71      0.79      0.75      7279\n",
      "           1       0.75      0.66      0.70      6938\n",
      "\n",
      "    accuracy                           0.73     14217\n",
      "   macro avg       0.73      0.72      0.72     14217\n",
      "weighted avg       0.73      0.73      0.72     14217\n",
      "\n"
     ]
    },
    {
     "data": {
      "text/html": [
       "<div>\n",
       "<style scoped>\n",
       "    .dataframe tbody tr th:only-of-type {\n",
       "        vertical-align: middle;\n",
       "    }\n",
       "\n",
       "    .dataframe tbody tr th {\n",
       "        vertical-align: top;\n",
       "    }\n",
       "\n",
       "    .dataframe thead th {\n",
       "        text-align: right;\n",
       "    }\n",
       "</style>\n",
       "<table border=\"1\" class=\"dataframe\">\n",
       "  <thead>\n",
       "    <tr style=\"text-align: right;\">\n",
       "      <th></th>\n",
       "      <th>param_LinearSVC__C</th>\n",
       "      <th>mean_test_score</th>\n",
       "      <th>std_test_score</th>\n",
       "    </tr>\n",
       "  </thead>\n",
       "  <tbody>\n",
       "    <tr>\n",
       "      <th>0</th>\n",
       "      <td>0.001</td>\n",
       "      <td>0.654805</td>\n",
       "      <td>0.015236</td>\n",
       "    </tr>\n",
       "    <tr>\n",
       "      <th>1</th>\n",
       "      <td>0.01</td>\n",
       "      <td>0.654805</td>\n",
       "      <td>0.014683</td>\n",
       "    </tr>\n",
       "    <tr>\n",
       "      <th>2</th>\n",
       "      <td>0.1</td>\n",
       "      <td>0.654623</td>\n",
       "      <td>0.014489</td>\n",
       "    </tr>\n",
       "    <tr>\n",
       "      <th>3</th>\n",
       "      <td>1</td>\n",
       "      <td>0.654623</td>\n",
       "      <td>0.014489</td>\n",
       "    </tr>\n",
       "    <tr>\n",
       "      <th>4</th>\n",
       "      <td>10</td>\n",
       "      <td>0.654623</td>\n",
       "      <td>0.014489</td>\n",
       "    </tr>\n",
       "  </tbody>\n",
       "</table>\n",
       "</div>"
      ],
      "text/plain": [
       "  param_LinearSVC__C  mean_test_score  std_test_score\n",
       "0              0.001         0.654805        0.015236\n",
       "1               0.01         0.654805        0.014683\n",
       "2                0.1         0.654623        0.014489\n",
       "3                  1         0.654623        0.014489\n",
       "4                 10         0.654623        0.014489"
      ]
     },
     "execution_count": 5,
     "metadata": {},
     "output_type": "execute_result"
    },
    {
     "data": {
      "image/png": "[encoded data removed]",
      "text/plain": [
       "<Figure size 432x288 with 2 Axes>"
      ]
     },
     "metadata": {
      "needs_background": "light"
     },
     "output_type": "display_data"
    }
   ],
   "source": [
    "LinearSVC_StandardScaler_pipeline = Pipeline(\n",
    "    [\n",
    "        (\"StandardScaler\", StandardScaler()),\n",
    "        (\"LinearSVC\", BaseLinearSVC),\n",
    "    ]\n",
    ")\n",
    "(\n",
    "    LinearSVC_model_1,\n",
    "    LinearSVC_model_1_scores,\n",
    "    LinearSVC_model_1_scores_raw,\n",
    ") = search_score_and_evalute_parameters(\n",
    "    reduced_dataset_X_y[\"eval_split\"][\"X_train\"],\n",
    "    reduced_dataset_X_y[\"eval_split\"][\"X_test\"],\n",
    "    reduced_dataset_X_y[\"eval_split\"][\"y_train\"],\n",
    "    reduced_dataset_X_y[\"eval_split\"][\"y_test\"],\n",
    "    LinearSVC_StandardScaler_pipeline,\n",
    "    LinearSVC_grid_parameters_1,\n",
    "    \"recall\",\n",
    ")\n",
    "LinearSVC_model_1_scores"
   ]
  },
  {
   "cell_type": "code",
   "execution_count": 7,
   "metadata": {},
   "outputs": [
    {
     "name": "stdout",
     "output_type": "stream",
     "text": [
      "              precision    recall  f1-score   support\n",
      "\n",
      "           0       0.71      0.79      0.75      7279\n",
      "           1       0.75      0.66      0.70      6938\n",
      "\n",
      "    accuracy                           0.72     14217\n",
      "   macro avg       0.73      0.72      0.72     14217\n",
      "weighted avg       0.73      0.72      0.72     14217\n",
      "\n"
     ]
    },
    {
     "data": {
      "text/html": [
       "<div>\n",
       "<style scoped>\n",
       "    .dataframe tbody tr th:only-of-type {\n",
       "        vertical-align: middle;\n",
       "    }\n",
       "\n",
       "    .dataframe tbody tr th {\n",
       "        vertical-align: top;\n",
       "    }\n",
       "\n",
       "    .dataframe thead th {\n",
       "        text-align: right;\n",
       "    }\n",
       "</style>\n",
       "<table border=\"1\" class=\"dataframe\">\n",
       "  <thead>\n",
       "    <tr style=\"text-align: right;\">\n",
       "      <th></th>\n",
       "      <th>param_LinearSVC__C</th>\n",
       "      <th>mean_test_score</th>\n",
       "      <th>std_test_score</th>\n",
       "    </tr>\n",
       "  </thead>\n",
       "  <tbody>\n",
       "    <tr>\n",
       "      <th>0</th>\n",
       "      <td>0.01</td>\n",
       "      <td>0.659246</td>\n",
       "      <td>0.014573</td>\n",
       "    </tr>\n",
       "    <tr>\n",
       "      <th>1</th>\n",
       "      <td>0.1</td>\n",
       "      <td>0.655474</td>\n",
       "      <td>0.015102</td>\n",
       "    </tr>\n",
       "    <tr>\n",
       "      <th>2</th>\n",
       "      <td>1</td>\n",
       "      <td>0.654805</td>\n",
       "      <td>0.014676</td>\n",
       "    </tr>\n",
       "    <tr>\n",
       "      <th>3</th>\n",
       "      <td>10</td>\n",
       "      <td>0.654623</td>\n",
       "      <td>0.014489</td>\n",
       "    </tr>\n",
       "    <tr>\n",
       "      <th>4</th>\n",
       "      <td>0.001</td>\n",
       "      <td>0.635341</td>\n",
       "      <td>0.014796</td>\n",
       "    </tr>\n",
       "  </tbody>\n",
       "</table>\n",
       "</div>"
      ],
      "text/plain": [
       "  param_LinearSVC__C  mean_test_score  std_test_score\n",
       "0               0.01         0.659246        0.014573\n",
       "1                0.1         0.655474        0.015102\n",
       "2                  1         0.654805        0.014676\n",
       "3                 10         0.654623        0.014489\n",
       "4              0.001         0.635341        0.014796"
      ]
     },
     "execution_count": 7,
     "metadata": {},
     "output_type": "execute_result"
    },
    {
     "data": {
      "image/png": "[encoded data removed]",
      "text/plain": [
       "<Figure size 432x288 with 2 Axes>"
      ]
     },
     "metadata": {
      "needs_background": "light"
     },
     "output_type": "display_data"
    }
   ],
   "source": [
    "LinearSVC_MinMaxScaler_pipeline = Pipeline(\n",
    "    [\n",
    "        (\"MinMaxScaler\", MinMaxScaler()),\n",
    "        (\"LinearSVC\", BaseLinearSVC),\n",
    "    ]\n",
    ")\n",
    "(\n",
    "    LinearSVC_model_2,\n",
    "    LinearSVC_model_2_scores,\n",
    "    LinearSVC_model_2_scores_raw,\n",
    ") = search_score_and_evalute_parameters(\n",
    "    reduced_dataset_X_y[\"eval_split\"][\"X_train\"],\n",
    "    reduced_dataset_X_y[\"eval_split\"][\"X_test\"],\n",
    "    reduced_dataset_X_y[\"eval_split\"][\"y_train\"],\n",
    "    reduced_dataset_X_y[\"eval_split\"][\"y_test\"],\n",
    "    LinearSVC_MinMaxScaler_pipeline,\n",
    "    LinearSVC_grid_parameters_1,\n",
    "    \"recall\",\n",
    ")\n",
    "LinearSVC_model_2_scores"
   ]
  },
  {
   "cell_type": "code",
   "execution_count": 10,
   "metadata": {},
   "outputs": [
    {
     "data": {
      "text/plain": [
       "['./models/LinearSVC_model_2.joblib']"
      ]
     },
     "execution_count": 10,
     "metadata": {},
     "output_type": "execute_result"
    }
   ],
   "source": [
    "joblib.dump(LinearSVC_model_2, './models/eval/LinearSVC_model_2.joblib')"
   ]
  }
 ],
 "metadata": {
  "interpreter": {
   "hash": "94df931339f7917b6c0770e1c159f877669809da314458214c51c9be421d1dd6"
  },
  "kernelspec": {
   "display_name": "Python 3.9.9 ('machine-learning-_KPFOz0i')",
   "language": "python",
   "name": "python3"
  },
  "language_info": {
   "codemirror_mode": {
    "name": "ipython",
    "version": 3
   },
   "file_extension": ".py",
   "mimetype": "text/x-python",
   "name": "python",
   "nbconvert_exporter": "python",
   "pygments_lexer": "ipython3",
   "version": "3.9.9"
  },
  "orig_nbformat": 4
 },
 "nbformat": 4,
 "nbformat_minor": 2
}
