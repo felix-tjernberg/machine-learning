{
 "cells": [
  {
   "cell_type": "markdown",
   "metadata": {},
   "source": [
    "# 1-2 Create spare matrix"
   ]
  },
  {
   "cell_type": "code",
   "execution_count": 2,
   "metadata": {},
   "outputs": [],
   "source": [
    "import pandas as pd"
   ]
  },
  {
   "cell_type": "code",
   "execution_count": 3,
   "metadata": {},
   "outputs": [],
   "source": [
    "movies_raw = pd.read_csv('./data/movies_big.csv', dtype={'movieId': 'int32'})\n",
    "ratings_raw = pd.read_csv('./data/ratings_big.csv', usecols=['userId', 'movieId', 'rating'], dtype={'movieId': 'int32', 'userId':'int32', 'rating':'float32'})"
   ]
  },
  {
   "cell_type": "code",
   "execution_count": 4,
   "metadata": {},
   "outputs": [
    {
     "name": "stdout",
     "output_type": "stream",
     "text": [
      "<class 'pandas.core.series.Series'>\n",
      "Int64Index: 53889 entries, 1 to 193886\n",
      "Series name: rating\n",
      "Non-Null Count  Dtype  \n",
      "--------------  -----  \n",
      "53889 non-null  float32\n",
      "dtypes: float32(1)\n",
      "memory usage: 631.5 KB\n"
     ]
    }
   ],
   "source": [
    "avarage_rating = ratings_raw.groupby('movieId')['rating'].mean()\n",
    "avarage_rating.info()"
   ]
  },
  {
   "cell_type": "code",
   "execution_count": 5,
   "metadata": {},
   "outputs": [
    {
     "data": {
      "text/plain": [
       "Int64Index([     1,      6,     11,     16,     17,     21,     25,     26,\n",
       "                28,     29,\n",
       "            ...\n",
       "            193765, 193785, 193795, 193799, 193801, 193835, 193843, 193868,\n",
       "            193872, 193874],\n",
       "           dtype='int64', name='movieId', length=13466)"
      ]
     },
     "execution_count": 5,
     "metadata": {},
     "output_type": "execute_result"
    }
   ],
   "source": [
    "movies_with_rating_over_x = pd.DataFrame(avarage_rating).query('rating > 3.5').index\n",
    "movies_with_rating_over_x"
   ]
  },
  {
   "cell_type": "code",
   "execution_count": 6,
   "metadata": {},
   "outputs": [
    {
     "name": "stdout",
     "output_type": "stream",
     "text": [
      "<class 'pandas.core.frame.DataFrame'>\n",
      "RangeIndex: 27753444 entries, 0 to 27753443\n",
      "Data columns (total 3 columns):\n",
      " #   Column   Dtype  \n",
      "---  ------   -----  \n",
      " 0   userId   int32  \n",
      " 1   movieId  int32  \n",
      " 2   rating   float32\n",
      "dtypes: float32(1), int32(2)\n",
      "memory usage: 317.6 MB\n"
     ]
    }
   ],
   "source": [
    "ratings_raw.info()"
   ]
  },
  {
   "cell_type": "code",
   "execution_count": 7,
   "metadata": {},
   "outputs": [
    {
     "name": "stdout",
     "output_type": "stream",
     "text": [
      "<class 'pandas.core.frame.DataFrame'>\n",
      "Int64Index: 16314048 entries, 0 to 27753443\n",
      "Data columns (total 3 columns):\n",
      " #   Column   Dtype  \n",
      "---  ------   -----  \n",
      " 0   userId   int32  \n",
      " 1   movieId  int32  \n",
      " 2   rating   float32\n",
      "dtypes: float32(1), int32(2)\n",
      "memory usage: 311.2 MB\n"
     ]
    }
   ],
   "source": [
    "ratings_cleaned = ratings_raw.query(f'movieId == {list(movies_with_rating_over_x)}')\n",
    "ratings_cleaned.info()"
   ]
  },
  {
   "cell_type": "code",
   "execution_count": 10,
   "metadata": {},
   "outputs": [],
   "source": [
    "ratings_pivot_table = ratings_cleaned.pivot(\n",
    "    index=\"movieId\", columns=\"userId\", values=\"rating\"\n",
    ").fillna(0);"
   ]
  },
  {
   "cell_type": "code",
   "execution_count": 12,
   "metadata": {},
   "outputs": [
    {
     "data": {
      "text/plain": [
       "<13466x278651 sparse matrix of type '<class 'numpy.float32'>'\n",
       "\twith 16314048 stored elements in Compressed Sparse Row format>"
      ]
     },
     "execution_count": 12,
     "metadata": {},
     "output_type": "execute_result"
    }
   ],
   "source": [
    "from scipy.sparse import csr_matrix\n",
    "ratings_csr_matrix = csr_matrix(ratings_pivot_table.values)\n",
    "ratings_csr_matrix"
   ]
  },
  {
   "cell_type": "code",
   "execution_count": 16,
   "metadata": {},
   "outputs": [
    {
     "data": {
      "text/plain": [
       "NearestNeighbors(algorithm='brute', metric='cosine')"
      ]
     },
     "execution_count": 16,
     "metadata": {},
     "output_type": "execute_result"
    }
   ],
   "source": [
    "from sklearn.neighbors import NearestNeighbors\n",
    "\n",
    "model_knn = NearestNeighbors(metric='cosine', algorithm='brute', n_neighbors=5)\n",
    "model_knn.fit(ratings_csr_matrix)"
   ]
  },
  {
   "cell_type": "code",
   "execution_count": 18,
   "metadata": {},
   "outputs": [
    {
     "name": "stdout",
     "output_type": "stream",
     "text": [
      "Movie selected: Toy Story (1995)\n",
      "Index: 0\n",
      "Searching for recommendations...\n",
      "0                                                     NaN\n",
      "78                                      Juror, The (1996)\n",
      "1005                         Three Caballeros, The (1945)\n",
      "464     Englishman Who Went Up a Hill But Came Down a ...\n",
      "139                                  Birdcage, The (1996)\n",
      "                              ...                        \n",
      "947                           Angel and the Badman (1947)\n",
      "1532                                       Contact (1997)\n",
      "23                                          Powder (1995)\n",
      "690                                          Faces (1968)\n",
      "410                              Air Up There, The (1994)\n",
      "Name: title, Length: 100, dtype: object\n"
     ]
    }
   ],
   "source": [
    "from fuzzywuzzy import process\n",
    "\n",
    "\n",
    "def recomender(movie_name, data, model, number_of_recommendations):\n",
    "    model.fit(data)\n",
    "    index = process.extractOne(movie_name, movies_raw[\"title\"])[2]\n",
    "    print(f'Movie selected: {movies_raw[\"title\"][index]}\\nIndex: {index}')\n",
    "    print(\"Searching for recommendations...\")\n",
    "    distances, indices = model.kneighbors(\n",
    "        data[index], n_neighbors=number_of_recommendations\n",
    "    )\n",
    "    for match_index in indices:\n",
    "        print(movies_raw[\"title\"][match_index].where(match_index != index))\n",
    "\n",
    "\n",
    "recomender(\"toy story\", ratings_csr_matrix, model_knn, 100)"
   ]
  }
 ],
 "metadata": {
  "interpreter": {
   "hash": "e51c63e2fa96bdee1d022b3260efb3b75a99f074551b3f9632d2fa65f13bcac4"
  },
  "kernelspec": {
   "display_name": "Python 3.9.9 ('machine-learning-8KGYMX4H')",
   "language": "python",
   "name": "python3"
  },
  "language_info": {
   "codemirror_mode": {
    "name": "ipython",
    "version": 3
   },
   "file_extension": ".py",
   "mimetype": "text/x-python",
   "name": "python",
   "nbconvert_exporter": "python",
   "pygments_lexer": "ipython3",
   "version": "3.9.9"
  },
  "orig_nbformat": 4
 },
 "nbformat": 4,
 "nbformat_minor": 2
}
