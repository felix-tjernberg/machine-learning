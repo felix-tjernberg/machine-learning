{
 "cells": [
  {
   "cell_type": "markdown",
   "metadata": {},
   "source": [
    "# 2.3"
   ]
  },
  {
   "cell_type": "code",
   "execution_count": 61,
   "metadata": {},
   "outputs": [],
   "source": [
    "import pandas as pd"
   ]
  },
  {
   "cell_type": "code",
   "execution_count": 62,
   "metadata": {},
   "outputs": [],
   "source": [
    "cardio_raw = pd.read_csv(\"./data/cardio_train.csv\", sep=\";\", dtype={'gluc':'category', 'cholesterol':'category'}).drop(columns=['id', 'alco', 'active', 'smoke', 'gender'])"
   ]
  },
  {
   "cell_type": "code",
   "execution_count": 63,
   "metadata": {},
   "outputs": [
    {
     "data": {
      "text/html": [
       "<div>\n",
       "<style scoped>\n",
       "    .dataframe tbody tr th:only-of-type {\n",
       "        vertical-align: middle;\n",
       "    }\n",
       "\n",
       "    .dataframe tbody tr th {\n",
       "        vertical-align: top;\n",
       "    }\n",
       "\n",
       "    .dataframe thead th {\n",
       "        text-align: right;\n",
       "    }\n",
       "</style>\n",
       "<table border=\"1\" class=\"dataframe\">\n",
       "  <thead>\n",
       "    <tr style=\"text-align: right;\">\n",
       "      <th></th>\n",
       "      <th>age</th>\n",
       "      <th>height</th>\n",
       "      <th>weight</th>\n",
       "      <th>ap_hi</th>\n",
       "      <th>ap_lo</th>\n",
       "      <th>cholesterol</th>\n",
       "      <th>gluc</th>\n",
       "      <th>cardio</th>\n",
       "      <th>BMI</th>\n",
       "      <th>BMI Category</th>\n",
       "    </tr>\n",
       "  </thead>\n",
       "  <tbody>\n",
       "    <tr>\n",
       "      <th>0</th>\n",
       "      <td>18393</td>\n",
       "      <td>168</td>\n",
       "      <td>62.0</td>\n",
       "      <td>110</td>\n",
       "      <td>80</td>\n",
       "      <td>1</td>\n",
       "      <td>1</td>\n",
       "      <td>0</td>\n",
       "      <td>22.032402</td>\n",
       "      <td>2</td>\n",
       "    </tr>\n",
       "  </tbody>\n",
       "</table>\n",
       "</div>"
      ],
      "text/plain": [
       "     age  height  weight  ap_hi  ap_lo cholesterol gluc  cardio        BMI  \\\n",
       "0  18393     168    62.0    110     80           1    1       0  22.032402   \n",
       "\n",
       "  BMI Category  \n",
       "0            2  "
      ]
     },
     "execution_count": 63,
     "metadata": {},
     "output_type": "execute_result"
    }
   ],
   "source": [
    "height_in_m = cardio_raw.query('height > 147 & height < 250')['height'].apply(lambda height: height * 0.01)\n",
    "\n",
    "height_weight_cleaned = cardio_raw.drop(columns=['height']).join(height_in_m).dropna()\n",
    "\n",
    "bmi_raw = cardio_raw.join(height_weight_cleaned.apply(lambda row: 1.3 * row.weight / pow(row.height, 2.5), axis=1).rename('BMI')).dropna()\n",
    "\n",
    "bmi_cleaned = bmi_raw.drop(bmi_raw.query('BMI < 16 | BMI > 60').index)\n",
    "cardio_raw_with_bmi = bmi_cleaned.join(pd.cut(\n",
    "    bmi_cleaned[\"BMI\"],\n",
    "    [0, 18.4, 24.9, 29.9, 34.9, 39.9, 100],\n",
    "    labels=[\n",
    "        1,\n",
    "        2,\n",
    "        3,\n",
    "        4,\n",
    "        5,\n",
    "        6,\n",
    "    ],\n",
    ").rename('BMI Category'))\n",
    "cardio_raw_with_bmi.head(1)"
   ]
  },
  {
   "cell_type": "code",
   "execution_count": 64,
   "metadata": {},
   "outputs": [
    {
     "data": {
      "text/html": [
       "<div>\n",
       "<style scoped>\n",
       "    .dataframe tbody tr th:only-of-type {\n",
       "        vertical-align: middle;\n",
       "    }\n",
       "\n",
       "    .dataframe tbody tr th {\n",
       "        vertical-align: top;\n",
       "    }\n",
       "\n",
       "    .dataframe thead th {\n",
       "        text-align: right;\n",
       "    }\n",
       "</style>\n",
       "<table border=\"1\" class=\"dataframe\">\n",
       "  <thead>\n",
       "    <tr style=\"text-align: right;\">\n",
       "      <th></th>\n",
       "      <th>age</th>\n",
       "      <th>height</th>\n",
       "      <th>weight</th>\n",
       "      <th>ap_hi</th>\n",
       "      <th>ap_lo</th>\n",
       "      <th>cholesterol</th>\n",
       "      <th>gluc</th>\n",
       "      <th>cardio</th>\n",
       "      <th>BMI</th>\n",
       "      <th>BMI Category</th>\n",
       "      <th>Blood Pressure Category</th>\n",
       "    </tr>\n",
       "  </thead>\n",
       "  <tbody>\n",
       "    <tr>\n",
       "      <th>0</th>\n",
       "      <td>18393</td>\n",
       "      <td>168</td>\n",
       "      <td>62.0</td>\n",
       "      <td>110</td>\n",
       "      <td>80</td>\n",
       "      <td>1</td>\n",
       "      <td>1</td>\n",
       "      <td>0</td>\n",
       "      <td>22.032402</td>\n",
       "      <td>2</td>\n",
       "      <td>3</td>\n",
       "    </tr>\n",
       "  </tbody>\n",
       "</table>\n",
       "</div>"
      ],
      "text/plain": [
       "     age  height  weight  ap_hi  ap_lo cholesterol gluc  cardio        BMI  \\\n",
       "0  18393     168    62.0    110     80           1    1       0  22.032402   \n",
       "\n",
       "  BMI Category Blood Pressure Category  \n",
       "0            2                       3  "
      ]
     },
     "execution_count": 64,
     "metadata": {},
     "output_type": "execute_result"
    }
   ],
   "source": [
    "blood_pressure_cleaned = cardio_raw_with_bmi.drop(\n",
    "    pd.concat(\n",
    "        [\n",
    "            cardio_raw_with_bmi.query(\"ap_lo < 50\"),\n",
    "            cardio_raw_with_bmi.query(\"ap_lo > 200\"),\n",
    "            cardio_raw_with_bmi.query(\"ap_hi < 60\"),\n",
    "            cardio_raw_with_bmi.query(\"ap_hi > 240\"),\n",
    "        ]\n",
    "    ).index\n",
    ")\n",
    "def blood_pressure_category(row):\n",
    "    if (row['ap_hi'] < 120) and (row['ap_lo'] < 80):\n",
    "        return 1\n",
    "    if (row['ap_hi'] <= 129) and (row['ap_lo'] < 80):\n",
    "        return 2\n",
    "    if (row['ap_hi'] <= 139) or (row['ap_lo'] <= 89):\n",
    "        return 3\n",
    "    if (row['ap_lo'] <= 179) or (row['ap_lo'] <= 119):\n",
    "        return 4\n",
    "    if (row['ap_hi'] >= 180) or (row['ap_lo'] >= 120):\n",
    "        return 5\n",
    "\n",
    "cardio_cleaned_with_new_categories = blood_pressure_cleaned.join(pd.DataFrame(blood_pressure_cleaned.apply(blood_pressure_category, axis=1).rename('Blood Pressure Category').astype('category')))\n",
    "\n",
    "cardio_cleaned_with_new_categories.head(1)"
   ]
  },
  {
   "cell_type": "code",
   "execution_count": 79,
   "metadata": {},
   "outputs": [
    {
     "name": "stdout",
     "output_type": "stream",
     "text": [
      "<class 'pandas.core.frame.DataFrame'>\n",
      "Int64Index: 67798 entries, 0 to 69999\n",
      "Data columns (total 14 columns):\n",
      " #   Column                     Non-Null Count  Dtype\n",
      "---  ------                     --------------  -----\n",
      " 0   cardio                     67798 non-null  int64\n",
      " 1   cholesterol_2              67798 non-null  uint8\n",
      " 2   cholesterol_3              67798 non-null  uint8\n",
      " 3   gluc_2                     67798 non-null  uint8\n",
      " 4   gluc_3                     67798 non-null  uint8\n",
      " 5   BMI Category_2             67798 non-null  uint8\n",
      " 6   BMI Category_3             67798 non-null  uint8\n",
      " 7   BMI Category_4             67798 non-null  uint8\n",
      " 8   BMI Category_5             67798 non-null  uint8\n",
      " 9   BMI Category_6             67798 non-null  uint8\n",
      " 10  Blood Pressure Category_2  67798 non-null  uint8\n",
      " 11  Blood Pressure Category_3  67798 non-null  uint8\n",
      " 12  Blood Pressure Category_4  67798 non-null  uint8\n",
      " 13  Blood Pressure Category_5  67798 non-null  uint8\n",
      "dtypes: int64(1), uint8(13)\n",
      "memory usage: 3.9 MB\n"
     ]
    }
   ],
   "source": [
    "categorial_data_set = pd.get_dummies(cardio_cleaned_with_new_categories.drop(columns=['ap_hi', 'ap_lo', 'height', 'weight', 'BMI', 'age']), drop_first=True)\n",
    "categorial_data_set.info()"
   ]
  },
  {
   "cell_type": "code",
   "execution_count": 80,
   "metadata": {},
   "outputs": [
    {
     "name": "stdout",
     "output_type": "stream",
     "text": [
      "<class 'pandas.core.frame.DataFrame'>\n",
      "Int64Index: 67798 entries, 0 to 69999\n",
      "Data columns (total 9 columns):\n",
      " #   Column       Non-Null Count  Dtype   \n",
      "---  ------       --------------  -----   \n",
      " 0   age          67798 non-null  int64   \n",
      " 1   height       67798 non-null  int64   \n",
      " 2   weight       67798 non-null  float64 \n",
      " 3   ap_hi        67798 non-null  int64   \n",
      " 4   ap_lo        67798 non-null  int64   \n",
      " 5   cholesterol  67798 non-null  category\n",
      " 6   gluc         67798 non-null  category\n",
      " 7   cardio       67798 non-null  int64   \n",
      " 8   BMI          67798 non-null  float64 \n",
      "dtypes: category(2), float64(2), int64(5)\n",
      "memory usage: 6.3 MB\n"
     ]
    }
   ],
   "source": [
    "continuous_dataset = cardio_cleaned_with_new_categories.drop(columns=['Blood Pressure Category', 'BMI Category'])\n",
    "continuous_dataset.info()"
   ]
  },
  {
   "cell_type": "code",
   "execution_count": 81,
   "metadata": {},
   "outputs": [
    {
     "name": "stdout",
     "output_type": "stream",
     "text": [
      "<class 'pandas.core.frame.DataFrame'>\n",
      "Int64Index: 67798 entries, 0 to 69999\n",
      "Data columns (total 24 columns):\n",
      " #   Column                     Non-Null Count  Dtype  \n",
      "---  ------                     --------------  -----  \n",
      " 0   age                        67798 non-null  int64  \n",
      " 1   height                     67798 non-null  int64  \n",
      " 2   weight                     67798 non-null  float64\n",
      " 3   ap_hi                      67798 non-null  int64  \n",
      " 4   ap_lo                      67798 non-null  int64  \n",
      " 5   cardio                     67798 non-null  int64  \n",
      " 6   BMI                        67798 non-null  float64\n",
      " 7   cholesterol_2              67798 non-null  uint8  \n",
      " 8   cholesterol_3              67798 non-null  uint8  \n",
      " 9   gluc_2                     67798 non-null  uint8  \n",
      " 10  gluc_3                     67798 non-null  uint8  \n",
      " 11  BMI Category_2             67798 non-null  uint8  \n",
      " 12  BMI Category_3             67798 non-null  uint8  \n",
      " 13  BMI Category_4             67798 non-null  uint8  \n",
      " 14  BMI Category_5             67798 non-null  uint8  \n",
      " 15  BMI Category_6             67798 non-null  uint8  \n",
      " 16  Blood Pressure Category_2  67798 non-null  uint8  \n",
      " 17  Blood Pressure Category_3  67798 non-null  uint8  \n",
      " 18  Blood Pressure Category_4  67798 non-null  uint8  \n",
      " 19  Blood Pressure Category_5  67798 non-null  uint8  \n",
      " 20  gender_2                   67798 non-null  uint8  \n",
      " 21  smoke_1                    67798 non-null  uint8  \n",
      " 22  alco_1                     67798 non-null  uint8  \n",
      " 23  active_1                   67798 non-null  uint8  \n",
      "dtypes: float64(2), int64(5), uint8(17)\n",
      "memory usage: 7.3 MB\n"
     ]
    }
   ],
   "source": [
    "other_features_raw = pd.read_csv(\"./data/cardio_train.csv\", sep=\";\", dtype={'gluc':'category', 'cholesterol':'category', 'gender':'category', 'smoke':'category', 'alco':'category', 'active':'category'}).drop(columns=['id', 'age', 'height', 'weight', 'ap_hi', 'ap_lo', 'cardio', 'cholesterol', 'gluc'])\n",
    "all_features_dataset = pd.get_dummies(cardio_cleaned_with_new_categories, drop_first=True).join(pd.get_dummies(other_features_raw, drop_first=True))\n",
    "all_features_dataset.info()"
   ]
  }
 ],
 "metadata": {
  "interpreter": {
   "hash": "94df931339f7917b6c0770e1c159f877669809da314458214c51c9be421d1dd6"
  },
  "kernelspec": {
   "display_name": "Python 3.9.9 ('machine-learning-_KPFOz0i')",
   "language": "python",
   "name": "python3"
  },
  "language_info": {
   "codemirror_mode": {
    "name": "ipython",
    "version": 3
   },
   "file_extension": ".py",
   "mimetype": "text/x-python",
   "name": "python",
   "nbconvert_exporter": "python",
   "pygments_lexer": "ipython3",
   "version": "3.9.9"
  },
  "orig_nbformat": 4
 },
 "nbformat": 4,
 "nbformat_minor": 2
}
