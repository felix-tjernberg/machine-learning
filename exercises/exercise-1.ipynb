{
 "cells": [
  {
   "cell_type": "markdown",
   "metadata": {},
   "source": [
    "# [Exercise 0](https://colab.research.google.com/github/kokchun/Maskininlarning-AI21/blob/main/Exercises/E00_linear_regression.ipynb#scrollTo=XaaBo62vK1Bp)"
   ]
  },
  {
   "cell_type": "code",
   "execution_count": null,
   "metadata": {},
   "outputs": [],
   "source": [
    "import matplotlib.pyplot as pyplot\n",
    "import numpy\n",
    "import pandas\n",
    "import seaborn"
   ]
  },
  {
   "cell_type": "markdown",
   "metadata": {},
   "source": [
    "## 0"
   ]
  },
  {
   "cell_type": "markdown",
   "metadata": {},
   "source": [
    "### a)"
   ]
  },
  {
   "cell_type": "code",
   "execution_count": null,
   "metadata": {},
   "outputs": [],
   "source": [
    "numpy.random.seed(42)\n",
    "x_minutes_per_month = numpy.abs(numpy.random.normal(loc=100, scale=100, size=(400)))\n",
    "x_minutes_per_month[:5]"
   ]
  },
  {
   "cell_type": "code",
   "execution_count": null,
   "metadata": {},
   "outputs": [],
   "source": [
    "randomized_error = numpy.random.normal(loc=0, scale=50, size=(400))\n",
    "randomized_error[:5]"
   ]
  },
  {
   "cell_type": "code",
   "execution_count": null,
   "metadata": {},
   "outputs": [],
   "source": [
    "y_sek_per_month = 2 * x_minutes_per_month + 25 + randomized_error"
   ]
  },
  {
   "cell_type": "code",
   "execution_count": null,
   "metadata": {},
   "outputs": [],
   "source": [
    "fig, ax = pyplot.subplots(dpi=100)\n",
    "seaborn.scatterplot(x=x_minutes_per_month, y=y_sek_per_month)\n",
    "ax.set(\n",
    "    title=\"Simulated 400 datapoints including boundaries\",\n",
    "    xlabel=\"Call length in minutes\",\n",
    "    ylabel=\"SEK/month\",\n",
    ")\n",
    "ax.axvline(300, dashes=(1, 3), color=\"green\", label=\"maximum\")\n",
    "ax.axhline(0, dashes=(1, 3), color=\"orange\", label=\"minimum\")\n",
    "ax.legend()"
   ]
  },
  {
   "cell_type": "markdown",
   "metadata": {},
   "source": [
    "### b)"
   ]
  },
  {
   "cell_type": "code",
   "execution_count": null,
   "metadata": {},
   "outputs": [],
   "source": [
    "# remove over 300 min\n",
    "# remove costs that are negative\n",
    "clean_statement = (0 <= y_sek_per_month) & (x_minutes_per_month <= 300)\n",
    "x_minutes_per_month_cleaned = x_minutes_per_month[clean_statement]\n",
    "y_sek_per_month_cleaned = y_sek_per_month[clean_statement]\n",
    "len(x_minutes_per_month_cleaned), len(y_sek_per_month_cleaned), len(x_minutes_per_month), len(y_sek_per_month)"
   ]
  },
  {
   "cell_type": "code",
   "execution_count": null,
   "metadata": {},
   "outputs": [],
   "source": [
    "y_sek_per_month_ground_truth = 2 * x_minutes_per_month + 25"
   ]
  },
  {
   "cell_type": "code",
   "execution_count": null,
   "metadata": {},
   "outputs": [],
   "source": [
    "fig, ax = pyplot.subplots(dpi=100)\n",
    "seaborn.scatterplot(x=x_minutes_per_month_cleaned, y=y_sek_per_month_cleaned)\n",
    "seaborn.lineplot(x=x_minutes_per_month, y=y_sek_per_month_ground_truth, color='red', label='Ground truth')\n",
    "ax.set(\n",
    "    title=\"Cleaned outliers\",\n",
    "    xlabel=\"Call length in minutes\",\n",
    "    ylabel=\"SEK/month\",\n",
    ")\n",
    "ax.legend()\n",
    "pyplot.xlim(0,300)"
   ]
  },
  {
   "cell_type": "markdown",
   "metadata": {},
   "source": [
    "### c)"
   ]
  },
  {
   "cell_type": "code",
   "execution_count": null,
   "metadata": {},
   "outputs": [],
   "source": [
    "y_sek_per_month_cleaned.shape, x_minutes_per_month_cleaned.shape"
   ]
  },
  {
   "cell_type": "code",
   "execution_count": null,
   "metadata": {},
   "outputs": [],
   "source": [
    "phone_data_month = pandas.DataFrame({'Minutes':x_minutes_per_month_cleaned, 'Cost':y_sek_per_month_cleaned})\n",
    "phone_data_month.head()"
   ]
  },
  {
   "cell_type": "markdown",
   "metadata": {},
   "source": [
    "## 1"
   ]
  },
  {
   "cell_type": "markdown",
   "metadata": {},
   "source": [
    "### a) b)"
   ]
  },
  {
   "cell_type": "code",
   "execution_count": 77,
   "metadata": {},
   "outputs": [
    {
     "data": {
      "text/plain": [
       "((266, 1), (266, 1), (115, 1), (115, 1))"
      ]
     },
     "execution_count": 77,
     "metadata": {},
     "output_type": "execute_result"
    }
   ],
   "source": [
    "def train_test_split(\n",
    "    X: pandas.DataFrame,\n",
    "    y: pandas.DataFrame,\n",
    "    train_fraction: float = 0.7,\n",
    "    random_state: int = 42,\n",
    "    replace=False,\n",
    "):\n",
    "    def sample(df: pandas.DataFrame):\n",
    "        return df.sample(\n",
    "            n=int(len(df) * train_fraction), random_state=random_state, replace=False\n",
    "        )\n",
    "\n",
    "    def select_not_in_list(\n",
    "        original: pandas.DataFrame, filtering_data_frame: pandas.DataFrame\n",
    "    ):\n",
    "        return original[~original.isin(filtering_data_frame).iloc[:, 0]] # https://www.codegrepper.com/code-examples/python/pandas+dataframe+select+rows+not+in+list\n",
    "\n",
    "    X_train, y_train = (sample(X), sample(y))\n",
    "\n",
    "    X_test, y_test = (select_not_in_list(X, X_train), select_not_in_list(y,y_train))\n",
    "\n",
    "    return {\n",
    "        \"train_data\": {\"X\": X_train, \"y\": y_train},\n",
    "        \"test_data\": {\"X\": X_test, \"y\": y_test},\n",
    "    }\n",
    "\n",
    "\n",
    "phone_data_month_train_test_split = train_test_split(\n",
    "    X=pandas.DataFrame(phone_data_month[\"Minutes\"]),\n",
    "    y=pandas.DataFrame(phone_data_month[\"Cost\"]),\n",
    ")\n",
    "train_data = phone_data_month_train_test_split[\"train_data\"]\n",
    "test_data = phone_data_month_train_test_split[\"test_data\"]\n",
    "\n",
    "\n",
    "train_data[\"X\"].shape, train_data['y'].shape, test_data[\"X\"].shape, test_data['y'].shape"
   ]
  }
 ],
 "metadata": {
  "interpreter": {
   "hash": "94df931339f7917b6c0770e1c159f877669809da314458214c51c9be421d1dd6"
  },
  "kernelspec": {
   "display_name": "Python 3.9.9 ('machine-learning-_KPFOz0i')",
   "language": "python",
   "name": "python3"
  },
  "language_info": {
   "codemirror_mode": {
    "name": "ipython",
    "version": 3
   },
   "file_extension": ".py",
   "mimetype": "text/x-python",
   "name": "python",
   "nbconvert_exporter": "python",
   "pygments_lexer": "ipython3",
   "version": "3.9.9"
  },
  "orig_nbformat": 4
 },
 "nbformat": 4,
 "nbformat_minor": 2
}
