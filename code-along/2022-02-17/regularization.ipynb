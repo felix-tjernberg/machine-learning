{
 "cells": [
  {
   "cell_type": "markdown",
   "metadata": {},
   "source": [
    "# [Regularization](https://github.com/kokchun/Maskininlarning-AI21/blob/main/Lectures/L4-Regularization.ipynb)"
   ]
  },
  {
   "cell_type": "markdown",
   "metadata": {},
   "source": [
    "## Data preparation"
   ]
  },
  {
   "cell_type": "code",
   "execution_count": 6,
   "metadata": {},
   "outputs": [],
   "source": [
    "import numpy as np\n",
    "import pandas as pd\n",
    "import matplotlib.pyplot as plt"
   ]
  },
  {
   "cell_type": "code",
   "execution_count": 11,
   "metadata": {},
   "outputs": [
    {
     "data": {
      "text/plain": [
       "((134, 19), (66, 19), (134,), (66,))"
      ]
     },
     "execution_count": 11,
     "metadata": {},
     "output_type": "execute_result"
    }
   ],
   "source": [
    "from sklearn.model_selection import train_test_split\n",
    "from sklearn.preprocessing import PolynomialFeatures\n",
    "\n",
    "df = pd.read_csv('../Data/Advertising.csv', index_col=0)\n",
    "X, y = df.drop('sales', axis=1), df['sales']\n",
    "\n",
    "model_polynomial = PolynomialFeatures(3, include_bias=False)\n",
    "poly_features = model_polynomial.fit_transform(X)\n",
    "\n",
    "X_train, X_test, y_train, y_test = train_test_split(poly_features, y, test_size=0.33, random_state=42)\n",
    "\n",
    "X_train.shape, X_test.shape, y_train.shape, y_test.shape"
   ]
  },
  {
   "cell_type": "markdown",
   "metadata": {},
   "source": [
    "## Feature standardization"
   ]
  },
  {
   "cell_type": "code",
   "execution_count": 15,
   "metadata": {},
   "outputs": [
    {
     "data": {
      "text/plain": [
       "(-3.34898382919136e-17, 1.0, -0.11982457640326809, 1.1245966534380971)"
      ]
     },
     "execution_count": 15,
     "metadata": {},
     "output_type": "execute_result"
    }
   ],
   "source": [
    "from sklearn.preprocessing import StandardScaler\n",
    "\n",
    "scaler = StandardScaler()\n",
    "scaled_X_train = scaler.fit_transform(X_train)\n",
    "scaled_X_test = scaler.transform(X_test)\n",
    "\n",
    "scaled_X_train.mean(), scaled_X_train.std(), scaled_X_test.mean(), scaled_X_test.std()"
   ]
  },
  {
   "cell_type": "markdown",
   "metadata": {},
   "source": [
    "## Regularization techniques"
   ]
  },
  {
   "cell_type": "markdown",
   "metadata": {},
   "source": [
    "### Ridge"
   ]
  },
  {
   "cell_type": "code",
   "execution_count": 25,
   "metadata": {},
   "outputs": [
    {
     "data": {
      "text/plain": [
       "(0.5148267621786567, 0.3748516441217886)"
      ]
     },
     "execution_count": 25,
     "metadata": {},
     "output_type": "execute_result"
    }
   ],
   "source": [
    "from sklearn.linear_model import Ridge\n",
    "from sklearn.metrics import mean_absolute_error, mean_squared_error\n",
    "\n",
    "def ridge_regression(X_train, X_test, y, penalty=0):\n",
    "    model_ridge = Ridge(alpha=penalty)\n",
    "    model_ridge.fit(X_train, y)\n",
    "    y_pred = model_ridge.predict(X_test)\n",
    "    return y_pred\n",
    "\n",
    "y_pred= ridge_regression(scaled_X_train, scaled_X_test, y_train)\n",
    "\n",
    "MAE = mean_absolute_error(y_test, y_pred)\n",
    "MSE = mean_squared_error(y_test,y_pred)\n",
    "RMSE = np.sqrt(MSE)\n",
    "\n",
    "RMSE, MAE"
   ]
  },
  {
   "cell_type": "code",
   "execution_count": 21,
   "metadata": {},
   "outputs": [
    {
     "data": {
      "text/plain": [
       "(0.5148267621786622, 0.37485164412178396)"
      ]
     },
     "execution_count": 21,
     "metadata": {},
     "output_type": "execute_result"
    }
   ],
   "source": [
    "from sklearn.linear_model import LinearRegression\n",
    "\n",
    "model_linear = LinearRegression()\n",
    "model_linear.fit(scaled_X_train, y_train)\n",
    "y_pred_linear = model_linear.predict(scaled_X_test)\n",
    "\n",
    "MAE = mean_absolute_error(y_test, y_pred_linear)\n",
    "MSE = mean_squared_error(y_test,y_pred_linear)\n",
    "RMSE = np.sqrt(MSE)\n",
    "\n",
    "RMSE, MAE"
   ]
  },
  {
   "cell_type": "markdown",
   "metadata": {},
   "source": [
    "### Lasso"
   ]
  },
  {
   "cell_type": "code",
   "execution_count": 27,
   "metadata": {},
   "outputs": [
    {
     "data": {
      "text/plain": [
       "(0.7853962108799017, 0.5735346450114956)"
      ]
     },
     "execution_count": 27,
     "metadata": {},
     "output_type": "execute_result"
    }
   ],
   "source": [
    "from sklearn.linear_model import Lasso\n",
    "\n",
    "model_lasso = Lasso(alpha = 0.1)\n",
    "model_lasso.fit(scaled_X_train, y_train)\n",
    "y_pred_lasso = model_lasso.predict(scaled_X_test)\n",
    "\n",
    "MAE = mean_absolute_error(y_test, y_pred_lasso)\n",
    "MSE = mean_squared_error(y_test,y_pred_lasso)\n",
    "RMSE = np.sqrt(MSE)\n",
    "\n",
    "RMSE, MAE"
   ]
  },
  {
   "cell_type": "markdown",
   "metadata": {},
   "source": [
    "## K-folded cross-validation"
   ]
  },
  {
   "cell_type": "code",
   "execution_count": 34,
   "metadata": {},
   "outputs": [
    {
     "name": "stdout",
     "output_type": "stream",
     "text": [
      "0.09\n",
      "[ 5.96148356  0.50352189  0.71735081 -6.47536665  3.81038215 -1.38909347\n",
      " -0.07894157  0.0878956  -0.32824635  2.3457539  -0.49831663  0.73076724\n",
      "  0.59562279 -0.59678576  0.59362944 -0.29955704  0.35328991  0.03140165\n",
      " -0.14314102]\n"
     ]
    },
    {
     "data": {
      "text/plain": [
       "(0.5572774552748411, 0.4277823528843387)"
      ]
     },
     "execution_count": 34,
     "metadata": {},
     "output_type": "execute_result"
    }
   ],
   "source": [
    "from sklearn.linear_model import RidgeCV\n",
    "\n",
    "model_ridgeCV = RidgeCV(alphas=(.00001, .0001, .001, .01, .09, .1, .11, .3, .5, .6, .7, .9, 1, 5, 10)) # alpha is same as lambda in theory - penalty term\n",
    "model_ridgeCV.fit(scaled_X_train, y_train)\n",
    "print(model_ridgeCV.alpha_)\n",
    "print(model_ridgeCV.coef_)\n",
    "y_pred_ridgeCV = model_ridgeCV.predict(scaled_X_test)\n",
    "\n",
    "MAE = mean_absolute_error(y_test, y_pred_ridgeCV)\n",
    "MSE = mean_squared_error(y_test,y_pred_ridgeCV)\n",
    "RMSE = np.sqrt(MSE)\n",
    "\n",
    "RMSE, MAE"
   ]
  },
  {
   "cell_type": "code",
   "execution_count": 38,
   "metadata": {},
   "outputs": [
    {
     "name": "stdout",
     "output_type": "stream",
     "text": [
      "0.004968802520343366\n",
      "[ 5.19612354  0.43037087  0.29876351 -4.80417579  3.46665205 -0.40507212\n",
      "  0.          0.          0.          1.35260206 -0.          0.\n",
      "  0.14879719 -0.          0.          0.          0.09649665  0.\n",
      "  0.04353956]\n"
     ]
    },
    {
     "data": {
      "text/plain": [
       "(0.5785146895301977, 0.46291883026932984)"
      ]
     },
     "execution_count": 38,
     "metadata": {},
     "output_type": "execute_result"
    }
   ],
   "source": [
    "from sklearn.linear_model import LassoCV\n",
    "\n",
    "model_lassoCV = LassoCV(eps=0.001, n_alphas=100, max_iter=1e4, cv=5)\n",
    "model_lassoCV.fit(scaled_X_train, y_train)\n",
    "print(model_lassoCV.alpha_)\n",
    "print(model_lassoCV.coef_)\n",
    "y_pred_lassoCV = model_lassoCV.predict(scaled_X_test)\n",
    "\n",
    "MAE = mean_absolute_error(y_test, y_pred_lassoCV)\n",
    "MSE = mean_squared_error(y_test,y_pred_lassoCV)\n",
    "RMSE = np.sqrt(MSE)\n",
    "\n",
    "RMSE, MAE"
   ]
  },
  {
   "cell_type": "code",
   "execution_count": 40,
   "metadata": {},
   "outputs": [
    {
     "name": "stdout",
     "output_type": "stream",
     "text": [
      "1.0\n",
      "[ 5.19612354  0.43037087  0.29876351 -4.80417579  3.46665205 -0.40507212\n",
      "  0.          0.          0.          1.35260206 -0.          0.\n",
      "  0.14879719 -0.          0.          0.          0.09649665  0.\n",
      "  0.04353956]\n",
      "0.004968802520343366\n"
     ]
    }
   ],
   "source": [
    "from sklearn.linear_model import ElasticNetCV\n",
    "\n",
    "model_elasticCV = ElasticNetCV(l1_ratio=[.05, .1, .2, .5, .7, .9, .95, 1], max_iter=10000)\n",
    "model_elasticCV.fit(scaled_X_train, y_train)\n",
    "print(model_elasticCV.l1_ratio_)\n",
    "print(model_elasticCV.coef_)\n",
    "print(model_elasticCV.alpha_)"
   ]
  },
  {
   "cell_type": "code",
   "execution_count": 42,
   "metadata": {},
   "outputs": [
    {
     "data": {
      "text/plain": [
       "(0.5785146895301977, 0.46291883026932984)"
      ]
     },
     "execution_count": 42,
     "metadata": {},
     "output_type": "execute_result"
    }
   ],
   "source": [
    "y_pred_elasticCV = model_elasticCV.predict(scaled_X_test)\n",
    "\n",
    "MAE = mean_absolute_error(y_test, y_pred_elasticCV)\n",
    "MSE = mean_squared_error(y_test,y_pred_elasticCV)\n",
    "RMSE = np.sqrt(MSE)\n",
    "\n",
    "RMSE, MAE"
   ]
  }
 ],
 "metadata": {
  "interpreter": {
   "hash": "94df931339f7917b6c0770e1c159f877669809da314458214c51c9be421d1dd6"
  },
  "kernelspec": {
   "display_name": "Python 3.9.9 ('machine-learning-_KPFOz0i')",
   "language": "python",
   "name": "python3"
  },
  "language_info": {
   "codemirror_mode": {
    "name": "ipython",
    "version": 3
   },
   "file_extension": ".py",
   "mimetype": "text/x-python",
   "name": "python",
   "nbconvert_exporter": "python",
   "pygments_lexer": "ipython3",
   "version": "3.9.9"
  },
  "orig_nbformat": 4
 },
 "nbformat": 4,
 "nbformat_minor": 2
}
