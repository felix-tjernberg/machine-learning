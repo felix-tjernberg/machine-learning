{
 "cells": [
  {
   "cell_type": "markdown",
   "metadata": {},
   "source": [
    "# [Gradient decent](https://github.com/kokchun/Maskininlarning-AI21/blob/main/Lectures/L1-Gradient_descent.ipynb)"
   ]
  },
  {
   "cell_type": "markdown",
   "metadata": {},
   "source": [
    "## Simulate data"
   ]
  },
  {
   "cell_type": "code",
   "execution_count": 1,
   "metadata": {},
   "outputs": [],
   "source": [
    "import pandas\n",
    "import numpy\n",
    "import matplotlib.pyplot as pyplot"
   ]
  },
  {
   "cell_type": "code",
   "execution_count": 2,
   "metadata": {},
   "outputs": [
    {
     "data": {
      "text/plain": [
       "[<matplotlib.lines.Line2D at 0x11653d220>]"
      ]
     },
     "execution_count": 2,
     "metadata": {},
     "output_type": "execute_result"
    },
    {
     "data": {
      "image/png": "[encoded data removed]",
      "text/plain": [
       "<Figure size 432x288 with 1 Axes>"
      ]
     },
     "metadata": {
      "needs_background": "light"
     },
     "output_type": "display_data"
    }
   ],
   "source": [
    "samples = 1000\n",
    "\n",
    "X = 2 * numpy.random.randn(samples, 1)\n",
    "noise = numpy.random.randn(samples, 1)\n",
    "y = 2 + 9*X + noise\n",
    "\n",
    "pyplot.plot(X,y, '.')"
   ]
  },
  {
   "cell_type": "code",
   "execution_count": 3,
   "metadata": {},
   "outputs": [
    {
     "data": {
      "text/plain": [
       "array([[-0.74067594],\n",
       "       [ 0.30605298],\n",
       "       [-1.92278177],\n",
       "       [ 1.60880668],\n",
       "       [-1.19132795]])"
      ]
     },
     "execution_count": 3,
     "metadata": {},
     "output_type": "execute_result"
    }
   ],
   "source": [
    "X[:5]"
   ]
  },
  {
   "cell_type": "code",
   "execution_count": 4,
   "metadata": {},
   "outputs": [
    {
     "data": {
      "text/plain": [
       "array([[ 1.        , -0.74067594],\n",
       "       [ 1.        ,  0.30605298],\n",
       "       [ 1.        , -1.92278177],\n",
       "       [ 1.        ,  1.60880668],\n",
       "       [ 1.        , -1.19132795]])"
      ]
     },
     "execution_count": 4,
     "metadata": {},
     "output_type": "execute_result"
    }
   ],
   "source": [
    "X = numpy.c_[numpy.ones(samples), X] # c_ = concatenates\n",
    "X[:5]"
   ]
  },
  {
   "cell_type": "markdown",
   "metadata": {},
   "source": [
    "## Train|test split"
   ]
  },
  {
   "cell_type": "code",
   "execution_count": 5,
   "metadata": {},
   "outputs": [
    {
     "data": {
      "text/plain": [
       "((670, 2), (330, 2), (670, 1), (330, 1))"
      ]
     },
     "execution_count": 5,
     "metadata": {},
     "output_type": "execute_result"
    }
   ],
   "source": [
    "from sklearn.model_selection import train_test_split\n",
    "\n",
    "X_train, X_test, y_train, y_test = train_test_split(\n",
    "    X, y, test_size=0.33, random_state=42\n",
    ")\n",
    "\n",
    "X_train.shape, X_test.shape, y_train.shape, y_test.shape"
   ]
  },
  {
   "cell_type": "code",
   "execution_count": 6,
   "metadata": {},
   "outputs": [
    {
     "data": {
      "text/plain": [
       "(array([[1.93481755],\n",
       "        [8.98300475]]),\n",
       " array([1.93481755, 8.98300475]))"
      ]
     },
     "execution_count": 6,
     "metadata": {},
     "output_type": "execute_result"
    }
   ],
   "source": [
    "def gradient_descent(X, y, learning_rate=0.1, epochs=100):\n",
    "    m = len(X)\n",
    "    weights = numpy.random.randn( # random.randn är random normal distribution\n",
    "        X.shape[1], 1\n",
    "    ) \n",
    "\n",
    "    for _ in range(epochs):\n",
    "        gradient = 2 / m * X.T @ (X @ weights - y)\n",
    "        weights -= learning_rate*gradient\n",
    "\n",
    "    return weights\n",
    "\n",
    "weights = gradient_descent(X_train, y_train)\n",
    "\n",
    "weights, weights.reshape(-1)"
   ]
  },
  {
   "cell_type": "code",
   "execution_count": 10,
   "metadata": {},
   "outputs": [
    {
     "data": {
      "text/plain": [
       "(199, 2)"
      ]
     },
     "execution_count": 10,
     "metadata": {},
     "output_type": "execute_result"
    }
   ],
   "source": [
    "epochs = numpy.arange(1, 200)\n",
    "weights = numpy.array(\n",
    "    [gradient_descent(X_train, y_train, epochs=epochs).reshape(-1) for epochs in epochs]\n",
    ")\n",
    "weights.shape"
   ]
  },
  {
   "cell_type": "code",
   "execution_count": 11,
   "metadata": {},
   "outputs": [
    {
     "data": {
      "text/plain": [
       "[<matplotlib.lines.Line2D at 0x133c3c9d0>,\n",
       " <matplotlib.lines.Line2D at 0x133c3ca30>]"
      ]
     },
     "execution_count": 11,
     "metadata": {},
     "output_type": "execute_result"
    },
    {
     "data": {
      "image/png": "[encoded data removed]",
      "text/plain": [
       "<Figure size 600x400 with 1 Axes>"
      ]
     },
     "metadata": {
      "needs_background": "light"
     },
     "output_type": "display_data"
    }
   ],
   "source": [
    "fig, ax = pyplot.figure(dpi=100), pyplot.axes()\n",
    "ax.plot(epochs, weights)"
   ]
  },
  {
   "cell_type": "markdown",
   "metadata": {},
   "source": [
    "## Stochastic gradient descent"
   ]
  },
  {
   "cell_type": "code",
   "execution_count": 9,
   "metadata": {},
   "outputs": [
    {
     "data": {
      "text/plain": [
       "array([[1.92496954],\n",
       "       [8.92747942]])"
      ]
     },
     "execution_count": 9,
     "metadata": {},
     "output_type": "execute_result"
    }
   ],
   "source": [
    "epochs = 10\n",
    "t0, t1 = 5, 50 # learning schedule parameters\n",
    "\n",
    "def learning_rate_schedule(t):\n",
    "    \"\"\"Decrease learning rate as training progresses\"\"\"\n",
    "    return t0/(t+t1)\n",
    "\n",
    "weights = numpy.random.randn(2,1)\n",
    "m = len(X_train)\n",
    "\n",
    "for epoch in range (epochs):\n",
    "    for i in range(m):\n",
    "        random_index = numpy.random.randint(m)\n",
    "        x_i = X_train[random_index:random_index+1]\n",
    "        y_i = y_train[random_index:random_index+1]\n",
    "        gradients = 2*x_i.T.dot(x_i.dot(weights) - y_i)\n",
    "        eta = learning_rate_schedule(epoch* + i)\n",
    "        weights -= eta*gradients\n",
    "\n",
    "weights"
   ]
  }
 ],
 "metadata": {
  "interpreter": {
   "hash": "e51c63e2fa96bdee1d022b3260efb3b75a99f074551b3f9632d2fa65f13bcac4"
  },
  "kernelspec": {
   "display_name": "Python 3.9.9 ('machine-learning-8KGYMX4H')",
   "language": "python",
   "name": "python3"
  },
  "language_info": {
   "codemirror_mode": {
    "name": "ipython",
    "version": 3
   },
   "file_extension": ".py",
   "mimetype": "text/x-python",
   "name": "python",
   "nbconvert_exporter": "python",
   "pygments_lexer": "ipython3",
   "version": "3.9.9"
  },
  "orig_nbformat": 4
 },
 "nbformat": 4,
 "nbformat_minor": 2
}
